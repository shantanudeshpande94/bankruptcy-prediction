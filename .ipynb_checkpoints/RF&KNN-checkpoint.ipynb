{
 "cells": [
  {
   "cell_type": "code",
   "execution_count": 1,
   "metadata": {},
   "outputs": [],
   "source": [
    "import scipy as sp\n",
    "import numpy as np\n",
    "import pandas as pd\n",
    "import pandas_profiling as pp\n",
    "from collections import Counter\n",
    "#from imblearn.datasets import fetch_datasets\n",
    "from sklearn import datasets, linear_model\n",
    "from sklearn.model_selection import train_test_split\n",
    "from sklearn.pipeline import make_pipeline\n",
    "from imblearn.pipeline import make_pipeline as make_pipeline_imb\n",
    "from imblearn.over_sampling import SMOTE\n",
    "from imblearn.metrics import classification_report_imbalanced\n",
    "from matplotlib import pyplot as plt\n",
    "\n",
    "\n",
    "\n",
    "#loading csv into dataframe\n",
    "\n",
    "url = 'https://raw.githubusercontent.com/shantanudeshpande94/bankruptcy-prediction/master/1year.csv'\n",
    "df1 = pd.read_csv(url)"
   ]
  },
  {
   "cell_type": "markdown",
   "metadata": {},
   "source": [
    "# DATA CLEANING"
   ]
  },
  {
   "cell_type": "code",
   "execution_count": 2,
   "metadata": {
    "collapsed": true
   },
   "outputs": [
    {
     "data": {
      "text/plain": [
       "Attr1        0.034660\n",
       "Attr2        0.560215\n",
       "Attr3        0.119969\n",
       "Attr4        2.629143\n",
       "Attr5     -263.167247\n",
       "             ...     \n",
       "Attr61      15.642228\n",
       "Attr62    4763.201955\n",
       "Attr63       8.126852\n",
       "Attr64     208.731950\n",
       "class        0.038566\n",
       "Length: 65, dtype: float64"
      ]
     },
     "execution_count": 2,
     "metadata": {},
     "output_type": "execute_result"
    }
   ],
   "source": [
    "#to replace '?' with NA values\n",
    "\n",
    "df1.replace({'?': None},inplace =True)\n",
    "\n",
    "#to check null values in a column\n",
    "\n",
    "df1.isna().sum()\n",
    "\n",
    "#converting from object to float64\n",
    "# df1 = df1.convert_objects(convert_numeric=True)\n",
    "\n",
    "df1['Attr1'] = pd.to_numeric(df1['Attr1'])\n",
    "df1['Attr2'] = pd.to_numeric(df1['Attr2'])\n",
    "df1['Attr3'] = pd.to_numeric(df1['Attr3'])\n",
    "df1['Attr4'] = pd.to_numeric(df1['Attr4'])\n",
    "df1['Attr5'] = pd.to_numeric(df1['Attr5'])\n",
    "df1['Attr6'] = pd.to_numeric(df1['Attr6'])\n",
    "df1['Attr7'] = pd.to_numeric(df1['Attr7'])\n",
    "df1['Attr8'] = pd.to_numeric(df1['Attr8'])\n",
    "df1['Attr9'] = pd.to_numeric(df1['Attr9'])\n",
    "df1['Attr10'] = pd.to_numeric(df1['Attr10'])\n",
    "df1['Attr11'] = pd.to_numeric(df1['Attr11'])\n",
    "df1['Attr12'] = pd.to_numeric(df1['Attr12'])\n",
    "df1['Attr13'] = pd.to_numeric(df1['Attr13'])\n",
    "df1['Attr14'] = pd.to_numeric(df1['Attr14'])\n",
    "df1['Attr15'] = pd.to_numeric(df1['Attr15'])\n",
    "df1['Attr16'] = pd.to_numeric(df1['Attr16'])\n",
    "df1['Attr17'] = pd.to_numeric(df1['Attr17'])\n",
    "df1['Attr18'] = pd.to_numeric(df1['Attr18'])\n",
    "df1['Attr19'] = pd.to_numeric(df1['Attr19'])\n",
    "df1['Attr20'] = pd.to_numeric(df1['Attr20'])\n",
    "df1['Attr21'] = pd.to_numeric(df1['Attr21'])\n",
    "df1['Attr22'] = pd.to_numeric(df1['Attr22'])\n",
    "df1['Attr23'] = pd.to_numeric(df1['Attr23'])\n",
    "df1['Attr24'] = pd.to_numeric(df1['Attr24'])\n",
    "df1['Attr25'] = pd.to_numeric(df1['Attr25'])\n",
    "df1['Attr26'] = pd.to_numeric(df1['Attr26'])\n",
    "df1['Attr27'] = pd.to_numeric(df1['Attr27'])\n",
    "df1['Attr28'] = pd.to_numeric(df1['Attr28'])\n",
    "df1['Attr29'] = pd.to_numeric(df1['Attr29'])\n",
    "df1['Attr30'] = pd.to_numeric(df1['Attr30'])\n",
    "df1['Attr31'] = pd.to_numeric(df1['Attr31'])\n",
    "df1['Attr32'] = pd.to_numeric(df1['Attr32'])\n",
    "df1['Attr33'] = pd.to_numeric(df1['Attr33'])\n",
    "df1['Attr34'] = pd.to_numeric(df1['Attr34'])\n",
    "df1['Attr35'] = pd.to_numeric(df1['Attr35'])\n",
    "df1['Attr36'] = pd.to_numeric(df1['Attr36'])\n",
    "df1['Attr37'] = pd.to_numeric(df1['Attr37'])\n",
    "df1['Attr38'] = pd.to_numeric(df1['Attr38'])\n",
    "df1['Attr39'] = pd.to_numeric(df1['Attr39'])\n",
    "df1['Attr40'] = pd.to_numeric(df1['Attr40'])\n",
    "df1['Attr41'] = pd.to_numeric(df1['Attr41'])\n",
    "df1['Attr42'] = pd.to_numeric(df1['Attr42'])\n",
    "df1['Attr43'] = pd.to_numeric(df1['Attr43'])\n",
    "df1['Attr44'] = pd.to_numeric(df1['Attr44'])\n",
    "df1['Attr45'] = pd.to_numeric(df1['Attr45'])\n",
    "df1['Attr46'] = pd.to_numeric(df1['Attr46'])\n",
    "df1['Attr47'] = pd.to_numeric(df1['Attr47'])\n",
    "df1['Attr48'] = pd.to_numeric(df1['Attr48'])\n",
    "df1['Attr49'] = pd.to_numeric(df1['Attr49'])\n",
    "df1['Attr50'] = pd.to_numeric(df1['Attr50'])\n",
    "df1['Attr51'] = pd.to_numeric(df1['Attr51'])\n",
    "df1['Attr52'] = pd.to_numeric(df1['Attr52'])\n",
    "df1['Attr53'] = pd.to_numeric(df1['Attr53'])\n",
    "df1['Attr54'] = pd.to_numeric(df1['Attr54'])\n",
    "df1['Attr55'] = pd.to_numeric(df1['Attr55'])\n",
    "df1['Attr56'] = pd.to_numeric(df1['Attr56'])\n",
    "df1['Attr57'] = pd.to_numeric(df1['Attr57'])\n",
    "df1['Attr58'] = pd.to_numeric(df1['Attr58'])\n",
    "df1['Attr59'] = pd.to_numeric(df1['Attr59'])\n",
    "df1['Attr60'] = pd.to_numeric(df1['Attr60'])\n",
    "df1['Attr61'] = pd.to_numeric(df1['Attr61'])\n",
    "df1['Attr62'] = pd.to_numeric(df1['Attr62'])\n",
    "df1['Attr63'] = pd.to_numeric(df1['Attr63'])\n",
    "df1['Attr64'] = pd.to_numeric(df1['Attr64'])\n",
    "\n",
    "df1.dtypes\n",
    "\n",
    "df1.mean()\n"
   ]
  },
  {
   "cell_type": "code",
   "execution_count": 3,
   "metadata": {},
   "outputs": [],
   "source": [
    "# dropping duplicate values \n",
    "\n",
    "df1.drop_duplicates(keep=False,inplace=True) "
   ]
  },
  {
   "cell_type": "code",
   "execution_count": 4,
   "metadata": {},
   "outputs": [],
   "source": [
    "#delete because of large number of missing values\n",
    "\n",
    "del df1['Attr21']\n",
    "del df1['Attr37']\n",
    "\n",
    "#delete because of high correlation\n",
    "\n",
    "df1 = df1.drop(['Attr14','Attr17','Attr18','Attr20','Attr22','Attr23','Attr24','Attr26',\n",
    "        'Attr30','Attr31','Attr34','Attr38','Attr39','Attr40','Attr42','Attr43','Attr44','Attr46','Attr48',\n",
    "        'Attr51','Attr52','Attr54','Attr56','Attr58','Attr61','Attr62','Attr63','Attr64','Attr7','Attr8','Attr9'], axis = 1)"
   ]
  },
  {
   "cell_type": "code",
   "execution_count": 5,
   "metadata": {},
   "outputs": [],
   "source": [
    "#imputing missing values by mean\n",
    "\n",
    "df1.fillna(df1.mean(), inplace=True)"
   ]
  },
  {
   "cell_type": "code",
   "execution_count": 6,
   "metadata": {
    "collapsed": true
   },
   "outputs": [
    {
     "data": {
      "text/plain": [
       "Attr1     0\n",
       "Attr2     0\n",
       "Attr3     0\n",
       "Attr4     0\n",
       "Attr5     0\n",
       "Attr6     0\n",
       "Attr10    0\n",
       "Attr11    0\n",
       "Attr12    0\n",
       "Attr13    0\n",
       "Attr15    0\n",
       "Attr16    0\n",
       "Attr19    0\n",
       "Attr25    0\n",
       "Attr27    0\n",
       "Attr28    0\n",
       "Attr29    0\n",
       "Attr32    0\n",
       "Attr33    0\n",
       "Attr35    0\n",
       "Attr36    0\n",
       "Attr41    0\n",
       "Attr45    0\n",
       "Attr47    0\n",
       "Attr49    0\n",
       "Attr50    0\n",
       "Attr53    0\n",
       "Attr55    0\n",
       "Attr57    0\n",
       "Attr59    0\n",
       "Attr60    0\n",
       "class     0\n",
       "dtype: int64"
      ]
     },
     "execution_count": 6,
     "metadata": {},
     "output_type": "execute_result"
    }
   ],
   "source": [
    "#number of missing values\n",
    "\n",
    "df1.isna().sum()"
   ]
  },
  {
   "cell_type": "markdown",
   "metadata": {},
   "source": [
    "# FEATURE SELECTION USING BORUTA"
   ]
  },
  {
   "cell_type": "code",
   "execution_count": 7,
   "metadata": {},
   "outputs": [],
   "source": [
    "import numpy as np \n",
    "import pandas as pd \n",
    "from sklearn.ensemble import RandomForestClassifier\n",
    "from boruta import BorutaPy\n",
    "from sklearn.impute import SimpleImputer"
   ]
  },
  {
   "cell_type": "code",
   "execution_count": 8,
   "metadata": {},
   "outputs": [],
   "source": [
    "\n",
    "# Create a list of feature names\n",
    "feat_labels = ['Attr1','Attr2','Attr3','Attr4','Attr5','Attr6','Attr10',\n",
    "              'Attr11','Attr12','Attr13','Attr15','Attr16','Attr19',\n",
    "              'Attr25','Attr27','Attr28','Attr29',\n",
    "              'Attr32','Attr33','Attr35','Attr36',\n",
    "              'Attr41','Attr45','Attr47','Attr49','Attr50',\n",
    "              'Attr53','Attr55','Attr57','Attr59','Attr60',\n",
    "              ]\n"
   ]
  },
  {
   "cell_type": "code",
   "execution_count": 9,
   "metadata": {},
   "outputs": [
    {
     "name": "stdout",
     "output_type": "stream",
     "text": [
      "Iteration: \t1 / 50\n",
      "Confirmed: \t0\n",
      "Tentative: \t31\n",
      "Rejected: \t0\n",
      "Iteration: \t2 / 50\n",
      "Confirmed: \t0\n",
      "Tentative: \t31\n",
      "Rejected: \t0\n",
      "Iteration: \t3 / 50\n",
      "Confirmed: \t0\n",
      "Tentative: \t31\n",
      "Rejected: \t0\n",
      "Iteration: \t4 / 50\n",
      "Confirmed: \t0\n",
      "Tentative: \t31\n",
      "Rejected: \t0\n",
      "Iteration: \t5 / 50\n",
      "Confirmed: \t0\n",
      "Tentative: \t31\n",
      "Rejected: \t0\n",
      "Iteration: \t6 / 50\n",
      "Confirmed: \t0\n",
      "Tentative: \t31\n",
      "Rejected: \t0\n",
      "Iteration: \t7 / 50\n",
      "Confirmed: \t0\n",
      "Tentative: \t31\n",
      "Rejected: \t0\n",
      "Iteration: \t8 / 50\n",
      "Confirmed: \t26\n",
      "Tentative: \t5\n",
      "Rejected: \t0\n",
      "Iteration: \t9 / 50\n",
      "Confirmed: \t26\n",
      "Tentative: \t5\n",
      "Rejected: \t0\n",
      "Iteration: \t10 / 50\n",
      "Confirmed: \t26\n",
      "Tentative: \t4\n",
      "Rejected: \t1\n",
      "Iteration: \t11 / 50\n",
      "Confirmed: \t26\n",
      "Tentative: \t4\n",
      "Rejected: \t1\n",
      "Iteration: \t12 / 50\n",
      "Confirmed: \t26\n",
      "Tentative: \t4\n",
      "Rejected: \t1\n",
      "Iteration: \t13 / 50\n",
      "Confirmed: \t26\n",
      "Tentative: \t4\n",
      "Rejected: \t1\n",
      "Iteration: \t14 / 50\n",
      "Confirmed: \t26\n",
      "Tentative: \t4\n",
      "Rejected: \t1\n",
      "Iteration: \t15 / 50\n",
      "Confirmed: \t26\n",
      "Tentative: \t4\n",
      "Rejected: \t1\n",
      "Iteration: \t16 / 50\n",
      "Confirmed: \t26\n",
      "Tentative: \t4\n",
      "Rejected: \t1\n",
      "Iteration: \t17 / 50\n",
      "Confirmed: \t26\n",
      "Tentative: \t3\n",
      "Rejected: \t2\n",
      "Iteration: \t18 / 50\n",
      "Confirmed: \t26\n",
      "Tentative: \t3\n",
      "Rejected: \t2\n",
      "Iteration: \t19 / 50\n",
      "Confirmed: \t26\n",
      "Tentative: \t3\n",
      "Rejected: \t2\n",
      "Iteration: \t20 / 50\n",
      "Confirmed: \t26\n",
      "Tentative: \t3\n",
      "Rejected: \t2\n",
      "Iteration: \t21 / 50\n",
      "Confirmed: \t26\n",
      "Tentative: \t3\n",
      "Rejected: \t2\n",
      "Iteration: \t22 / 50\n",
      "Confirmed: \t26\n",
      "Tentative: \t3\n",
      "Rejected: \t2\n",
      "Iteration: \t23 / 50\n",
      "Confirmed: \t26\n",
      "Tentative: \t3\n",
      "Rejected: \t2\n",
      "Iteration: \t24 / 50\n",
      "Confirmed: \t26\n",
      "Tentative: \t3\n",
      "Rejected: \t2\n",
      "Iteration: \t25 / 50\n",
      "Confirmed: \t26\n",
      "Tentative: \t3\n",
      "Rejected: \t2\n",
      "Iteration: \t26 / 50\n",
      "Confirmed: \t26\n",
      "Tentative: \t3\n",
      "Rejected: \t2\n",
      "Iteration: \t27 / 50\n",
      "Confirmed: \t26\n",
      "Tentative: \t3\n",
      "Rejected: \t2\n",
      "Iteration: \t28 / 50\n",
      "Confirmed: \t26\n",
      "Tentative: \t3\n",
      "Rejected: \t2\n",
      "Iteration: \t29 / 50\n",
      "Confirmed: \t26\n",
      "Tentative: \t3\n",
      "Rejected: \t2\n",
      "Iteration: \t30 / 50\n",
      "Confirmed: \t26\n",
      "Tentative: \t3\n",
      "Rejected: \t2\n",
      "Iteration: \t31 / 50\n",
      "Confirmed: \t26\n",
      "Tentative: \t3\n",
      "Rejected: \t2\n",
      "Iteration: \t32 / 50\n",
      "Confirmed: \t26\n",
      "Tentative: \t3\n",
      "Rejected: \t2\n",
      "Iteration: \t33 / 50\n",
      "Confirmed: \t26\n",
      "Tentative: \t3\n",
      "Rejected: \t2\n",
      "Iteration: \t34 / 50\n",
      "Confirmed: \t26\n",
      "Tentative: \t3\n",
      "Rejected: \t2\n",
      "Iteration: \t35 / 50\n",
      "Confirmed: \t26\n",
      "Tentative: \t3\n",
      "Rejected: \t2\n",
      "Iteration: \t36 / 50\n",
      "Confirmed: \t26\n",
      "Tentative: \t3\n",
      "Rejected: \t2\n",
      "Iteration: \t37 / 50\n",
      "Confirmed: \t26\n",
      "Tentative: \t3\n",
      "Rejected: \t2\n",
      "Iteration: \t38 / 50\n",
      "Confirmed: \t26\n",
      "Tentative: \t3\n",
      "Rejected: \t2\n",
      "Iteration: \t39 / 50\n",
      "Confirmed: \t26\n",
      "Tentative: \t3\n",
      "Rejected: \t2\n",
      "Iteration: \t40 / 50\n",
      "Confirmed: \t26\n",
      "Tentative: \t3\n",
      "Rejected: \t2\n",
      "Iteration: \t41 / 50\n",
      "Confirmed: \t26\n",
      "Tentative: \t3\n",
      "Rejected: \t2\n",
      "Iteration: \t42 / 50\n",
      "Confirmed: \t26\n",
      "Tentative: \t3\n",
      "Rejected: \t2\n",
      "Iteration: \t43 / 50\n",
      "Confirmed: \t26\n",
      "Tentative: \t3\n",
      "Rejected: \t2\n",
      "Iteration: \t44 / 50\n",
      "Confirmed: \t26\n",
      "Tentative: \t3\n",
      "Rejected: \t2\n",
      "Iteration: \t45 / 50\n",
      "Confirmed: \t26\n",
      "Tentative: \t3\n",
      "Rejected: \t2\n",
      "Iteration: \t46 / 50\n",
      "Confirmed: \t26\n",
      "Tentative: \t3\n",
      "Rejected: \t2\n",
      "Iteration: \t47 / 50\n",
      "Confirmed: \t26\n",
      "Tentative: \t3\n",
      "Rejected: \t2\n",
      "Iteration: \t48 / 50\n",
      "Confirmed: \t26\n",
      "Tentative: \t3\n",
      "Rejected: \t2\n",
      "Iteration: \t49 / 50\n",
      "Confirmed: \t26\n",
      "Tentative: \t3\n",
      "Rejected: \t2\n",
      "\n",
      "\n",
      "BorutaPy finished running.\n",
      "\n",
      "Iteration: \t50 / 50\n",
      "Confirmed: \t26\n",
      "Tentative: \t1\n",
      "Rejected: \t2\n"
     ]
    },
    {
     "data": {
      "text/plain": [
       "BorutaPy(alpha=0.05,\n",
       "         estimator=RandomForestClassifier(bootstrap=True,\n",
       "                                          class_weight='balanced',\n",
       "                                          criterion='gini', max_depth=5,\n",
       "                                          max_features='auto',\n",
       "                                          max_leaf_nodes=None,\n",
       "                                          min_impurity_decrease=0.0,\n",
       "                                          min_impurity_split=None,\n",
       "                                          min_samples_leaf=1,\n",
       "                                          min_samples_split=2,\n",
       "                                          min_weight_fraction_leaf=0.0,\n",
       "                                          n_estimators=152, n_jobs=-1,\n",
       "                                          oob_score=False,\n",
       "                                          random_state=RandomState(MT19937) at 0x1FEB8C70A98,\n",
       "                                          verbose=0, warm_start=False),\n",
       "         max_iter=50, n_estimators='auto', perc=90,\n",
       "         random_state=RandomState(MT19937) at 0x1FEB8C70A98, two_step=True,\n",
       "         verbose=2)"
      ]
     },
     "execution_count": 9,
     "metadata": {},
     "output_type": "execute_result"
    }
   ],
   "source": [
    "#Create X from the features\n",
    "X = df1[feat_labels].values\n",
    "#X = df1.iloc[:,:31]\n",
    "\n",
    "# Create y from output\n",
    "y = df1['class'].values.ravel()\n",
    "#y = df1.iloc[:,31]\n",
    "\n",
    "#setup the RandomForrestClassifier as the estimator to use for Boruta\n",
    "rf = RandomForestClassifier(n_jobs=-1, class_weight='balanced', max_depth=5)\n",
    "\n",
    "#Setup Boruta\n",
    "boruta_feature_selector = BorutaPy(rf, n_estimators='auto', verbose=2, random_state=4242, max_iter = 50, perc = 90)\n",
    "boruta_feature_selector.fit(X, y)"
   ]
  },
  {
   "cell_type": "code",
   "execution_count": 10,
   "metadata": {},
   "outputs": [
    {
     "data": {
      "text/plain": [
       "(6863, 26)"
      ]
     },
     "execution_count": 10,
     "metadata": {},
     "output_type": "execute_result"
    }
   ],
   "source": [
    "#Boruta has run now we can transform our dataset\n",
    "\n",
    "X_filtered = boruta_feature_selector.transform(X)\n",
    "X_filtered.shape"
   ]
  },
  {
   "cell_type": "code",
   "execution_count": 11,
   "metadata": {},
   "outputs": [],
   "source": [
    "#converting X_filtered to Dataframe\n",
    "\n",
    "X_filtered = pd.DataFrame(data=X_filtered,\n",
    "          index=np.arange(1, 6864),\n",
    "          columns=np.arange(1, 27))\n",
    "\n",
    "#y = pd.DataFrame(data=y,\n",
    " #         index=np.arange(1, 6864),\n",
    "  #        columns=np.arange(1, 2))"
   ]
  },
  {
   "cell_type": "code",
   "execution_count": 12,
   "metadata": {},
   "outputs": [
    {
     "name": "stdout",
     "output_type": "stream",
     "text": [
      "['Attr1', 'Attr2', 'Attr3', 'Attr4', 'Attr5', 'Attr6', 'Attr10', 'Attr11', 'Attr12', 'Attr13', 'Attr15', 'Attr16', 'Attr19', 'Attr25', 'Attr27', 'Attr28', 'Attr29', 'Attr35', 'Attr41', 'Attr45', 'Attr47', 'Attr49', 'Attr50', 'Attr53', 'Attr55', 'Attr57']\n"
     ]
    }
   ],
   "source": [
    "#create a list of the feature names if we would like to use them at a later stage.\n",
    "\n",
    "final_features = list()\n",
    "indexes = np.where(boruta_feature_selector.support_ == True)\n",
    "for x in np.nditer(indexes):\n",
    "    final_features.append(feat_labels[x])\n",
    "print(final_features)"
   ]
  },
  {
   "cell_type": "markdown",
   "metadata": {},
   "source": [
    "# SMOTE+ENN TECHNIQUE"
   ]
  },
  {
   "cell_type": "code",
   "execution_count": 13,
   "metadata": {},
   "outputs": [],
   "source": [
    "# Split the data into 20% test and 80% training\n",
    "X_train, X_test, y_train, y_test = train_test_split(X_filtered, y, test_size=0.2, random_state=0)"
   ]
  },
  {
   "cell_type": "code",
   "execution_count": 14,
   "metadata": {},
   "outputs": [
    {
     "data": {
      "text/plain": [
       "0    6592\n",
       "1     271\n",
       "Name: class, dtype: int64"
      ]
     },
     "execution_count": 14,
     "metadata": {},
     "output_type": "execute_result"
    },
    {
     "data": {
      "image/png": "[encoded data removed]",
      "text/plain": [
       "<Figure size 432x288 with 1 Axes>"
      ]
     },
     "metadata": {
      "needs_background": "light"
     },
     "output_type": "display_data"
    }
   ],
   "source": [
    "import matplotlib.pyplot as plt\n",
    "\n",
    "pd.value_counts(df1['class']).plot.bar()\n",
    "plt.title('Bankruptcy class histogram')\n",
    "plt.xlabel('Class')\n",
    "plt.ylabel('Frequency')\n",
    "df1['class'].value_counts()"
   ]
  },
  {
   "cell_type": "code",
   "execution_count": 15,
   "metadata": {},
   "outputs": [
    {
     "name": "stdout",
     "output_type": "stream",
     "text": [
      "Original dataset shape Counter({0: 5264, 1: 226})\n",
      "Resampled dataset shape Counter({1: 4271, 0: 3735})\n"
     ]
    }
   ],
   "source": [
    "#SMOTE+ENN Technique\n",
    "\n",
    "from imblearn.combine import SMOTEENN\n",
    "sme = SMOTEENN(random_state=0)\n",
    "\n",
    "columns = X_train.columns\n",
    "\n",
    "X_res, y_res = sme.fit_resample(X_train, y_train)\n",
    "\n",
    "#X_res = pd.DataFrame(data=X_res,columns=columns)\n",
    "#y_res = pd.DataFrame(data=y_res,columns=['y'])\n",
    "\n",
    "\n",
    "print('Original dataset shape %s' % Counter(y_train))\n",
    "print('Resampled dataset shape %s' % Counter(y_res))"
   ]
  },
  {
   "cell_type": "markdown",
   "metadata": {},
   "source": [
    "# BUILDING RANDOM FOREST MODEL"
   ]
  },
  {
   "cell_type": "code",
   "execution_count": 16,
   "metadata": {},
   "outputs": [
    {
     "data": {
      "text/plain": [
       "RandomForestClassifier(bootstrap=True, class_weight=None, criterion='gini',\n",
       "                       max_depth=None, max_features='auto', max_leaf_nodes=None,\n",
       "                       min_impurity_decrease=0.0, min_impurity_split=None,\n",
       "                       min_samples_leaf=1, min_samples_split=2,\n",
       "                       min_weight_fraction_leaf=0.0, n_estimators=10000,\n",
       "                       n_jobs=-1, oob_score=False, random_state=0, verbose=0,\n",
       "                       warm_start=False)"
      ]
     },
     "execution_count": 16,
     "metadata": {},
     "output_type": "execute_result"
    }
   ],
   "source": [
    "# Create a new random forest classifier for the most important features\n",
    "clf_important = RandomForestClassifier(n_estimators=10000, random_state=0, n_jobs=-1)\n",
    "\n",
    "# Train the new classifier on the new dataset containing the most important features\n",
    "clf_important.fit(X_res, y_res)"
   ]
  },
  {
   "cell_type": "code",
   "execution_count": 17,
   "metadata": {},
   "outputs": [
    {
     "data": {
      "text/plain": [
       "0.9373634377276038"
      ]
     },
     "execution_count": 17,
     "metadata": {},
     "output_type": "execute_result"
    }
   ],
   "source": [
    "from sklearn.metrics import accuracy_score\n",
    "\n",
    "# Apply The Full Featured Classifier To The Limited feature Test Data\n",
    "y_important_pred = clf_important.predict(X_test)\n",
    "\n",
    "# View The Accuracy Of Our Limited Feature Model\n",
    "accuracy_score(y_test, y_important_pred)"
   ]
  },
  {
   "cell_type": "code",
   "execution_count": 18,
   "metadata": {},
   "outputs": [
    {
     "data": {
      "text/plain": [
       "array([[1264,   64],\n",
       "       [  22,   23]], dtype=int64)"
      ]
     },
     "execution_count": 18,
     "metadata": {},
     "output_type": "execute_result"
    }
   ],
   "source": [
    "from sklearn.metrics import confusion_matrix\n",
    "\n",
    "confusion_matrix(y_test, y_important_pred)"
   ]
  },
  {
   "cell_type": "code",
   "execution_count": 24,
   "metadata": {},
   "outputs": [
    {
     "name": "stdout",
     "output_type": "stream",
     "text": [
      "Predict    0          1          \n",
      "Actual\n",
      "0          1264       64         \n",
      "\n",
      "1          22         23         \n",
      "\n",
      "\n",
      "\n",
      "\n",
      "\n",
      "Overall Statistics : \n",
      "\n",
      "95% CI                                                            (0.92455,0.95018)\n",
      "ACC Macro                                                         0.93736\n",
      "AUNP                                                              0.73146\n",
      "AUNU                                                              0.73146\n",
      "Bennett S                                                         0.87473\n",
      "CBA                                                               0.60809\n",
      "CSI                                                               0.35509\n",
      "Chi-Squared                                                       157.15553\n",
      "Chi-Squared DF                                                    1\n",
      "Conditional Entropy                                               0.3023\n",
      "Cramer V                                                          0.33832\n",
      "Cross Entropy                                                     0.2218\n",
      "F1 Macro                                                          0.65779\n",
      "F1 Micro                                                          0.93736\n",
      "Gwet AC1                                                          0.93105\n",
      "Hamming Loss                                                      0.06264\n",
      "Joint Entropy                                                     0.51042\n",
      "KL Divergence                                                     0.01367\n",
      "Kappa                                                             0.31907\n",
      "Kappa 95% CI                                                      (0.17973,0.4584)\n",
      "Kappa No Prevalence                                               0.87473\n",
      "Kappa Standard Error                                              0.07109\n",
      "Kappa Unbiased                                                    0.31559\n",
      "Lambda A                                                          0.0\n",
      "Lambda B                                                          0.01149\n",
      "Mutual Information                                                0.03836\n",
      "NIR                                                               0.96723\n",
      "Overall ACC                                                       0.93736\n",
      "Overall CEN                                                       0.22501\n",
      "Overall J                                                         (1.14731,0.57365)\n",
      "Overall MCC                                                       0.33832\n",
      "Overall MCEN                                                      0.1865\n",
      "Overall RACC                                                      0.90801\n",
      "Overall RACCU                                                     0.90848\n",
      "P-Value                                                           None\n",
      "PPV Macro                                                         0.62363\n",
      "PPV Micro                                                         0.93736\n",
      "Pearson C                                                         0.32048\n",
      "Phi-Squared                                                       0.11446\n",
      "RCI                                                               0.18432\n",
      "RR                                                                686.5\n",
      "Reference Entropy                                                 0.20812\n",
      "Response Entropy                                                  0.34066\n",
      "SOA1(Landis & Koch)                                               Fair\n",
      "SOA2(Fleiss)                                                      Poor\n",
      "SOA3(Altman)                                                      Fair\n",
      "SOA4(Cicchetti)                                                   Poor\n",
      "SOA5(Cramer)                                                      Moderate\n",
      "SOA6(Matthews)                                                    Weak\n",
      "Scott PI                                                          0.31559\n",
      "Standard Error                                                    0.00654\n",
      "TPR Macro                                                         0.73146\n",
      "TPR Micro                                                         0.93736\n",
      "Zero-one Loss                                                     86\n",
      "\n",
      "Class Statistics :\n",
      "\n",
      "Classes                                                           0             1             \n",
      "ACC(Accuracy)                                                     0.93736       0.93736       \n",
      "AGF(Adjusted F-score)                                             0.52943       0.64853       \n",
      "AGM(Adjusted geometric mean)                                      0.69157       0.82253       \n",
      "AM(Difference between automatic and manual classification)        -42           42            \n",
      "AUC(Area under the ROC curve)                                     0.73146       0.73146       \n",
      "AUCI(AUC value interpretation)                                    Good          Good          \n",
      "AUPR(Area under the PR curve)                                     0.96735       0.38774       \n",
      "BCD(Bray-Curtis dissimilarity)                                    0.01529       0.01529       \n",
      "BM(Informedness or bookmaker informedness)                        0.46292       0.46292       \n",
      "CEN(Confusion entropy)                                            0.18905       0.9372        \n",
      "DOR(Diagnostic odds ratio)                                        20.64773      20.64773      \n",
      "DP(Discriminant power)                                            0.72493       0.72493       \n",
      "DPI(Discriminant power interpretation)                            Poor          Poor          \n",
      "ERR(Error rate)                                                   0.06264       0.06264       \n",
      "F0.5(F0.5 score)                                                  0.97651       0.29262       \n",
      "F1(F1 score - harmonic mean of precision and sensitivity)         0.9671        0.34848       \n",
      "F2(F2 score)                                                      0.95787       0.43071       \n",
      "FDR(False discovery rate)                                         0.01711       0.73563       \n",
      "FN(False negative/miss/type 2 error)                              64            22            \n",
      "FNR(Miss rate or false negative rate)                             0.04819       0.48889       \n",
      "FOR(False omission rate)                                          0.73563       0.01711       \n",
      "FP(False positive/type 1 error/false alarm)                       22            64            \n",
      "FPR(Fall-out or false positive rate)                              0.48889       0.04819       \n",
      "G(G-measure geometric mean of precision and sensitivity)          0.96723       0.36759       \n",
      "GI(Gini index)                                                    0.46292       0.46292       \n",
      "GM(G-mean geometric mean of specificity and sensitivity)          0.69748       0.69748       \n",
      "IBA(Index of balanced accuracy)                                   0.70087       0.27209       \n",
      "ICSI(Individual classification success index)                     0.9347        -0.22452      \n",
      "IS(Information score)                                             0.02318       3.01188       \n",
      "J(Jaccard index)                                                  0.9363        0.21101       \n",
      "LS(Lift score)                                                    1.0162        8.06616       \n",
      "MCC(Matthews correlation coefficient)                             0.33832       0.33832       \n",
      "MCCI(Matthews correlation coefficient interpretation)             Weak          Weak          \n",
      "MCEN(Modified confusion entropy)                                  0.30532       0.91703       \n",
      "MK(Markedness)                                                    0.24726       0.24726       \n",
      "N(Condition negative)                                             45            1328          \n",
      "NLR(Negative likelihood ratio)                                    0.09429       0.51364       \n",
      "NLRI(Negative likelihood ratio interpretation)                    Good          Negligible    \n",
      "NPV(Negative predictive value)                                    0.26437       0.98289       \n",
      "OC(Overlap coefficient)                                           0.98289       0.51111       \n",
      "OOC(Otsuka-Ochiai coefficient)                                    0.96723       0.36759       \n",
      "OP(Optimized precision)                                           0.63612       0.63612       \n",
      "P(Condition positive or support)                                  1328          45            \n",
      "PLR(Positive likelihood ratio)                                    1.94688       10.60556      \n",
      "PLRI(Positive likelihood ratio interpretation)                    Poor          Good          \n",
      "POP(Population)                                                   1373          1373          \n",
      "PPV(Precision or positive predictive value)                       0.98289       0.26437       \n",
      "PRE(Prevalence)                                                   0.96723       0.03277       \n",
      "Q(Yule Q - coefficient of colligation)                            0.90761       0.90761       \n",
      "RACC(Random accuracy)                                             0.90594       0.00208       \n",
      "RACCU(Random accuracy unbiased)                                   0.90617       0.00231       \n",
      "TN(True negative/correct rejection)                               23            1264          \n",
      "TNR(Specificity or true negative rate)                            0.51111       0.95181       \n",
      "TON(Test outcome negative)                                        87            1286          \n",
      "TOP(Test outcome positive)                                        1286          87            \n",
      "TP(True positive/hit)                                             1264          23            \n",
      "TPR(Sensitivity, recall, hit rate, or true positive rate)         0.95181       0.51111       \n",
      "Y(Youden index)                                                   0.46292       0.46292       \n",
      "dInd(Distance index)                                              0.49126       0.49126       \n",
      "sInd(Similarity index)                                            0.65263       0.65263       \n",
      "\n"
     ]
    }
   ],
   "source": [
    "from pycm import *\n",
    "\n",
    "cm = ConfusionMatrix(actual_vector=y_test, predict_vector=y_important_pred) # Create CM From Data\n",
    "cm.table\n",
    "print(cm)"
   ]
  },
  {
   "cell_type": "code",
   "execution_count": 20,
   "metadata": {},
   "outputs": [
    {
     "name": "stdout",
     "output_type": "stream",
     "text": [
      "True Negatives:  23\n",
      "False Positives:  64\n",
      "False Negatives:  22\n",
      "True Positives:  1264\n"
     ]
    }
   ],
   "source": [
    "from sklearn.metrics import confusion_matrix\n",
    "\n",
    "tp, fp, fn, tn = confusion_matrix(y_test, y_important_pred).ravel()\n",
    "print(\"True Negatives: \",tn)\n",
    "print(\"False Positives: \",fp)\n",
    "print(\"False Negatives: \",fn)\n",
    "print(\"True Positives: \",tp)"
   ]
  },
  {
   "cell_type": "code",
   "execution_count": 21,
   "metadata": {},
   "outputs": [
    {
     "name": "stdout",
     "output_type": "stream",
     "text": [
      "Precision 0.95\n",
      "Recall 0.98\n",
      "F1 Score 0.97\n"
     ]
    }
   ],
   "source": [
    "#Precision \n",
    "Precision = tp/(tp+fp) \n",
    "print(\"Precision {:0.2f}\".format(Precision))\n",
    "\n",
    "#Recall \n",
    "Recall = tp/(tp+fn) \n",
    "print(\"Recall {:0.2f}\".format(Recall))\n",
    "\n",
    "#F1 Score\n",
    "f1 = (2*(Precision*Recall)/(Precision + Recall))\n",
    "print(\"F1 Score {:0.2f}\".format(f1))"
   ]
  },
  {
   "cell_type": "markdown",
   "metadata": {},
   "source": [
    "# BUILDING DECISION TREE MODEL"
   ]
  },
  {
   "cell_type": "code",
   "execution_count": 26,
   "metadata": {},
   "outputs": [
    {
     "name": "stdout",
     "output_type": "stream",
     "text": [
      "Collecting pydot\n",
      "  Downloading https://files.pythonhosted.org/packages/33/d1/b1479a770f66d962f545c2101630ce1d5592d90cb4f083d38862e93d16d2/pydot-1.4.1-py2.py3-none-any.whl\n",
      "Requirement already satisfied: pyparsing>=2.1.4 in c:\\users\\shant\\appdata\\local\\programs\\python\\python37\\lib\\site-packages (from pydot) (2.4.4)\n",
      "Installing collected packages: pydot\n",
      "Successfully installed pydot-1.4.1\n"
     ]
    },
    {
     "name": "stderr",
     "output_type": "stream",
     "text": [
      "You are using pip version 18.1, however version 19.3.1 is available.\n",
      "You should consider upgrading via the 'python -m pip install --upgrade pip' command.\n"
     ]
    }
   ],
   "source": [
    "!pip install pydot"
   ]
  },
  {
   "cell_type": "code",
   "execution_count": 49,
   "metadata": {},
   "outputs": [],
   "source": [
    "# Load libraries\n",
    "import pandas as pd\n",
    "from sklearn.tree import DecisionTreeClassifier # Import Decision Tree Classifier\n",
    "from sklearn.model_selection import train_test_split # Import train_test_split function\n",
    "from sklearn import metrics #Import scikit-learn metrics module for accuracy calculation"
   ]
  },
  {
   "cell_type": "code",
   "execution_count": 47,
   "metadata": {},
   "outputs": [],
   "source": [
    "# Create Decision Tree classifer object\n",
    "clf = DecisionTreeClassifier()\n",
    "\n",
    "# Train Decision Tree Classifer\n",
    "clf = clf.fit(X_res, y_res)\n",
    "\n",
    "#Predict the response for test dataset\n",
    "y_pred = clf.predict(X_test)"
   ]
  },
  {
   "cell_type": "code",
   "execution_count": 51,
   "metadata": {},
   "outputs": [
    {
     "name": "stdout",
     "output_type": "stream",
     "text": [
      "Accuracy: 0.9067734887108522\n"
     ]
    }
   ],
   "source": [
    "# Model Accuracy, how often is the classifier correct?\n",
    "\n",
    "print(\"Accuracy:\",metrics.accuracy_score(y_test, y_pred))"
   ]
  },
  {
   "cell_type": "code",
   "execution_count": 54,
   "metadata": {},
   "outputs": [
    {
     "name": "stdout",
     "output_type": "stream",
     "text": [
      "Predict    0          1          \n",
      "Actual\n",
      "0          1219       109        \n",
      "\n",
      "1          19         26         \n",
      "\n",
      "\n",
      "\n",
      "\n",
      "\n",
      "Overall Statistics : \n",
      "\n",
      "95% CI                                                            (0.89139,0.92215)\n",
      "ACC Macro                                                         0.90677\n",
      "AUNP                                                              0.74785\n",
      "AUNU                                                              0.74785\n",
      "Bennett S                                                         0.81355\n",
      "CBA                                                               0.55526\n",
      "CSI                                                               0.33647\n",
      "Chi-Squared                                                       120.6323\n",
      "Chi-Squared DF                                                    1\n",
      "Conditional Entropy                                               0.42824\n",
      "Cramer V                                                          0.29641\n",
      "Cross Entropy                                                     0.2541\n",
      "F1 Macro                                                          0.6195\n",
      "F1 Micro                                                          0.90677\n",
      "Gwet AC1                                                          0.89376\n",
      "Hamming Loss                                                      0.09323\n",
      "Joint Entropy                                                     0.63636\n",
      "KL Divergence                                                     0.04598\n",
      "Kappa                                                             0.25212\n",
      "Kappa 95% CI                                                      (0.12875,0.3755)\n",
      "Kappa No Prevalence                                               0.81355\n",
      "Kappa Standard Error                                              0.06295\n",
      "Kappa Unbiased                                                    0.23901\n",
      "Lambda A                                                          0.0\n",
      "Lambda B                                                          0.05185\n",
      "Mutual Information                                                0.03542\n",
      "NIR                                                               0.96723\n",
      "Overall ACC                                                       0.90677\n",
      "Overall CEN                                                       0.28103\n",
      "Overall J                                                         (1.07381,0.5369)\n",
      "Overall MCC                                                       0.29641\n",
      "Overall MCEN                                                      0.2272\n",
      "Overall RACC                                                      0.87535\n",
      "Overall RACCU                                                     0.87749\n",
      "P-Value                                                           None\n",
      "PPV Macro                                                         0.58862\n",
      "PPV Micro                                                         0.90677\n",
      "Pearson C                                                         0.28419\n",
      "Phi-Squared                                                       0.08786\n",
      "RCI                                                               0.1702\n",
      "RR                                                                686.5\n",
      "Reference Entropy                                                 0.20812\n",
      "Response Entropy                                                  0.46366\n",
      "SOA1(Landis & Koch)                                               Fair\n",
      "SOA2(Fleiss)                                                      Poor\n",
      "SOA3(Altman)                                                      Fair\n",
      "SOA4(Cicchetti)                                                   Poor\n",
      "SOA5(Cramer)                                                      Moderate\n",
      "SOA6(Matthews)                                                    Negligible\n",
      "Scott PI                                                          0.23901\n",
      "Standard Error                                                    0.00785\n",
      "TPR Macro                                                         0.74785\n",
      "TPR Micro                                                         0.90677\n",
      "Zero-one Loss                                                     128\n",
      "\n",
      "Class Statistics :\n",
      "\n",
      "Classes                                                           0             1             \n",
      "ACC(Accuracy)                                                     0.90677       0.90677       \n",
      "AGF(Adjusted F-score)                                             0.45474       0.63288       \n",
      "AGM(Adjusted geometric mean)                                      0.72348       0.82151       \n",
      "AM(Difference between automatic and manual classification)        -90           90            \n",
      "AUC(Area under the ROC curve)                                     0.74785       0.74785       \n",
      "AUCI(AUC value interpretation)                                    Good          Good          \n",
      "AUPR(Area under the PR curve)                                     0.95129       0.38519       \n",
      "BCD(Bray-Curtis dissimilarity)                                    0.03277       0.03277       \n",
      "BM(Informedness or bookmaker informedness)                        0.4957        0.4957        \n",
      "CEN(Confusion entropy)                                            0.24598       0.78064       \n",
      "DOR(Diagnostic odds ratio)                                        15.30372      15.30372      \n",
      "DP(Discriminant power)                                            0.65321       0.65321       \n",
      "DPI(Discriminant power interpretation)                            Poor          Poor          \n",
      "ERR(Error rate)                                                   0.09323       0.09323       \n",
      "F0.5(F0.5 score)                                                  0.97054       0.22222       \n",
      "F1(F1 score - harmonic mean of precision and sensitivity)         0.95012       0.28889       \n",
      "F2(F2 score)                                                      0.93053       0.4127        \n",
      "FDR(False discovery rate)                                         0.01535       0.80741       \n",
      "FN(False negative/miss/type 2 error)                              109           19            \n",
      "FNR(Miss rate or false negative rate)                             0.08208       0.42222       \n",
      "FOR(False omission rate)                                          0.80741       0.01535       \n",
      "FP(False positive/type 1 error/false alarm)                       19            109           \n",
      "FPR(Fall-out or false positive rate)                              0.42222       0.08208       \n",
      "G(G-measure geometric mean of precision and sensitivity)          0.9507        0.33358       \n",
      "GI(Gini index)                                                    0.4957        0.4957        \n",
      "GM(G-mean geometric mean of specificity and sensitivity)          0.72825       0.72825       \n",
      "IBA(Index of balanced accuracy)                                   0.71075       0.34996       \n",
      "ICSI(Individual classification success index)                     0.90257       -0.22963      \n",
      "IS(Information score)                                             0.02576       2.55489       \n",
      "J(Jaccard index)                                                  0.90497       0.16883       \n",
      "LS(Lift score)                                                    1.01802       5.87621       \n",
      "MCC(Matthews correlation coefficient)                             0.29641       0.29641       \n",
      "MCCI(Matthews correlation coefficient interpretation)             Negligible    Negligible    \n",
      "MCEN(Modified confusion entropy)                                  0.38024       0.72536       \n",
      "MK(Markedness)                                                    0.17725       0.17725       \n",
      "N(Condition negative)                                             45            1328          \n",
      "NLR(Negative likelihood ratio)                                    0.14206       0.45998       \n",
      "NLRI(Negative likelihood ratio interpretation)                    Fair          Poor          \n",
      "NPV(Negative predictive value)                                    0.19259       0.98465       \n",
      "OC(Overlap coefficient)                                           0.98465       0.57778       \n",
      "OOC(Otsuka-Ochiai coefficient)                                    0.9507        0.33358       \n",
      "OP(Optimized precision)                                           0.67936       0.67936       \n",
      "P(Condition positive or support)                                  1328          45            \n",
      "PLR(Positive likelihood ratio)                                    2.17403       7.03935       \n",
      "PLRI(Positive likelihood ratio interpretation)                    Poor          Fair          \n",
      "POP(Population)                                                   1373          1373          \n",
      "PPV(Precision or positive predictive value)                       0.98465       0.19259       \n",
      "PRE(Prevalence)                                                   0.96723       0.03277       \n",
      "Q(Yule Q - coefficient of colligation)                            0.87733       0.87733       \n",
      "RACC(Random accuracy)                                             0.87212       0.00322       \n",
      "RACCU(Random accuracy unbiased)                                   0.8732        0.0043        \n",
      "TN(True negative/correct rejection)                               26            1219          \n",
      "TNR(Specificity or true negative rate)                            0.57778       0.91792       \n",
      "TON(Test outcome negative)                                        135           1238          \n",
      "TOP(Test outcome positive)                                        1238          135           \n",
      "TP(True positive/hit)                                             1219          26            \n",
      "TPR(Sensitivity, recall, hit rate, or true positive rate)         0.91792       0.57778       \n",
      "Y(Youden index)                                                   0.4957        0.4957        \n",
      "dInd(Distance index)                                              0.43013       0.43013       \n",
      "sInd(Similarity index)                                            0.69585       0.69585       \n",
      "\n"
     ]
    }
   ],
   "source": [
    "#Confusion Matrix summary\n",
    "\n",
    "from pycm import *\n",
    "\n",
    "cm = ConfusionMatrix(actual_vector=y_test, predict_vector=y_pred) # Create CM From Data\n",
    "print(cm)"
   ]
  },
  {
   "cell_type": "code",
   "execution_count": 57,
   "metadata": {},
   "outputs": [
    {
     "name": "stdout",
     "output_type": "stream",
     "text": [
      "True Negatives:  26\n",
      "False Positives:  109\n",
      "False Negatives:  19\n",
      "True Positives:  1219\n"
     ]
    }
   ],
   "source": [
    "#Calculating TP, FP, FN, TN\n",
    "\n",
    "from sklearn.metrics import confusion_matrix\n",
    "\n",
    "tp, fp, fn, tn = confusion_matrix(y_test, y_pred).ravel()\n",
    "print(\"True Negatives: \",tn)\n",
    "print(\"False Positives: \",fp)\n",
    "print(\"False Negatives: \",fn)\n",
    "print(\"True Positives: \",tp)"
   ]
  },
  {
   "cell_type": "code",
   "execution_count": 59,
   "metadata": {},
   "outputs": [
    {
     "name": "stdout",
     "output_type": "stream",
     "text": [
      "Precision 0.92\n",
      "Recall 0.98\n",
      "F1 Score 0.95\n"
     ]
    }
   ],
   "source": [
    "#Precision \n",
    "Precision = tp/(tp+fp) \n",
    "print(\"Precision {:0.2f}\".format(Precision))\n",
    "\n",
    "#Recall \n",
    "Recall = tp/(tp+fn) \n",
    "print(\"Recall {:0.2f}\".format(Recall))\n",
    "\n",
    "#F1 Score\n",
    "f1 = (2*(Precision*Recall)/(Precision + Recall))\n",
    "print(\"F1 Score {:0.2f}\".format(f1))"
   ]
  },
  {
   "cell_type": "code",
   "execution_count": 60,
   "metadata": {
    "collapsed": true
   },
   "outputs": [
    {
     "name": "stdout",
     "output_type": "stream",
     "text": [
      "Collecting graphviz\n",
      "  Downloading https://files.pythonhosted.org/packages/f5/74/dbed754c0abd63768d3a7a7b472da35b08ac442cf87d73d5850a6f32391e/graphviz-0.13.2-py2.py3-none-any.whl\n",
      "Installing collected packages: graphviz\n",
      "Successfully installed graphviz-0.13.2\n"
     ]
    },
    {
     "name": "stderr",
     "output_type": "stream",
     "text": [
      "You are using pip version 18.1, however version 19.3.1 is available.\n",
      "You should consider upgrading via the 'python -m pip install --upgrade pip' command.\n"
     ]
    },
    {
     "name": "stdout",
     "output_type": "stream",
     "text": [
      "Collecting pydotplus\n",
      "  Downloading https://files.pythonhosted.org/packages/60/bf/62567830b700d9f6930e9ab6831d6ba256f7b0b730acb37278b0ccdffacf/pydotplus-2.0.2.tar.gz (278kB)\n",
      "Requirement already satisfied: pyparsing>=2.0.1 in c:\\users\\shant\\appdata\\local\\programs\\python\\python37\\lib\\site-packages (from pydotplus) (2.4.4)\n",
      "Installing collected packages: pydotplus\n",
      "  Running setup.py install for pydotplus: started\n",
      "    Running setup.py install for pydotplus: finished with status 'done'\n",
      "Successfully installed pydotplus-2.0.2\n"
     ]
    },
    {
     "name": "stderr",
     "output_type": "stream",
     "text": [
      "You are using pip version 18.1, however version 19.3.1 is available.\n",
      "You should consider upgrading via the 'python -m pip install --upgrade pip' command.\n"
     ]
    }
   ],
   "source": []
  },
  {
   "cell_type": "code",
   "execution_count": 65,
   "metadata": {},
   "outputs": [],
   "source": []
  },
  {
   "cell_type": "code",
   "execution_count": 67,
   "metadata": {
    "collapsed": true
   },
   "outputs": [
    {
     "name": "stdout",
     "output_type": "stream",
     "text": [
      "Requirement already satisfied: graphviz in c:\\users\\shant\\appdata\\local\\programs\\python\\python37\\lib\\site-packages (0.13.2)\n"
     ]
    },
    {
     "name": "stderr",
     "output_type": "stream",
     "text": [
      "You are using pip version 18.1, however version 19.3.1 is available.\n",
      "You should consider upgrading via the 'python -m pip install --upgrade pip' command.\n"
     ]
    }
   ],
   "source": []
  },
  {
   "cell_type": "code",
   "execution_count": 66,
   "metadata": {
    "collapsed": true
   },
   "outputs": [
    {
     "ename": "InvocationException",
     "evalue": "GraphViz's executables not found",
     "output_type": "error",
     "traceback": [
      "\u001b[1;31m---------------------------------------------------------------------------\u001b[0m",
      "\u001b[1;31mInvocationException\u001b[0m                       Traceback (most recent call last)",
      "\u001b[1;32m<ipython-input-66-7d3b3efaa72e>\u001b[0m in \u001b[0;36m<module>\u001b[1;34m\u001b[0m\n\u001b[0;32m      5\u001b[0m \u001b[1;33m\u001b[0m\u001b[0m\n\u001b[0;32m      6\u001b[0m \u001b[0mgraph\u001b[0m \u001b[1;33m=\u001b[0m \u001b[0mpydotplus\u001b[0m\u001b[1;33m.\u001b[0m\u001b[0mgraph_from_dot_data\u001b[0m\u001b[1;33m(\u001b[0m\u001b[0mdot_data\u001b[0m\u001b[1;33m.\u001b[0m\u001b[0mgetvalue\u001b[0m\u001b[1;33m(\u001b[0m\u001b[1;33m)\u001b[0m\u001b[1;33m)\u001b[0m\u001b[1;33m\u001b[0m\u001b[1;33m\u001b[0m\u001b[0m\n\u001b[1;32m----> 7\u001b[1;33m \u001b[0mgraph\u001b[0m\u001b[1;33m.\u001b[0m\u001b[0mwrite_png\u001b[0m\u001b[1;33m(\u001b[0m\u001b[1;34m'bankruptcy.png'\u001b[0m\u001b[1;33m)\u001b[0m\u001b[1;33m\u001b[0m\u001b[1;33m\u001b[0m\u001b[0m\n\u001b[0m\u001b[0;32m      8\u001b[0m \u001b[0mImage\u001b[0m\u001b[1;33m(\u001b[0m\u001b[0mgraph\u001b[0m\u001b[1;33m.\u001b[0m\u001b[0mcreate_png\u001b[0m\u001b[1;33m(\u001b[0m\u001b[1;33m)\u001b[0m\u001b[1;33m)\u001b[0m\u001b[1;33m\u001b[0m\u001b[1;33m\u001b[0m\u001b[0m\n",
      "\u001b[1;32mc:\\users\\shant\\appdata\\local\\programs\\python\\python37\\lib\\site-packages\\pydotplus\\graphviz.py\u001b[0m in \u001b[0;36m<lambda>\u001b[1;34m(path, f, prog)\u001b[0m\n\u001b[0;32m   1808\u001b[0m                 \u001b[1;32mlambda\u001b[0m \u001b[0mpath\u001b[0m\u001b[1;33m,\u001b[0m\u001b[1;33m\u001b[0m\u001b[1;33m\u001b[0m\u001b[0m\n\u001b[0;32m   1809\u001b[0m                 \u001b[0mf\u001b[0m\u001b[1;33m=\u001b[0m\u001b[0mfrmt\u001b[0m\u001b[1;33m,\u001b[0m\u001b[1;33m\u001b[0m\u001b[1;33m\u001b[0m\u001b[0m\n\u001b[1;32m-> 1810\u001b[1;33m                 \u001b[0mprog\u001b[0m\u001b[1;33m=\u001b[0m\u001b[0mself\u001b[0m\u001b[1;33m.\u001b[0m\u001b[0mprog\u001b[0m\u001b[1;33m:\u001b[0m \u001b[0mself\u001b[0m\u001b[1;33m.\u001b[0m\u001b[0mwrite\u001b[0m\u001b[1;33m(\u001b[0m\u001b[0mpath\u001b[0m\u001b[1;33m,\u001b[0m \u001b[0mformat\u001b[0m\u001b[1;33m=\u001b[0m\u001b[0mf\u001b[0m\u001b[1;33m,\u001b[0m \u001b[0mprog\u001b[0m\u001b[1;33m=\u001b[0m\u001b[0mprog\u001b[0m\u001b[1;33m)\u001b[0m\u001b[1;33m\u001b[0m\u001b[1;33m\u001b[0m\u001b[0m\n\u001b[0m\u001b[0;32m   1811\u001b[0m             )\n\u001b[0;32m   1812\u001b[0m \u001b[1;33m\u001b[0m\u001b[0m\n",
      "\u001b[1;32mc:\\users\\shant\\appdata\\local\\programs\\python\\python37\\lib\\site-packages\\pydotplus\\graphviz.py\u001b[0m in \u001b[0;36mwrite\u001b[1;34m(self, path, prog, format)\u001b[0m\n\u001b[0;32m   1916\u001b[0m \u001b[1;33m\u001b[0m\u001b[0m\n\u001b[0;32m   1917\u001b[0m             \u001b[1;32melse\u001b[0m\u001b[1;33m:\u001b[0m\u001b[1;33m\u001b[0m\u001b[1;33m\u001b[0m\u001b[0m\n\u001b[1;32m-> 1918\u001b[1;33m                 \u001b[0mfobj\u001b[0m\u001b[1;33m.\u001b[0m\u001b[0mwrite\u001b[0m\u001b[1;33m(\u001b[0m\u001b[0mself\u001b[0m\u001b[1;33m.\u001b[0m\u001b[0mcreate\u001b[0m\u001b[1;33m(\u001b[0m\u001b[0mprog\u001b[0m\u001b[1;33m,\u001b[0m \u001b[0mformat\u001b[0m\u001b[1;33m)\u001b[0m\u001b[1;33m)\u001b[0m\u001b[1;33m\u001b[0m\u001b[1;33m\u001b[0m\u001b[0m\n\u001b[0m\u001b[0;32m   1919\u001b[0m         \u001b[1;32mfinally\u001b[0m\u001b[1;33m:\u001b[0m\u001b[1;33m\u001b[0m\u001b[1;33m\u001b[0m\u001b[0m\n\u001b[0;32m   1920\u001b[0m             \u001b[1;32mif\u001b[0m \u001b[0mclose\u001b[0m\u001b[1;33m:\u001b[0m\u001b[1;33m\u001b[0m\u001b[1;33m\u001b[0m\u001b[0m\n",
      "\u001b[1;32mc:\\users\\shant\\appdata\\local\\programs\\python\\python37\\lib\\site-packages\\pydotplus\\graphviz.py\u001b[0m in \u001b[0;36mcreate\u001b[1;34m(self, prog, format)\u001b[0m\n\u001b[0;32m   1958\u001b[0m             \u001b[1;32mif\u001b[0m \u001b[0mself\u001b[0m\u001b[1;33m.\u001b[0m\u001b[0mprogs\u001b[0m \u001b[1;32mis\u001b[0m \u001b[1;32mNone\u001b[0m\u001b[1;33m:\u001b[0m\u001b[1;33m\u001b[0m\u001b[1;33m\u001b[0m\u001b[0m\n\u001b[0;32m   1959\u001b[0m                 raise InvocationException(\n\u001b[1;32m-> 1960\u001b[1;33m                     'GraphViz\\'s executables not found')\n\u001b[0m\u001b[0;32m   1961\u001b[0m \u001b[1;33m\u001b[0m\u001b[0m\n\u001b[0;32m   1962\u001b[0m         \u001b[1;32mif\u001b[0m \u001b[0mprog\u001b[0m \u001b[1;32mnot\u001b[0m \u001b[1;32min\u001b[0m \u001b[0mself\u001b[0m\u001b[1;33m.\u001b[0m\u001b[0mprogs\u001b[0m\u001b[1;33m:\u001b[0m\u001b[1;33m\u001b[0m\u001b[1;33m\u001b[0m\u001b[0m\n",
      "\u001b[1;31mInvocationException\u001b[0m: GraphViz's executables not found"
     ]
    }
   ],
   "source": []
  },
  {
   "cell_type": "code",
   "execution_count": null,
   "metadata": {},
   "outputs": [],
   "source": []
  },
  {
   "cell_type": "code",
   "execution_count": null,
   "metadata": {},
   "outputs": [],
   "source": []
  },
  {
   "cell_type": "markdown",
   "metadata": {},
   "source": [
    "# BUILDING LINEAR SVM MODEL"
   ]
  },
  {
   "cell_type": "code",
   "execution_count": null,
   "metadata": {},
   "outputs": [],
   "source": [
    "import pandas as pd\n",
    "import numpy as np\n",
    "import matplotlib.pyplot as plt\n",
    "%matplotlib inline"
   ]
  },
  {
   "cell_type": "code",
   "execution_count": null,
   "metadata": {},
   "outputs": [],
   "source": [
    "from sklearn.svm import SVC\n",
    "svclassifier = SVC(kernel='linear')\n",
    "svclassifier.fit(X_res, y_res)"
   ]
  },
  {
   "cell_type": "code",
   "execution_count": null,
   "metadata": {},
   "outputs": [],
   "source": []
  },
  {
   "cell_type": "code",
   "execution_count": null,
   "metadata": {},
   "outputs": [],
   "source": []
  },
  {
   "cell_type": "code",
   "execution_count": null,
   "metadata": {},
   "outputs": [],
   "source": []
  },
  {
   "cell_type": "code",
   "execution_count": null,
   "metadata": {},
   "outputs": [],
   "source": []
  },
  {
   "cell_type": "code",
   "execution_count": null,
   "metadata": {},
   "outputs": [],
   "source": []
  },
  {
   "cell_type": "code",
   "execution_count": null,
   "metadata": {},
   "outputs": [],
   "source": []
  },
  {
   "cell_type": "code",
   "execution_count": null,
   "metadata": {},
   "outputs": [],
   "source": []
  },
  {
   "cell_type": "code",
   "execution_count": null,
   "metadata": {},
   "outputs": [],
   "source": []
  },
  {
   "cell_type": "code",
   "execution_count": null,
   "metadata": {},
   "outputs": [],
   "source": []
  }
 ],
 "metadata": {
  "kernelspec": {
   "display_name": "Python 3",
   "language": "python",
   "name": "python3"
  },
  "language_info": {
   "codemirror_mode": {
    "name": "ipython",
    "version": 3
   },
   "file_extension": ".py",
   "mimetype": "text/x-python",
   "name": "python",
   "nbconvert_exporter": "python",
   "pygments_lexer": "ipython3",
   "version": "3.7.2"
  }
 },
 "nbformat": 4,
 "nbformat_minor": 2
}
