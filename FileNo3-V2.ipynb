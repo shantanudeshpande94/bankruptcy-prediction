{
 "cells": [
  {
   "cell_type": "code",
   "execution_count": 1,
   "metadata": {},
   "outputs": [
    {
     "name": "stderr",
     "output_type": "stream",
     "text": [
      "Using TensorFlow backend.\n"
     ]
    }
   ],
   "source": [
    "import scipy as sp\n",
    "import numpy as np\n",
    "import pandas as pd\n",
    "import pandas_profiling as pp\n",
    "from collections import Counter\n",
    "#from imblearn.datasets import fetch_datasets\n",
    "from sklearn import datasets, linear_model\n",
    "from sklearn.model_selection import train_test_split\n",
    "from sklearn.pipeline import make_pipeline\n",
    "from imblearn.pipeline import make_pipeline as make_pipeline_imb\n",
    "from imblearn.over_sampling import SMOTE\n",
    "from imblearn.metrics import classification_report_imbalanced\n",
    "from matplotlib import pyplot as plt\n",
    "\n",
    "\n",
    "\n",
    "#loading csv into dataframe\n",
    "\n",
    "url = 'https://raw.githubusercontent.com/shantanudeshpande94/bankruptcy-prediction/master/5year.csv'\n",
    "df1 = pd.read_csv(url)"
   ]
  },
  {
   "cell_type": "code",
   "execution_count": 2,
   "metadata": {},
   "outputs": [],
   "source": [
    "#to replace '?' with NA values\n",
    "\n",
    "df1.replace({'?': None},inplace =True)"
   ]
  },
  {
   "cell_type": "code",
   "execution_count": 3,
   "metadata": {},
   "outputs": [
    {
     "data": {
      "text/plain": [
       "Attr1       3\n",
       "Attr2       3\n",
       "Attr3       3\n",
       "Attr4      21\n",
       "Attr5      11\n",
       "         ... \n",
       "Attr61     15\n",
       "Attr62      0\n",
       "Attr63     21\n",
       "Attr64    107\n",
       "class       0\n",
       "Length: 65, dtype: int64"
      ]
     },
     "execution_count": 3,
     "metadata": {},
     "output_type": "execute_result"
    }
   ],
   "source": [
    "#to check null values in a column\n",
    "\n",
    "df1.isna().sum()"
   ]
  },
  {
   "cell_type": "code",
   "execution_count": 4,
   "metadata": {},
   "outputs": [
    {
     "data": {
      "text/plain": [
       "Attr1      -0.022347\n",
       "Attr2       0.465086\n",
       "Attr3       0.189155\n",
       "Attr4       4.892476\n",
       "Attr5      19.406758\n",
       "             ...    \n",
       "Attr61     10.941497\n",
       "Attr62    241.978184\n",
       "Attr63      9.127741\n",
       "Attr64     65.276716\n",
       "class       0.069374\n",
       "Length: 65, dtype: float64"
      ]
     },
     "execution_count": 4,
     "metadata": {},
     "output_type": "execute_result"
    }
   ],
   "source": [
    "\n",
    "#converting from object to float64\n",
    "# df1 = df1.convert_objects(convert_numeric=True)\n",
    "\n",
    "df1['Attr1'] = pd.to_numeric(df1['Attr1'])\n",
    "df1['Attr2'] = pd.to_numeric(df1['Attr2'])\n",
    "df1['Attr3'] = pd.to_numeric(df1['Attr3'])\n",
    "df1['Attr4'] = pd.to_numeric(df1['Attr4'])\n",
    "df1['Attr5'] = pd.to_numeric(df1['Attr5'])\n",
    "df1['Attr6'] = pd.to_numeric(df1['Attr6'])\n",
    "df1['Attr7'] = pd.to_numeric(df1['Attr7'])\n",
    "df1['Attr8'] = pd.to_numeric(df1['Attr8'])\n",
    "df1['Attr9'] = pd.to_numeric(df1['Attr9'])\n",
    "df1['Attr10'] = pd.to_numeric(df1['Attr10'])\n",
    "df1['Attr11'] = pd.to_numeric(df1['Attr11'])\n",
    "df1['Attr12'] = pd.to_numeric(df1['Attr12'])\n",
    "df1['Attr13'] = pd.to_numeric(df1['Attr13'])\n",
    "df1['Attr14'] = pd.to_numeric(df1['Attr14'])\n",
    "df1['Attr15'] = pd.to_numeric(df1['Attr15'])\n",
    "df1['Attr16'] = pd.to_numeric(df1['Attr16'])\n",
    "df1['Attr17'] = pd.to_numeric(df1['Attr17'])\n",
    "df1['Attr18'] = pd.to_numeric(df1['Attr18'])\n",
    "df1['Attr19'] = pd.to_numeric(df1['Attr19'])\n",
    "df1['Attr20'] = pd.to_numeric(df1['Attr20'])\n",
    "df1['Attr21'] = pd.to_numeric(df1['Attr21'])\n",
    "df1['Attr22'] = pd.to_numeric(df1['Attr22'])\n",
    "df1['Attr23'] = pd.to_numeric(df1['Attr23'])\n",
    "df1['Attr24'] = pd.to_numeric(df1['Attr24'])\n",
    "df1['Attr25'] = pd.to_numeric(df1['Attr25'])\n",
    "df1['Attr26'] = pd.to_numeric(df1['Attr26'])\n",
    "df1['Attr27'] = pd.to_numeric(df1['Attr27'])\n",
    "df1['Attr28'] = pd.to_numeric(df1['Attr28'])\n",
    "df1['Attr29'] = pd.to_numeric(df1['Attr29'])\n",
    "df1['Attr30'] = pd.to_numeric(df1['Attr30'])\n",
    "df1['Attr31'] = pd.to_numeric(df1['Attr31'])\n",
    "df1['Attr32'] = pd.to_numeric(df1['Attr32'])\n",
    "df1['Attr33'] = pd.to_numeric(df1['Attr33'])\n",
    "df1['Attr34'] = pd.to_numeric(df1['Attr34'])\n",
    "df1['Attr35'] = pd.to_numeric(df1['Attr35'])\n",
    "df1['Attr36'] = pd.to_numeric(df1['Attr36'])\n",
    "df1['Attr37'] = pd.to_numeric(df1['Attr37'])\n",
    "df1['Attr38'] = pd.to_numeric(df1['Attr38'])\n",
    "df1['Attr39'] = pd.to_numeric(df1['Attr39'])\n",
    "df1['Attr40'] = pd.to_numeric(df1['Attr40'])\n",
    "df1['Attr41'] = pd.to_numeric(df1['Attr41'])\n",
    "df1['Attr42'] = pd.to_numeric(df1['Attr42'])\n",
    "df1['Attr43'] = pd.to_numeric(df1['Attr43'])\n",
    "df1['Attr44'] = pd.to_numeric(df1['Attr44'])\n",
    "df1['Attr45'] = pd.to_numeric(df1['Attr45'])\n",
    "df1['Attr46'] = pd.to_numeric(df1['Attr46'])\n",
    "df1['Attr47'] = pd.to_numeric(df1['Attr47'])\n",
    "df1['Attr48'] = pd.to_numeric(df1['Attr48'])\n",
    "df1['Attr49'] = pd.to_numeric(df1['Attr49'])\n",
    "df1['Attr50'] = pd.to_numeric(df1['Attr50'])\n",
    "df1['Attr51'] = pd.to_numeric(df1['Attr51'])\n",
    "df1['Attr52'] = pd.to_numeric(df1['Attr52'])\n",
    "df1['Attr53'] = pd.to_numeric(df1['Attr53'])\n",
    "df1['Attr54'] = pd.to_numeric(df1['Attr54'])\n",
    "df1['Attr55'] = pd.to_numeric(df1['Attr55'])\n",
    "df1['Attr56'] = pd.to_numeric(df1['Attr56'])\n",
    "df1['Attr57'] = pd.to_numeric(df1['Attr57'])\n",
    "df1['Attr58'] = pd.to_numeric(df1['Attr58'])\n",
    "df1['Attr59'] = pd.to_numeric(df1['Attr59'])\n",
    "df1['Attr60'] = pd.to_numeric(df1['Attr60'])\n",
    "df1['Attr61'] = pd.to_numeric(df1['Attr61'])\n",
    "df1['Attr62'] = pd.to_numeric(df1['Attr62'])\n",
    "df1['Attr63'] = pd.to_numeric(df1['Attr63'])\n",
    "df1['Attr64'] = pd.to_numeric(df1['Attr64'])\n",
    "\n",
    "df1.dtypes\n",
    "\n",
    "df1.mean()\n"
   ]
  },
  {
   "cell_type": "code",
   "execution_count": null,
   "metadata": {},
   "outputs": [],
   "source": [
    "#check profile report of the dataset\n",
    "\n",
    "profile = df1.profile_report(title='Pandas Profiling Report')\n",
    "profile.to_file(output_file=\"output.html\")"
   ]
  },
  {
   "cell_type": "code",
   "execution_count": 5,
   "metadata": {},
   "outputs": [],
   "source": [
    "# dropping duplicate values \n",
    "\n",
    "df1.drop_duplicates(keep=False,inplace=True) "
   ]
  },
  {
   "cell_type": "code",
   "execution_count": 6,
   "metadata": {},
   "outputs": [],
   "source": [
    "#delete because of large number of missing values\n",
    "\n",
    "del df1['Attr37']"
   ]
  },
  {
   "cell_type": "code",
   "execution_count": 7,
   "metadata": {},
   "outputs": [
    {
     "data": {
      "text/plain": [
       "Attr1     0\n",
       "Attr2     0\n",
       "Attr3     0\n",
       "Attr4     0\n",
       "Attr5     0\n",
       "         ..\n",
       "Attr61    0\n",
       "Attr62    0\n",
       "Attr63    0\n",
       "Attr64    0\n",
       "class     0\n",
       "Length: 64, dtype: int64"
      ]
     },
     "execution_count": 7,
     "metadata": {},
     "output_type": "execute_result"
    }
   ],
   "source": [
    "#imputing missing values by mean\n",
    "\n",
    "df1.fillna(df1.mean(), inplace=True)\n",
    "\n",
    "#number of missing values\n",
    "\n",
    "df1.isna().sum()"
   ]
  },
  {
   "cell_type": "code",
   "execution_count": 8,
   "metadata": {},
   "outputs": [],
   "source": [
    "#delete because of high correlation\n",
    "\n",
    "df1 = df1.drop(['Attr11','Attr16','Attr18','Attr22','Attr23','Attr26','Attr31','Attr33',\n",
    "        'Attr34','Attr35','Attr38','Attr4','Attr40','Attr44','Attr46','Attr48','Attr49','Attr50','Attr54',\n",
    "        'Attr56','Attr60','Attr62','Attr63','Attr64','Attr7','Attr8'], axis = 1)"
   ]
  },
  {
   "cell_type": "code",
   "execution_count": 141,
   "metadata": {},
   "outputs": [
    {
     "data": {
      "text/html": [
       "<div>\n",
       "<style scoped>\n",
       "    .dataframe tbody tr th:only-of-type {\n",
       "        vertical-align: middle;\n",
       "    }\n",
       "\n",
       "    .dataframe tbody tr th {\n",
       "        vertical-align: top;\n",
       "    }\n",
       "\n",
       "    .dataframe thead th {\n",
       "        text-align: right;\n",
       "    }\n",
       "</style>\n",
       "<table border=\"1\" class=\"dataframe\">\n",
       "  <thead>\n",
       "    <tr style=\"text-align: right;\">\n",
       "      <th></th>\n",
       "      <th>Attr1</th>\n",
       "      <th>Attr2</th>\n",
       "      <th>Attr3</th>\n",
       "      <th>Attr5</th>\n",
       "      <th>Attr6</th>\n",
       "      <th>Attr9</th>\n",
       "      <th>Attr10</th>\n",
       "      <th>Attr12</th>\n",
       "      <th>Attr13</th>\n",
       "      <th>Attr14</th>\n",
       "      <th>...</th>\n",
       "      <th>Attr47</th>\n",
       "      <th>Attr51</th>\n",
       "      <th>Attr52</th>\n",
       "      <th>Attr53</th>\n",
       "      <th>Attr55</th>\n",
       "      <th>Attr57</th>\n",
       "      <th>Attr58</th>\n",
       "      <th>Attr59</th>\n",
       "      <th>Attr61</th>\n",
       "      <th>class</th>\n",
       "    </tr>\n",
       "  </thead>\n",
       "  <tbody>\n",
       "    <tr>\n",
       "      <th>0</th>\n",
       "      <td>0.088238</td>\n",
       "      <td>0.55472</td>\n",
       "      <td>0.01134</td>\n",
       "      <td>-66.5200</td>\n",
       "      <td>0.34204</td>\n",
       "      <td>1.0881</td>\n",
       "      <td>0.32036</td>\n",
       "      <td>0.197600</td>\n",
       "      <td>0.096885</td>\n",
       "      <td>0.109490</td>\n",
       "      <td>...</td>\n",
       "      <td>54.621</td>\n",
       "      <td>0.55407</td>\n",
       "      <td>0.42557</td>\n",
       "      <td>0.73717</td>\n",
       "      <td>15182.0</td>\n",
       "      <td>0.275430</td>\n",
       "      <td>0.91905</td>\n",
       "      <td>0.002024</td>\n",
       "      <td>4.7343</td>\n",
       "      <td>0</td>\n",
       "    </tr>\n",
       "    <tr>\n",
       "      <th>1</th>\n",
       "      <td>-0.006202</td>\n",
       "      <td>0.48465</td>\n",
       "      <td>0.23298</td>\n",
       "      <td>6.1825</td>\n",
       "      <td>0.00000</td>\n",
       "      <td>1.2757</td>\n",
       "      <td>0.51535</td>\n",
       "      <td>-0.015967</td>\n",
       "      <td>0.037544</td>\n",
       "      <td>-0.006202</td>\n",
       "      <td>...</td>\n",
       "      <td>58.258</td>\n",
       "      <td>0.38846</td>\n",
       "      <td>0.29604</td>\n",
       "      <td>1.36140</td>\n",
       "      <td>2341.8</td>\n",
       "      <td>-0.012035</td>\n",
       "      <td>1.00470</td>\n",
       "      <td>0.152220</td>\n",
       "      <td>3.2749</td>\n",
       "      <td>0</td>\n",
       "    </tr>\n",
       "    <tr>\n",
       "      <th>2</th>\n",
       "      <td>0.130240</td>\n",
       "      <td>0.22142</td>\n",
       "      <td>0.57751</td>\n",
       "      <td>120.0400</td>\n",
       "      <td>0.18764</td>\n",
       "      <td>1.1415</td>\n",
       "      <td>0.67731</td>\n",
       "      <td>0.732180</td>\n",
       "      <td>0.165680</td>\n",
       "      <td>0.162120</td>\n",
       "      <td>...</td>\n",
       "      <td>47.382</td>\n",
       "      <td>0.22142</td>\n",
       "      <td>0.22371</td>\n",
       "      <td>3.36840</td>\n",
       "      <td>33401.0</td>\n",
       "      <td>0.192290</td>\n",
       "      <td>0.87604</td>\n",
       "      <td>0.000000</td>\n",
       "      <td>2.9870</td>\n",
       "      <td>0</td>\n",
       "    </tr>\n",
       "  </tbody>\n",
       "</table>\n",
       "<p>3 rows × 38 columns</p>\n",
       "</div>"
      ],
      "text/plain": [
       "      Attr1    Attr2    Attr3     Attr5    Attr6   Attr9   Attr10    Attr12  \\\n",
       "0  0.088238  0.55472  0.01134  -66.5200  0.34204  1.0881  0.32036  0.197600   \n",
       "1 -0.006202  0.48465  0.23298    6.1825  0.00000  1.2757  0.51535 -0.015967   \n",
       "2  0.130240  0.22142  0.57751  120.0400  0.18764  1.1415  0.67731  0.732180   \n",
       "\n",
       "     Attr13    Attr14  ...  Attr47   Attr51   Attr52   Attr53   Attr55  \\\n",
       "0  0.096885  0.109490  ...  54.621  0.55407  0.42557  0.73717  15182.0   \n",
       "1  0.037544 -0.006202  ...  58.258  0.38846  0.29604  1.36140   2341.8   \n",
       "2  0.165680  0.162120  ...  47.382  0.22142  0.22371  3.36840  33401.0   \n",
       "\n",
       "     Attr57   Attr58    Attr59  Attr61  class  \n",
       "0  0.275430  0.91905  0.002024  4.7343      0  \n",
       "1 -0.012035  1.00470  0.152220  3.2749      0  \n",
       "2  0.192290  0.87604  0.000000  2.9870      0  \n",
       "\n",
       "[3 rows x 38 columns]"
      ]
     },
     "execution_count": 141,
     "metadata": {},
     "output_type": "execute_result"
    }
   ],
   "source": [
    "df1.shape\n",
    "df1.head(3)"
   ]
  },
  {
   "cell_type": "markdown",
   "metadata": {},
   "source": [
    "# FEATURE SELECTION RANDOM FOREST"
   ]
  },
  {
   "cell_type": "code",
   "execution_count": 9,
   "metadata": {},
   "outputs": [],
   "source": [
    "import numpy as np\n",
    "from sklearn.ensemble import RandomForestClassifier\n",
    "from sklearn import datasets\n",
    "from sklearn.model_selection import train_test_split\n",
    "from sklearn.feature_selection import SelectFromModel\n",
    "from sklearn.metrics import accuracy_score"
   ]
  },
  {
   "cell_type": "code",
   "execution_count": 10,
   "metadata": {},
   "outputs": [],
   "source": [
    "\n",
    "# Create a list of feature names\n",
    "feat_labels = ['Attr1','Attr2','Attr3','Attr5','Attr6','Attr9','Attr10',\n",
    "              'Attr12','Attr13','Attr14','Attr15','Attr17','Attr19','Attr20',\n",
    "              'Attr21','Attr24','Attr25','Attr27','Attr28','Attr29','Attr30',\n",
    "              'Attr32','Attr36','Attr39',\n",
    "              'Attr41','Attr42','Attr43','Attr45','Attr47',\n",
    "              'Attr51','Attr52','Attr53','Attr55','Attr57','Attr58','Attr59',\n",
    "               'Attr61'\n",
    "              ]\n"
   ]
  },
  {
   "cell_type": "code",
   "execution_count": 11,
   "metadata": {},
   "outputs": [
    {
     "name": "stdout",
     "output_type": "stream",
     "text": [
      "('Attr1', 0.027591918833885107)\n",
      "('Attr2', 0.016095535109824543)\n",
      "('Attr3', 0.024633088062148565)\n",
      "('Attr5', 0.017566884919741874)\n",
      "('Attr6', 0.022341684789630053)\n",
      "('Attr9', 0.024445543623779965)\n",
      "('Attr10', 0.018169188943307345)\n",
      "('Attr12', 0.020546371953517942)\n",
      "('Attr13', 0.029548036841272433)\n",
      "('Attr14', 0.027224671754813624)\n",
      "('Attr15', 0.02586829696739935)\n",
      "('Attr17', 0.016494773722498114)\n",
      "('Attr19', 0.02392922848783537)\n",
      "('Attr20', 0.014438103931648572)\n",
      "('Attr21', 0.09961359554542011)\n",
      "('Attr24', 0.038206224024632474)\n",
      "('Attr25', 0.022354495094863536)\n",
      "('Attr27', 0.06966182184329177)\n",
      "('Attr28', 0.022296572829685384)\n",
      "('Attr29', 0.02764127489026749)\n",
      "('Attr30', 0.0163657865079402)\n",
      "('Attr32', 0.016173909103129686)\n",
      "('Attr36', 0.018125411522987286)\n",
      "('Attr39', 0.056015258394595084)\n",
      "('Attr41', 0.045584182145104)\n",
      "('Attr42', 0.04182460764531087)\n",
      "('Attr43', 0.018639018353756486)\n",
      "('Attr45', 0.01903872933861213)\n",
      "('Attr47', 0.013465773485520045)\n",
      "('Attr51', 0.018854939962981758)\n",
      "('Attr52', 0.015557464847323685)\n",
      "('Attr53', 0.020698329804187413)\n",
      "('Attr55', 0.025995782574535997)\n",
      "('Attr57', 0.01804729474234887)\n",
      "('Attr58', 0.03638337827822372)\n",
      "('Attr59', 0.011619657742007114)\n",
      "('Attr61', 0.018943163381971984)\n"
     ]
    }
   ],
   "source": [
    "#Create X from the features\n",
    "X = df1[feat_labels].values\n",
    "#X = df1.iloc[:,:31]\n",
    "\n",
    "# Create y from output\n",
    "y = df1['class'].values.ravel()\n",
    "#y = df1.iloc[:,31]\n",
    "\n",
    "# Create a random forest classifier\n",
    "clf = RandomForestClassifier(n_estimators=10000, random_state=0, n_jobs=-1)\n",
    "\n",
    "# Train the classifier\n",
    "clf.fit(X, y)\n",
    "\n",
    "# Print the name and gini importance of each feature\n",
    "for feature in zip(feat_labels, clf.feature_importances_):\n",
    "    print(feature)"
   ]
  },
  {
   "cell_type": "code",
   "execution_count": 12,
   "metadata": {
    "scrolled": true
   },
   "outputs": [
    {
     "data": {
      "text/plain": [
       "SelectFromModel(estimator=RandomForestClassifier(bootstrap=True,\n",
       "                                                 class_weight=None,\n",
       "                                                 criterion='gini',\n",
       "                                                 max_depth=None,\n",
       "                                                 max_features='auto',\n",
       "                                                 max_leaf_nodes=None,\n",
       "                                                 min_impurity_decrease=0.0,\n",
       "                                                 min_impurity_split=None,\n",
       "                                                 min_samples_leaf=1,\n",
       "                                                 min_samples_split=2,\n",
       "                                                 min_weight_fraction_leaf=0.0,\n",
       "                                                 n_estimators=10000, n_jobs=-1,\n",
       "                                                 oob_score=False,\n",
       "                                                 random_state=0, verbose=0,\n",
       "                                                 warm_start=False),\n",
       "                max_features=None, norm_order=1, prefit=False, threshold=0.03)"
      ]
     },
     "execution_count": 12,
     "metadata": {},
     "output_type": "execute_result"
    }
   ],
   "source": [
    "# Create a selector object that will use the random forest classifier to identify\n",
    "# features that have an importance of more than 0.015\n",
    "sfm = SelectFromModel(clf, threshold=0.03)\n",
    "\n",
    "# Train the selector\n",
    "sfm.fit(X, y)"
   ]
  },
  {
   "cell_type": "code",
   "execution_count": 13,
   "metadata": {},
   "outputs": [
    {
     "name": "stdout",
     "output_type": "stream",
     "text": [
      "Attr21\n",
      "Attr24\n",
      "Attr27\n",
      "Attr39\n",
      "Attr41\n",
      "Attr42\n",
      "Attr58\n"
     ]
    }
   ],
   "source": [
    "#Print the names of the most important features\n",
    "for feature_list_index in sfm.get_support(indices=True):\n",
    "    print(feat_labels[feature_list_index])"
   ]
  },
  {
   "cell_type": "code",
   "execution_count": 142,
   "metadata": {},
   "outputs": [],
   "source": [
    "X_filtered = sfm.transform(X)"
   ]
  },
  {
   "cell_type": "code",
   "execution_count": 15,
   "metadata": {},
   "outputs": [],
   "source": [
    "#converting X_filtered to Dataframe\n",
    "\n",
    "X_filtered = pd.DataFrame(data=X_filtered,\n",
    "          index=np.arange(1, 5791),\n",
    "          columns=np.arange(1, 8))"
   ]
  },
  {
   "cell_type": "markdown",
   "metadata": {},
   "source": [
    "# SMOTE ENN"
   ]
  },
  {
   "cell_type": "code",
   "execution_count": 16,
   "metadata": {},
   "outputs": [],
   "source": [
    "# Split the data into 20% test and 80% training\n",
    "X_train, X_test, y_train, y_test = train_test_split(X_filtered, y, test_size=0.2, random_state=0)"
   ]
  },
  {
   "cell_type": "code",
   "execution_count": 17,
   "metadata": {},
   "outputs": [
    {
     "data": {
      "text/plain": [
       "0    5384\n",
       "1     406\n",
       "Name: class, dtype: int64"
      ]
     },
     "execution_count": 17,
     "metadata": {},
     "output_type": "execute_result"
    },
    {
     "data": {
      "image/png": "[encoded data removed]",
      "text/plain": [
       "<Figure size 432x288 with 1 Axes>"
      ]
     },
     "metadata": {
      "needs_background": "light"
     },
     "output_type": "display_data"
    }
   ],
   "source": [
    "import matplotlib.pyplot as plt\n",
    "\n",
    "pd.value_counts(df1['class']).plot.bar()\n",
    "plt.title('Bankruptcy class histogram')\n",
    "plt.xlabel('Class')\n",
    "plt.ylabel('Frequency')\n",
    "df1['class'].value_counts()"
   ]
  },
  {
   "cell_type": "code",
   "execution_count": 18,
   "metadata": {},
   "outputs": [
    {
     "name": "stdout",
     "output_type": "stream",
     "text": [
      "Original dataset shape Counter({0: 4300, 1: 332})\n",
      "Resampled dataset shape Counter({1: 3774, 0: 3328})\n"
     ]
    }
   ],
   "source": [
    "#SMOTE+ENN Technique\n",
    "\n",
    "from imblearn.combine import SMOTEENN\n",
    "sme = SMOTEENN(random_state=0)\n",
    "\n",
    "columns = X_train.columns\n",
    "\n",
    "X_res, y_res = sme.fit_resample(X_train, y_train)\n",
    "\n",
    "#X_res = pd.DataFrame(data=X_res,columns=columns)\n",
    "#y_res = pd.DataFrame(data=y_res,columns=['y'])\n",
    "\n",
    "\n",
    "print('Original dataset shape %s' % Counter(y_train))\n",
    "print('Resampled dataset shape %s' % Counter(y_res))"
   ]
  },
  {
   "cell_type": "code",
   "execution_count": null,
   "metadata": {},
   "outputs": [],
   "source": []
  },
  {
   "cell_type": "code",
   "execution_count": 137,
   "metadata": {},
   "outputs": [
    {
     "data": {
      "text/plain": [
       "Text(0, 0.5, 'Frequency')"
      ]
     },
     "execution_count": 137,
     "metadata": {},
     "output_type": "execute_result"
    },
    {
     "data": {
      "image/png": "[encoded data removed]",
      "text/plain": [
       "<Figure size 432x288 with 1 Axes>"
      ]
     },
     "metadata": {},
     "output_type": "display_data"
    }
   ],
   "source": [
    "pd.value_counts(y_res).plot.bar()\n",
    "plt.title('Bankruptcy class histogram')\n",
    "plt.xlabel('Class')\n",
    "plt.ylabel('Frequency')\n"
   ]
  },
  {
   "cell_type": "code",
   "execution_count": 138,
   "metadata": {
    "collapsed": true
   },
   "outputs": [
    {
     "data": {
      "text/plain": [
       "<matplotlib.axes._subplots.AxesSubplot at 0x191e8cf5b70>"
      ]
     },
     "execution_count": 138,
     "metadata": {},
     "output_type": "execute_result"
    },
    {
     "data": {
      "image/png": "[encoded data removed]",
      "text/plain": [
       "<Figure size 432x288 with 1 Axes>"
      ]
     },
     "metadata": {},
     "output_type": "display_data"
    }
   ],
   "source": []
  },
  {
   "cell_type": "markdown",
   "metadata": {},
   "source": [
    "# RANDOM FOREST"
   ]
  },
  {
   "cell_type": "code",
   "execution_count": 19,
   "metadata": {},
   "outputs": [
    {
     "data": {
      "text/plain": [
       "RandomForestClassifier(bootstrap=True, class_weight=None, criterion='gini',\n",
       "                       max_depth=None, max_features='auto', max_leaf_nodes=None,\n",
       "                       min_impurity_decrease=0.0, min_impurity_split=None,\n",
       "                       min_samples_leaf=1, min_samples_split=2,\n",
       "                       min_weight_fraction_leaf=0.0, n_estimators=10000,\n",
       "                       n_jobs=-1, oob_score=False, random_state=0, verbose=0,\n",
       "                       warm_start=False)"
      ]
     },
     "execution_count": 19,
     "metadata": {},
     "output_type": "execute_result"
    }
   ],
   "source": [
    "# Create a new random forest classifier for the most important features\n",
    "clf = RandomForestClassifier(n_estimators=10000, random_state=0, n_jobs=-1)\n",
    "\n",
    "# Train the new classifier on the new dataset containing the most important features\n",
    "clf.fit(X_res, y_res)"
   ]
  },
  {
   "cell_type": "code",
   "execution_count": 20,
   "metadata": {},
   "outputs": [
    {
     "data": {
      "text/plain": [
       "0.8998272884283247"
      ]
     },
     "execution_count": 20,
     "metadata": {},
     "output_type": "execute_result"
    }
   ],
   "source": [
    "from sklearn.metrics import accuracy_score\n",
    "\n",
    "# Apply The Full Featured Classifier To The Limited feature Test Data\n",
    "y_rf_pred = clf.predict(X_test)\n",
    "\n",
    "# View The Accuracy Of Our Limited Feature Model\n",
    "accuracy_score(y_test, y_rf_pred)"
   ]
  },
  {
   "cell_type": "code",
   "execution_count": 21,
   "metadata": {},
   "outputs": [
    {
     "data": {
      "text/plain": [
       "array([[988,  96],\n",
       "       [ 20,  54]], dtype=int64)"
      ]
     },
     "execution_count": 21,
     "metadata": {},
     "output_type": "execute_result"
    }
   ],
   "source": [
    "from sklearn.metrics import confusion_matrix\n",
    "\n",
    "confusion_matrix(y_test, y_rf_pred)"
   ]
  },
  {
   "cell_type": "code",
   "execution_count": 22,
   "metadata": {},
   "outputs": [
    {
     "name": "stdout",
     "output_type": "stream",
     "text": [
      "Predict   0         1         \n",
      "Actual\n",
      "0         988       96        \n",
      "\n",
      "1         20        54        \n",
      "\n",
      "\n",
      "\n",
      "\n",
      "\n",
      "Overall Statistics : \n",
      "\n",
      "95% CI                                                            (0.88253,0.91712)\n",
      "ACC Macro                                                         0.89983\n",
      "AUNP                                                              0.82058\n",
      "AUNU                                                              0.82058\n",
      "Bennett S                                                         0.79965\n",
      "CBA                                                               0.63572\n",
      "CSI                                                               0.49066\n",
      "Chi-Squared                                                       252.55885\n",
      "Chi-Squared DF                                                    1\n",
      "Conditional Entropy                                               0.45786\n",
      "Cramer V                                                          0.46701\n",
      "Cross Entropy                                                     0.37578\n",
      "F1 Macro                                                          0.71335\n",
      "F1 Micro                                                          0.89983\n",
      "Gwet AC1                                                          0.87862\n",
      "Hamming Loss                                                      0.10017\n",
      "Joint Entropy                                                     0.80061\n",
      "KL Divergence                                                     0.03303\n",
      "Kappa                                                             0.43367\n",
      "Kappa 95% CI                                                      (0.33591,0.53144)\n",
      "Kappa No Prevalence                                               0.79965\n",
      "Kappa Standard Error                                              0.04988\n",
      "Kappa Unbiased                                                    0.42669\n",
      "Lambda A                                                          0.0\n",
      "Lambda B                                                          0.22667\n",
      "Mutual Information                                                0.0983\n",
      "NIR                                                               0.9361\n",
      "Overall ACC                                                       0.89983\n",
      "Overall CEN                                                       0.32298\n",
      "Overall J                                                         (1.21257,0.60629)\n",
      "Overall MCC                                                       0.46701\n",
      "Overall MCEN                                                      0.25686\n",
      "Overall RACC                                                      0.82312\n",
      "Overall RACCU                                                     0.82527\n",
      "P-Value                                                           None\n",
      "PPV Macro                                                         0.67008\n",
      "PPV Micro                                                         0.89983\n",
      "Pearson C                                                         0.42314\n",
      "Phi-Squared                                                       0.2181\n",
      "RCI                                                               0.28679\n",
      "RR                                                                579.0\n",
      "Reference Entropy                                                 0.34275\n",
      "Response Entropy                                                  0.55616\n",
      "SOA1(Landis & Koch)                                               Moderate\n",
      "SOA2(Fleiss)                                                      Intermediate to Good\n",
      "SOA3(Altman)                                                      Moderate\n",
      "SOA4(Cicchetti)                                                   Fair\n",
      "SOA5(Cramer)                                                      Relatively Strong\n",
      "SOA6(Matthews)                                                    Weak\n",
      "Scott PI                                                          0.42669\n",
      "Standard Error                                                    0.00882\n",
      "TPR Macro                                                         0.82058\n",
      "TPR Micro                                                         0.89983\n",
      "Zero-one Loss                                                     116\n",
      "\n",
      "Class Statistics :\n",
      "\n",
      "Classes                                                           0             1             \n",
      "ACC(Accuracy)                                                     0.89983       0.89983       \n",
      "AGF(Adjusted F-score)                                             0.60853       0.76456       \n",
      "AGM(Adjusted geometric mean)                                      0.81039       0.86191       \n",
      "AM(Difference between automatic and manual classification)        -76           76            \n",
      "AUC(Area under the ROC curve)                                     0.82058       0.82058       \n",
      "AUCI(AUC value interpretation)                                    Very Good     Very Good     \n",
      "AUPR(Area under the PR curve)                                     0.9458        0.54486       \n",
      "BCD(Bray-Curtis dissimilarity)                                    0.03282       0.03282       \n",
      "BM(Informedness or bookmaker informedness)                        0.64117       0.64117       \n",
      "CEN(Confusion entropy)                                            0.26815       0.83508       \n",
      "DOR(Diagnostic odds ratio)                                        27.7875       27.7875       \n",
      "DP(Discriminant power)                                            0.79604       0.79604       \n",
      "DPI(Discriminant power interpretation)                            Poor          Poor          \n",
      "ERR(Error rate)                                                   0.10017       0.10017       \n",
      "F0.5(F0.5 score)                                                  0.9656        0.40059       \n",
      "F1(F1 score - harmonic mean of precision and sensitivity)         0.94455       0.48214       \n",
      "F2(F2 score)                                                      0.9244        0.60538       \n",
      "FDR(False discovery rate)                                         0.01984       0.64          \n",
      "FN(False negative/miss/type 2 error)                              96            20            \n",
      "FNR(Miss rate or false negative rate)                             0.08856       0.27027       \n",
      "FOR(False omission rate)                                          0.64          0.01984       \n",
      "FP(False positive/type 1 error/false alarm)                       20            96            \n",
      "FPR(Fall-out or false positive rate)                              0.27027       0.08856       \n",
      "G(G-measure geometric mean of precision and sensitivity)          0.94517       0.51255       \n",
      "GI(Gini index)                                                    0.64117       0.64117       \n",
      "GM(G-mean geometric mean of specificity and sensitivity)          0.81554       0.81554       \n",
      "IBA(Index of balanced accuracy)                                   0.78596       0.54425       \n",
      "ICSI(Individual classification success index)                     0.8916        0.08973       \n",
      "IS(Information score)                                             0.06636       2.49403       \n",
      "J(Jaccard index)                                                  0.89493       0.31765       \n",
      "LS(Lift score)                                                    1.04707       5.63351       \n",
      "MCC(Matthews correlation coefficient)                             0.46701       0.46701       \n",
      "MCCI(Matthews correlation coefficient interpretation)             Weak          Weak          \n",
      "MCEN(Modified confusion entropy)                                  0.41123       0.82879       \n",
      "MK(Markedness)                                                    0.34016       0.34016       \n",
      "N(Condition negative)                                             74            1084          \n",
      "NLR(Negative likelihood ratio)                                    0.12136       0.29653       \n",
      "NLRI(Negative likelihood ratio interpretation)                    Fair          Poor          \n",
      "NPV(Negative predictive value)                                    0.36          0.98016       \n",
      "OC(Overlap coefficient)                                           0.98016       0.72973       \n",
      "OOC(Otsuka-Ochiai coefficient)                                    0.94517       0.51255       \n",
      "OP(Optimized precision)                                           0.78911       0.78911       \n",
      "P(Condition positive or support)                                  1084          74            \n",
      "PLR(Positive likelihood ratio)                                    3.37232       8.23986       \n",
      "PLRI(Positive likelihood ratio interpretation)                    Poor          Fair          \n",
      "POP(Population)                                                   1158          1158          \n",
      "PPV(Precision or positive predictive value)                       0.98016       0.36          \n",
      "PRE(Prevalence)                                                   0.9361        0.0639        \n",
      "Q(Yule Q - coefficient of colligation)                            0.93053       0.93053       \n",
      "RACC(Random accuracy)                                             0.81484       0.00828       \n",
      "RACCU(Random accuracy unbiased)                                   0.81592       0.00935       \n",
      "TN(True negative/correct rejection)                               54            988           \n",
      "TNR(Specificity or true negative rate)                            0.72973       0.91144       \n",
      "TON(Test outcome negative)                                        150           1008          \n",
      "TOP(Test outcome positive)                                        1008          150           \n",
      "TP(True positive/hit)                                             988           54            \n",
      "TPR(Sensitivity, recall, hit rate, or true positive rate)         0.91144       0.72973       \n",
      "Y(Youden index)                                                   0.64117       0.64117       \n",
      "dInd(Distance index)                                              0.28441       0.28441       \n",
      "sInd(Similarity index)                                            0.79889       0.79889       \n",
      "\n"
     ]
    }
   ],
   "source": [
    "from pycm import *\n",
    "\n",
    "cm = ConfusionMatrix(actual_vector=y_test, predict_vector=y_rf_pred) # Create CM From Data\n",
    "cm.table\n",
    "print(cm)"
   ]
  },
  {
   "cell_type": "code",
   "execution_count": 23,
   "metadata": {},
   "outputs": [
    {
     "name": "stdout",
     "output_type": "stream",
     "text": [
      "True Negatives:  988\n",
      "False Positives:  96\n",
      "False Negatives:  20\n",
      "True Positives:  54\n"
     ]
    }
   ],
   "source": [
    "from sklearn.metrics import confusion_matrix\n",
    "\n",
    "tn, fp, fn, tp = confusion_matrix(y_test, y_rf_pred).ravel()\n",
    "print(\"True Negatives: \",tn)\n",
    "print(\"False Positives: \",fp)\n",
    "print(\"False Negatives: \",fn)\n",
    "print(\"True Positives: \",tp)"
   ]
  },
  {
   "cell_type": "code",
   "execution_count": 45,
   "metadata": {},
   "outputs": [
    {
     "name": "stdout",
     "output_type": "stream",
     "text": [
      "Specificity 0.80\n",
      "Recall / Sensitivity 0.68\n",
      "Geometric Mean Score 0.74\n"
     ]
    }
   ],
   "source": [
    "#Specificity\n",
    "Specificity = tn/(tn+fp) \n",
    "print(\"Specificity {:0.2f}\".format(Specificity))\n",
    "\n",
    "#Recall \n",
    "Recall = tp/(tp+fn) \n",
    "print(\"Recall / Sensitivity {:0.2f}\".format(Recall))\n",
    "\n",
    "#Precision\n",
    "Precision = tp / (tp + fp)\n",
    "\n",
    "#GMean\n",
    "GM = math.sqrt(Specificity*Recall)\n",
    "print(\"Geometric Mean Score {:0.2f}\".format(GM))\n",
    "\n",
    "#TPR & FPR\n",
    "#TPR = tp/(tp+fn)\n",
    "#FPR = fp/(fp+tn)\n"
   ]
  },
  {
   "cell_type": "code",
   "execution_count": 101,
   "metadata": {},
   "outputs": [
    {
     "name": "stdout",
     "output_type": "stream",
     "text": [
      "Requirement already satisfied: sklearn in c:\\users\\shant\\appdata\\local\\programs\\python\\python37\\lib\\site-packages (0.0)\n",
      "Requirement already satisfied: scikit-learn in c:\\users\\shant\\appdata\\local\\programs\\python\\python37\\lib\\site-packages (from sklearn) (0.21.3)\n",
      "Requirement already satisfied: scipy>=0.17.0 in c:\\users\\shant\\appdata\\local\\programs\\python\\python37\\lib\\site-packages (from scikit-learn->sklearn) (1.3.1)\n",
      "Requirement already satisfied: joblib>=0.11 in c:\\users\\shant\\appdata\\local\\programs\\python\\python37\\lib\\site-packages (from scikit-learn->sklearn) (0.14.0)\n",
      "Requirement already satisfied: numpy>=1.11.0 in c:\\users\\shant\\appdata\\local\\programs\\python\\python37\\lib\\site-packages (from scikit-learn->sklearn) (1.17.3)\n",
      "Note: you may need to restart the kernel to use updated packages.\n"
     ]
    }
   ],
   "source": [
    "pip install sklearn"
   ]
  },
  {
   "cell_type": "code",
   "execution_count": 103,
   "metadata": {},
   "outputs": [
    {
     "name": "stdout",
     "output_type": "stream",
     "text": [
      "Fitting 3 folds for each of 600 candidates, totalling 1800 fits\n"
     ]
    },
    {
     "name": "stderr",
     "output_type": "stream",
     "text": [
      "[Parallel(n_jobs=-1)]: Using backend LokyBackend with 4 concurrent workers.\n",
      "[Parallel(n_jobs=-1)]: Done  42 tasks      | elapsed:  2.1min\n",
      "[Parallel(n_jobs=-1)]: Done 192 tasks      | elapsed: 13.5min\n",
      "[Parallel(n_jobs=-1)]: Done 442 tasks      | elapsed: 30.7min\n",
      "[Parallel(n_jobs=-1)]: Done 792 tasks      | elapsed: 61.5min\n",
      "[Parallel(n_jobs=-1)]: Done 1242 tasks      | elapsed: 105.4min\n",
      "[Parallel(n_jobs=-1)]: Done 1792 tasks      | elapsed: 164.1min\n",
      "[Parallel(n_jobs=-1)]: Done 1800 out of 1800 | elapsed: 165.4min finished\n"
     ]
    }
   ],
   "source": [
    "from sklearn.model_selection import GridSearchCV\n",
    "\n",
    "n_estimators = [100, 300, 500, 800, 1200, 5000]\n",
    "max_depth = [5, 8, 15, 25, 30]\n",
    "min_samples_split = [2, 5, 10, 15, 100]\n",
    "min_samples_leaf = [1, 2, 5, 10] \n",
    "\n",
    "hyperF = dict(n_estimators = n_estimators, max_depth = max_depth,  \n",
    "              min_samples_split = min_samples_split, \n",
    "             min_samples_leaf = min_samples_leaf)\n",
    "\n",
    "gridF = GridSearchCV(forest, hyperF, cv = 3, verbose = 1, \n",
    "                      n_jobs = -1)\n",
    "bestF = gridF.fit(X_res, y_res)"
   ]
  },
  {
   "cell_type": "code",
   "execution_count": 111,
   "metadata": {},
   "outputs": [
    {
     "data": {
      "text/plain": [
       "{'max_depth': 25,\n",
       " 'min_samples_leaf': 1,\n",
       " 'min_samples_split': 2,\n",
       " 'n_estimators': 500}"
      ]
     },
     "execution_count": 111,
     "metadata": {},
     "output_type": "execute_result"
    }
   ],
   "source": [
    "gridF.best_params_"
   ]
  },
  {
   "cell_type": "code",
   "execution_count": 112,
   "metadata": {},
   "outputs": [],
   "source": [
    "rfc1=RandomForestClassifier(random_state=42, max_features='auto', n_estimators= 500, max_depth=25, min_samples_leaf=1, min_samples_split=2, criterion='gini')"
   ]
  },
  {
   "cell_type": "code",
   "execution_count": 113,
   "metadata": {},
   "outputs": [
    {
     "data": {
      "text/plain": [
       "RandomForestClassifier(bootstrap=True, class_weight=None, criterion='gini',\n",
       "                       max_depth=25, max_features='auto', max_leaf_nodes=None,\n",
       "                       min_impurity_decrease=0.0, min_impurity_split=None,\n",
       "                       min_samples_leaf=1, min_samples_split=2,\n",
       "                       min_weight_fraction_leaf=0.0, n_estimators=500,\n",
       "                       n_jobs=None, oob_score=False, random_state=42, verbose=0,\n",
       "                       warm_start=False)"
      ]
     },
     "execution_count": 113,
     "metadata": {},
     "output_type": "execute_result"
    }
   ],
   "source": [
    "rfc1.fit(X_res, y_res)"
   ]
  },
  {
   "cell_type": "code",
   "execution_count": 114,
   "metadata": {},
   "outputs": [],
   "source": [
    "pred=rfc1.predict(X_test)"
   ]
  },
  {
   "cell_type": "code",
   "execution_count": 115,
   "metadata": {},
   "outputs": [
    {
     "name": "stdout",
     "output_type": "stream",
     "text": [
      "Accuracy for Random Forest on CV data:  0.8998272884283247\n"
     ]
    }
   ],
   "source": [
    "print(\"Accuracy for Random Forest on CV data: \",accuracy_score(y_test,pred))"
   ]
  },
  {
   "cell_type": "code",
   "execution_count": 116,
   "metadata": {},
   "outputs": [
    {
     "name": "stdout",
     "output_type": "stream",
     "text": [
      "True Negatives:  988\n",
      "False Positives:  96\n",
      "False Negatives:  20\n",
      "True Positives:  54\n"
     ]
    }
   ],
   "source": [
    "from sklearn.metrics import confusion_matrix\n",
    "\n",
    "tn, fp, fn, tp = confusion_matrix(y_test, pred).ravel()\n",
    "print(\"True Negatives: \",tn)\n",
    "print(\"False Positives: \",fp)\n",
    "print(\"False Negatives: \",fn)\n",
    "print(\"True Positives: \",tp)"
   ]
  },
  {
   "cell_type": "code",
   "execution_count": null,
   "metadata": {},
   "outputs": [],
   "source": []
  },
  {
   "cell_type": "markdown",
   "metadata": {},
   "source": [
    "#  KNN"
   ]
  },
  {
   "cell_type": "code",
   "execution_count": 31,
   "metadata": {},
   "outputs": [],
   "source": [
    "import numpy as np\n",
    "from sklearn import neighbors\n",
    "import pandas as pd"
   ]
  },
  {
   "cell_type": "code",
   "execution_count": 32,
   "metadata": {},
   "outputs": [],
   "source": [
    "clf_knn = neighbors.KNeighborsClassifier()"
   ]
  },
  {
   "cell_type": "code",
   "execution_count": 33,
   "metadata": {},
   "outputs": [
    {
     "data": {
      "text/plain": [
       "KNeighborsClassifier(algorithm='auto', leaf_size=30, metric='minkowski',\n",
       "                     metric_params=None, n_jobs=None, n_neighbors=5, p=2,\n",
       "                     weights='uniform')"
      ]
     },
     "execution_count": 33,
     "metadata": {},
     "output_type": "execute_result"
    }
   ],
   "source": [
    "clf_knn.fit(X_res, y_res)"
   ]
  },
  {
   "cell_type": "code",
   "execution_count": 34,
   "metadata": {},
   "outputs": [
    {
     "data": {
      "text/plain": [
       "0.7936096718480138"
      ]
     },
     "execution_count": 34,
     "metadata": {},
     "output_type": "execute_result"
    }
   ],
   "source": [
    "from sklearn.metrics import accuracy_score\n",
    "\n",
    "# Apply The Full Featured Classifier To The Limited feature Test Data\n",
    "y_knn_pred = clf_knn.predict(X_test)\n",
    "\n",
    "# View The Accuracy Of Our Limited Feature Model\n",
    "accuracy_score(y_test, y_knn_pred)"
   ]
  },
  {
   "cell_type": "code",
   "execution_count": 35,
   "metadata": {},
   "outputs": [
    {
     "name": "stdout",
     "output_type": "stream",
     "text": [
      "0.7936096718480138\n"
     ]
    }
   ],
   "source": [
    "accuracy = clf_knn.score(X_test, y_test)\n",
    "print(accuracy)"
   ]
  },
  {
   "cell_type": "code",
   "execution_count": 36,
   "metadata": {},
   "outputs": [
    {
     "name": "stdout",
     "output_type": "stream",
     "text": [
      "True Negatives:  869\n",
      "False Positives:  215\n",
      "False Negatives:  24\n",
      "True Positives:  50\n"
     ]
    }
   ],
   "source": [
    "from sklearn.metrics import confusion_matrix\n",
    "\n",
    "tn, fp, fn, tp = confusion_matrix(y_test, y_knn_pred).ravel()\n",
    "print(\"True Negatives: \",tn)\n",
    "print(\"False Positives: \",fp)\n",
    "print(\"False Negatives: \",fn)\n",
    "print(\"True Positives: \",tp)"
   ]
  },
  {
   "cell_type": "code",
   "execution_count": 38,
   "metadata": {},
   "outputs": [
    {
     "name": "stdout",
     "output_type": "stream",
     "text": [
      "Specificity 0.80\n",
      "Recall / Sensitivity 0.68\n",
      "Geometric Mean Score 0.74\n"
     ]
    }
   ],
   "source": [
    "#Specificity\n",
    "Specificity = tn/(tn+fp) \n",
    "print(\"Specificity {:0.2f}\".format(Specificity))\n",
    "\n",
    "#Recall \n",
    "Recall = tp/(tp+fn) \n",
    "print(\"Recall / Sensitivity {:0.2f}\".format(Recall))\n",
    "\n",
    "#Precision\n",
    "Precision = tp / (tp + fp)\n",
    "\n",
    "#GMean\n",
    "GM = math.sqrt(Specificity*Recall)\n",
    "print(\"Geometric Mean Score {:0.2f}\".format(GM))"
   ]
  },
  {
   "cell_type": "code",
   "execution_count": null,
   "metadata": {},
   "outputs": [],
   "source": []
  },
  {
   "cell_type": "markdown",
   "metadata": {},
   "source": [
    "# NEURAL NETWORK"
   ]
  },
  {
   "cell_type": "code",
   "execution_count": 58,
   "metadata": {},
   "outputs": [],
   "source": [
    "from sklearn.preprocessing import StandardScaler "
   ]
  },
  {
   "cell_type": "code",
   "execution_count": 59,
   "metadata": {},
   "outputs": [],
   "source": [
    "# Define the scaler\n",
    "scaler = StandardScaler().fit(X_res)\n",
    "\n",
    "# Scale the train set\n",
    "X_nn_res = scaler.transform(X_res)\n",
    "\n",
    "# Scale the test set\n",
    "X_nn_test = scaler.transform(X_test)"
   ]
  },
  {
   "cell_type": "code",
   "execution_count": 60,
   "metadata": {},
   "outputs": [],
   "source": [
    "# Import `Sequential` from `keras.models`\n",
    "from keras.models import Sequential\n",
    "\n",
    "# Import `Dense` from `keras.layers`\n",
    "from keras.layers import Dense\n",
    "\n",
    "# Initialize the constructor\n",
    "model = Sequential()\n",
    "\n",
    "# Add an input layer \n",
    "model.add(Dense(12, activation='relu', input_shape=(7,)))\n",
    "\n",
    "# Add one hidden layer \n",
    "model.add(Dense(8, activation='relu'))\n",
    "\n",
    "# Add an output layer \n",
    "model.add(Dense(1, activation='sigmoid'))"
   ]
  },
  {
   "cell_type": "code",
   "execution_count": 61,
   "metadata": {},
   "outputs": [
    {
     "data": {
      "text/plain": [
       "[array([[-0.35870564, -0.48075053,  0.47167224,  0.38249737,  0.19643843,\n",
       "         -0.31798643,  0.50265783,  0.37986183,  0.21740049,  0.19191247,\n",
       "          0.03750437, -0.18749315],\n",
       "        [-0.48749077,  0.31960434, -0.47889063,  0.50038797,  0.04384416,\n",
       "          0.5448695 , -0.38188118, -0.20202553, -0.22672081, -0.08872896,\n",
       "          0.46745187, -0.50827146],\n",
       "        [-0.2007471 ,  0.51490694,  0.0663529 ,  0.2664829 ,  0.32800955,\n",
       "          0.21771562,  0.02219331,  0.12507606, -0.36750033, -0.5351049 ,\n",
       "          0.46344382,  0.39015043],\n",
       "        [-0.35140216,  0.3987137 , -0.32216257,  0.5533766 ,  0.33990496,\n",
       "         -0.18425113,  0.18591744, -0.4494052 ,  0.43655062, -0.21458077,\n",
       "         -0.48078388,  0.11328787],\n",
       "        [ 0.00396246,  0.4614187 , -0.23674327, -0.4344532 ,  0.5546214 ,\n",
       "          0.32237935, -0.2253873 ,  0.18405968, -0.36742517, -0.09345657,\n",
       "          0.14604896,  0.08365089],\n",
       "        [-0.03995675,  0.42688042, -0.0274964 ,  0.33859932, -0.30176923,\n",
       "          0.149131  ,  0.4259346 ,  0.42029005, -0.2438347 , -0.01453143,\n",
       "          0.45074052,  0.27105987],\n",
       "        [ 0.04440045, -0.20795667, -0.3941848 , -0.11506093, -0.39443922,\n",
       "         -0.5023065 ,  0.18406773,  0.40157723,  0.0417605 ,  0.5550522 ,\n",
       "          0.1145609 ,  0.48931235]], dtype=float32),\n",
       " array([0., 0., 0., 0., 0., 0., 0., 0., 0., 0., 0., 0.], dtype=float32),\n",
       " array([[-0.30194736, -0.26776665,  0.14504975, -0.046359  , -0.17603198,\n",
       "          0.3483101 , -0.21280262,  0.4474569 ],\n",
       "        [ 0.18432534, -0.07850227, -0.1004186 , -0.06301343,  0.10794705,\n",
       "          0.35581237,  0.03174233,  0.48948705],\n",
       "        [-0.41787577,  0.25204146,  0.13801855,  0.21028566,  0.19527519,\n",
       "         -0.12668765,  0.23552167, -0.31161   ],\n",
       "        [-0.38448918,  0.13035375, -0.41401953, -0.41062582,  0.2147724 ,\n",
       "         -0.24566397, -0.04912862,  0.54437363],\n",
       "        [ 0.49182212,  0.25605416,  0.21864611, -0.265992  ,  0.28611374,\n",
       "          0.12912542, -0.3615232 , -0.4926367 ],\n",
       "        [-0.35994464,  0.31229562, -0.1280041 ,  0.5414703 , -0.3802032 ,\n",
       "          0.3497492 , -0.35476074, -0.00724876],\n",
       "        [ 0.088485  ,  0.49061072, -0.17072988,  0.5333239 , -0.2387025 ,\n",
       "         -0.04269588,  0.31021535,  0.18511653],\n",
       "        [-0.0895066 ,  0.21946925,  0.31129557,  0.24696398, -0.43683365,\n",
       "         -0.26370984, -0.01981193,  0.02660626],\n",
       "        [-0.18821931,  0.443406  , -0.20163557,  0.37071925, -0.48155755,\n",
       "         -0.46280575,  0.3835898 , -0.474887  ],\n",
       "        [-0.12447107, -0.45219082, -0.35383528,  0.00867832, -0.11607128,\n",
       "         -0.3816574 ,  0.49816585, -0.4579436 ],\n",
       "        [ 0.29191756, -0.21507719, -0.5030714 , -0.19219542, -0.03950053,\n",
       "          0.47961104,  0.2600646 ,  0.41555315],\n",
       "        [ 0.30888402,  0.17052591, -0.25432152,  0.21085829, -0.2904806 ,\n",
       "          0.03796822,  0.2015549 ,  0.3410049 ]], dtype=float32),\n",
       " array([0., 0., 0., 0., 0., 0., 0., 0.], dtype=float32),\n",
       " array([[-0.7354205 ],\n",
       "        [-0.13457006],\n",
       "        [ 0.634012  ],\n",
       "        [ 0.35425186],\n",
       "        [-0.52888906],\n",
       "        [-0.02109444],\n",
       "        [ 0.48306155],\n",
       "        [ 0.7141371 ]], dtype=float32),\n",
       " array([0.], dtype=float32)]"
      ]
     },
     "execution_count": 61,
     "metadata": {},
     "output_type": "execute_result"
    }
   ],
   "source": [
    "# Model output shape\n",
    "model.output_shape\n",
    "\n",
    "# Model summary\n",
    "model.summary\n",
    "\n",
    "# Model config\n",
    "model.get_config()\n",
    "\n",
    "# List all weight tensors \n",
    "model.get_weights()"
   ]
  },
  {
   "cell_type": "code",
   "execution_count": 62,
   "metadata": {
    "scrolled": true
   },
   "outputs": [
    {
     "name": "stdout",
     "output_type": "stream",
     "text": [
      "Epoch 1/20\n",
      "7102/7102 [==============================] - 30s 4ms/step - loss: 0.5109 - accuracy: 0.7685\n",
      "Epoch 2/20\n",
      "7102/7102 [==============================] - 32s 4ms/step - loss: 0.4584 - accuracy: 0.8009\n",
      "Epoch 3/20\n",
      "7102/7102 [==============================] - 37s 5ms/step - loss: 0.4180 - accuracy: 0.8320\n",
      "Epoch 4/20\n",
      "7102/7102 [==============================] - 44s 6ms/step - loss: 0.3862 - accuracy: 0.8479\n",
      "Epoch 5/20\n",
      "7102/7102 [==============================] - 44s 6ms/step - loss: 0.3816 - accuracy: 0.8627\n",
      "Epoch 6/20\n",
      "7102/7102 [==============================] - 31s 4ms/step - loss: 0.3579 - accuracy: 0.8668\n",
      "Epoch 7/20\n",
      "7102/7102 [==============================] - 31s 4ms/step - loss: 0.3416 - accuracy: 0.8698\n",
      "Epoch 8/20\n",
      "7102/7102 [==============================] - 34s 5ms/step - loss: 0.3332 - accuracy: 0.8719\n",
      "Epoch 9/20\n",
      "7102/7102 [==============================] - 35s 5ms/step - loss: 0.3262 - accuracy: 0.8748\n",
      "Epoch 10/20\n",
      "7102/7102 [==============================] - 32s 4ms/step - loss: 0.3174 - accuracy: 0.8778\n",
      "Epoch 11/20\n",
      "7102/7102 [==============================] - 30s 4ms/step - loss: 0.3126 - accuracy: 0.8740\n",
      "Epoch 12/20\n",
      "7102/7102 [==============================] - 31s 4ms/step - loss: 0.3062 - accuracy: 0.8767\n",
      "Epoch 13/20\n",
      "7102/7102 [==============================] - 32s 5ms/step - loss: 0.3033 - accuracy: 0.8779\n",
      "Epoch 14/20\n",
      "7102/7102 [==============================] - 31s 4ms/step - loss: 0.3007 - accuracy: 0.8796\n",
      "Epoch 15/20\n",
      "7102/7102 [==============================] - 31s 4ms/step - loss: 0.2968 - accuracy: 0.8789\n",
      "Epoch 16/20\n",
      "7102/7102 [==============================] - 36s 5ms/step - loss: 0.3003 - accuracy: 0.8816\n",
      "Epoch 17/20\n",
      "7102/7102 [==============================] - 34s 5ms/step - loss: 0.2903 - accuracy: 0.8819\n",
      "Epoch 18/20\n",
      "7102/7102 [==============================] - 33s 5ms/step - loss: 0.2874 - accuracy: 0.8833\n",
      "Epoch 19/20\n",
      "7102/7102 [==============================] - 33s 5ms/step - loss: 0.2876 - accuracy: 0.8847\n",
      "Epoch 20/20\n",
      "7102/7102 [==============================] - 33s 5ms/step - loss: 0.2836 - accuracy: 0.8844\n"
     ]
    },
    {
     "data": {
      "text/plain": [
       "<keras.callbacks.callbacks.History at 0x191e8807ef0>"
      ]
     },
     "execution_count": 62,
     "metadata": {},
     "output_type": "execute_result"
    }
   ],
   "source": [
    "model.compile(loss='binary_crossentropy',\n",
    "              optimizer='adam',\n",
    "              metrics=['accuracy'])\n",
    "                   \n",
    "model.fit(X_nn_res, y_res, epochs=20, batch_size=1, verbose=1)"
   ]
  },
  {
   "cell_type": "code",
   "execution_count": 63,
   "metadata": {},
   "outputs": [],
   "source": [
    "y_nn_pred = model.predict(X_test)"
   ]
  },
  {
   "cell_type": "code",
   "execution_count": 71,
   "metadata": {
    "collapsed": true
   },
   "outputs": [
    {
     "data": {
      "text/plain": [
       "array([1, 0, 1, ..., 1, 0, 1], dtype=int64)"
      ]
     },
     "execution_count": 71,
     "metadata": {},
     "output_type": "execute_result"
    }
   ],
   "source": []
  },
  {
   "cell_type": "code",
   "execution_count": 133,
   "metadata": {},
   "outputs": [
    {
     "ename": "ValueError",
     "evalue": "Error when checking input: expected dense_1_input to have shape (7,) but got array with shape (1,)",
     "output_type": "error",
     "traceback": [
      "\u001b[1;31m---------------------------------------------------------------------------\u001b[0m",
      "\u001b[1;31mValueError\u001b[0m                                Traceback (most recent call last)",
      "\u001b[1;32m<ipython-input-133-f1210a27a971>\u001b[0m in \u001b[0;36m<module>\u001b[1;34m\u001b[0m\n\u001b[1;32m----> 1\u001b[1;33m \u001b[0mscore\u001b[0m \u001b[1;33m=\u001b[0m \u001b[0mmodel\u001b[0m\u001b[1;33m.\u001b[0m\u001b[0mevaluate\u001b[0m\u001b[1;33m(\u001b[0m\u001b[0my_test\u001b[0m\u001b[1;33m,\u001b[0m \u001b[0my_nn_pred\u001b[0m\u001b[1;33m,\u001b[0m \u001b[0mverbose\u001b[0m\u001b[1;33m=\u001b[0m\u001b[1;36m1\u001b[0m\u001b[1;33m)\u001b[0m\u001b[1;33m\u001b[0m\u001b[1;33m\u001b[0m\u001b[0m\n\u001b[0m\u001b[0;32m      2\u001b[0m \u001b[1;33m\u001b[0m\u001b[0m\n\u001b[0;32m      3\u001b[0m \u001b[0mprint\u001b[0m\u001b[1;33m(\u001b[0m\u001b[0mscore\u001b[0m\u001b[1;33m)\u001b[0m\u001b[1;33m\u001b[0m\u001b[1;33m\u001b[0m\u001b[0m\n",
      "\u001b[1;32mc:\\users\\shant\\appdata\\local\\programs\\python\\python37\\lib\\site-packages\\keras\\engine\\training.py\u001b[0m in \u001b[0;36mevaluate\u001b[1;34m(self, x, y, batch_size, verbose, sample_weight, steps, callbacks, max_queue_size, workers, use_multiprocessing)\u001b[0m\n\u001b[0;32m   1347\u001b[0m             \u001b[0mx\u001b[0m\u001b[1;33m,\u001b[0m \u001b[0my\u001b[0m\u001b[1;33m,\u001b[0m\u001b[1;33m\u001b[0m\u001b[1;33m\u001b[0m\u001b[0m\n\u001b[0;32m   1348\u001b[0m             \u001b[0msample_weight\u001b[0m\u001b[1;33m=\u001b[0m\u001b[0msample_weight\u001b[0m\u001b[1;33m,\u001b[0m\u001b[1;33m\u001b[0m\u001b[1;33m\u001b[0m\u001b[0m\n\u001b[1;32m-> 1349\u001b[1;33m             batch_size=batch_size)\n\u001b[0m\u001b[0;32m   1350\u001b[0m         \u001b[1;31m# Prepare inputs, delegate logic to `test_loop`.\u001b[0m\u001b[1;33m\u001b[0m\u001b[1;33m\u001b[0m\u001b[1;33m\u001b[0m\u001b[0m\n\u001b[0;32m   1351\u001b[0m         \u001b[1;32mif\u001b[0m \u001b[0mself\u001b[0m\u001b[1;33m.\u001b[0m\u001b[0m_uses_dynamic_learning_phase\u001b[0m\u001b[1;33m(\u001b[0m\u001b[1;33m)\u001b[0m\u001b[1;33m:\u001b[0m\u001b[1;33m\u001b[0m\u001b[1;33m\u001b[0m\u001b[0m\n",
      "\u001b[1;32mc:\\users\\shant\\appdata\\local\\programs\\python\\python37\\lib\\site-packages\\keras\\engine\\training.py\u001b[0m in \u001b[0;36m_standardize_user_data\u001b[1;34m(self, x, y, sample_weight, class_weight, check_array_lengths, batch_size)\u001b[0m\n\u001b[0;32m    577\u001b[0m             \u001b[0mfeed_input_shapes\u001b[0m\u001b[1;33m,\u001b[0m\u001b[1;33m\u001b[0m\u001b[1;33m\u001b[0m\u001b[0m\n\u001b[0;32m    578\u001b[0m             \u001b[0mcheck_batch_axis\u001b[0m\u001b[1;33m=\u001b[0m\u001b[1;32mFalse\u001b[0m\u001b[1;33m,\u001b[0m  \u001b[1;31m# Don't enforce the batch size.\u001b[0m\u001b[1;33m\u001b[0m\u001b[1;33m\u001b[0m\u001b[0m\n\u001b[1;32m--> 579\u001b[1;33m             exception_prefix='input')\n\u001b[0m\u001b[0;32m    580\u001b[0m \u001b[1;33m\u001b[0m\u001b[0m\n\u001b[0;32m    581\u001b[0m         \u001b[1;32mif\u001b[0m \u001b[0my\u001b[0m \u001b[1;32mis\u001b[0m \u001b[1;32mnot\u001b[0m \u001b[1;32mNone\u001b[0m\u001b[1;33m:\u001b[0m\u001b[1;33m\u001b[0m\u001b[1;33m\u001b[0m\u001b[0m\n",
      "\u001b[1;32mc:\\users\\shant\\appdata\\local\\programs\\python\\python37\\lib\\site-packages\\keras\\engine\\training_utils.py\u001b[0m in \u001b[0;36mstandardize_input_data\u001b[1;34m(data, names, shapes, check_batch_axis, exception_prefix)\u001b[0m\n\u001b[0;32m    143\u001b[0m                             \u001b[1;34m': expected '\u001b[0m \u001b[1;33m+\u001b[0m \u001b[0mnames\u001b[0m\u001b[1;33m[\u001b[0m\u001b[0mi\u001b[0m\u001b[1;33m]\u001b[0m \u001b[1;33m+\u001b[0m \u001b[1;34m' to have shape '\u001b[0m \u001b[1;33m+\u001b[0m\u001b[1;33m\u001b[0m\u001b[1;33m\u001b[0m\u001b[0m\n\u001b[0;32m    144\u001b[0m                             \u001b[0mstr\u001b[0m\u001b[1;33m(\u001b[0m\u001b[0mshape\u001b[0m\u001b[1;33m)\u001b[0m \u001b[1;33m+\u001b[0m \u001b[1;34m' but got array with shape '\u001b[0m \u001b[1;33m+\u001b[0m\u001b[1;33m\u001b[0m\u001b[1;33m\u001b[0m\u001b[0m\n\u001b[1;32m--> 145\u001b[1;33m                             str(data_shape))\n\u001b[0m\u001b[0;32m    146\u001b[0m     \u001b[1;32mreturn\u001b[0m \u001b[0mdata\u001b[0m\u001b[1;33m\u001b[0m\u001b[1;33m\u001b[0m\u001b[0m\n\u001b[0;32m    147\u001b[0m \u001b[1;33m\u001b[0m\u001b[0m\n",
      "\u001b[1;31mValueError\u001b[0m: Error when checking input: expected dense_1_input to have shape (7,) but got array with shape (1,)"
     ]
    }
   ],
   "source": []
  },
  {
   "cell_type": "code",
   "execution_count": 67,
   "metadata": {},
   "outputs": [
    {
     "ename": "ValueError",
     "evalue": "Classification metrics can't handle a mix of binary and continuous targets",
     "output_type": "error",
     "traceback": [
      "\u001b[1;31m---------------------------------------------------------------------------\u001b[0m",
      "\u001b[1;31mValueError\u001b[0m                                Traceback (most recent call last)",
      "\u001b[1;32m<ipython-input-67-f9b2f769649e>\u001b[0m in \u001b[0;36m<module>\u001b[1;34m\u001b[0m\n\u001b[0;32m      1\u001b[0m \u001b[1;32mfrom\u001b[0m \u001b[0msklearn\u001b[0m\u001b[1;33m.\u001b[0m\u001b[0mmetrics\u001b[0m \u001b[1;32mimport\u001b[0m \u001b[0mconfusion_matrix\u001b[0m\u001b[1;33m\u001b[0m\u001b[1;33m\u001b[0m\u001b[0m\n\u001b[0;32m      2\u001b[0m \u001b[1;33m\u001b[0m\u001b[0m\n\u001b[1;32m----> 3\u001b[1;33m \u001b[0mtn\u001b[0m\u001b[1;33m,\u001b[0m \u001b[0mfp\u001b[0m\u001b[1;33m,\u001b[0m \u001b[0mfn\u001b[0m\u001b[1;33m,\u001b[0m \u001b[0mtp\u001b[0m \u001b[1;33m=\u001b[0m \u001b[0mconfusion_matrix\u001b[0m\u001b[1;33m(\u001b[0m\u001b[0my_test\u001b[0m\u001b[1;33m,\u001b[0m \u001b[0my_nn_pred\u001b[0m\u001b[1;33m)\u001b[0m\u001b[1;33m.\u001b[0m\u001b[0mravel\u001b[0m\u001b[1;33m(\u001b[0m\u001b[1;33m)\u001b[0m\u001b[1;33m\u001b[0m\u001b[1;33m\u001b[0m\u001b[0m\n\u001b[0m\u001b[0;32m      4\u001b[0m \u001b[0mprint\u001b[0m\u001b[1;33m(\u001b[0m\u001b[1;34m\"True Negatives: \"\u001b[0m\u001b[1;33m,\u001b[0m\u001b[0mtn\u001b[0m\u001b[1;33m)\u001b[0m\u001b[1;33m\u001b[0m\u001b[1;33m\u001b[0m\u001b[0m\n\u001b[0;32m      5\u001b[0m \u001b[0mprint\u001b[0m\u001b[1;33m(\u001b[0m\u001b[1;34m\"False Positives: \"\u001b[0m\u001b[1;33m,\u001b[0m\u001b[0mfp\u001b[0m\u001b[1;33m)\u001b[0m\u001b[1;33m\u001b[0m\u001b[1;33m\u001b[0m\u001b[0m\n",
      "\u001b[1;32mc:\\users\\shant\\appdata\\local\\programs\\python\\python37\\lib\\site-packages\\sklearn\\metrics\\classification.py\u001b[0m in \u001b[0;36mconfusion_matrix\u001b[1;34m(y_true, y_pred, labels, sample_weight)\u001b[0m\n\u001b[0;32m    251\u001b[0m \u001b[1;33m\u001b[0m\u001b[0m\n\u001b[0;32m    252\u001b[0m     \"\"\"\n\u001b[1;32m--> 253\u001b[1;33m     \u001b[0my_type\u001b[0m\u001b[1;33m,\u001b[0m \u001b[0my_true\u001b[0m\u001b[1;33m,\u001b[0m \u001b[0my_pred\u001b[0m \u001b[1;33m=\u001b[0m \u001b[0m_check_targets\u001b[0m\u001b[1;33m(\u001b[0m\u001b[0my_true\u001b[0m\u001b[1;33m,\u001b[0m \u001b[0my_pred\u001b[0m\u001b[1;33m)\u001b[0m\u001b[1;33m\u001b[0m\u001b[1;33m\u001b[0m\u001b[0m\n\u001b[0m\u001b[0;32m    254\u001b[0m     \u001b[1;32mif\u001b[0m \u001b[0my_type\u001b[0m \u001b[1;32mnot\u001b[0m \u001b[1;32min\u001b[0m \u001b[1;33m(\u001b[0m\u001b[1;34m\"binary\"\u001b[0m\u001b[1;33m,\u001b[0m \u001b[1;34m\"multiclass\"\u001b[0m\u001b[1;33m)\u001b[0m\u001b[1;33m:\u001b[0m\u001b[1;33m\u001b[0m\u001b[1;33m\u001b[0m\u001b[0m\n\u001b[0;32m    255\u001b[0m         \u001b[1;32mraise\u001b[0m \u001b[0mValueError\u001b[0m\u001b[1;33m(\u001b[0m\u001b[1;34m\"%s is not supported\"\u001b[0m \u001b[1;33m%\u001b[0m \u001b[0my_type\u001b[0m\u001b[1;33m)\u001b[0m\u001b[1;33m\u001b[0m\u001b[1;33m\u001b[0m\u001b[0m\n",
      "\u001b[1;32mc:\\users\\shant\\appdata\\local\\programs\\python\\python37\\lib\\site-packages\\sklearn\\metrics\\classification.py\u001b[0m in \u001b[0;36m_check_targets\u001b[1;34m(y_true, y_pred)\u001b[0m\n\u001b[0;32m     79\u001b[0m     \u001b[1;32mif\u001b[0m \u001b[0mlen\u001b[0m\u001b[1;33m(\u001b[0m\u001b[0my_type\u001b[0m\u001b[1;33m)\u001b[0m \u001b[1;33m>\u001b[0m \u001b[1;36m1\u001b[0m\u001b[1;33m:\u001b[0m\u001b[1;33m\u001b[0m\u001b[1;33m\u001b[0m\u001b[0m\n\u001b[0;32m     80\u001b[0m         raise ValueError(\"Classification metrics can't handle a mix of {0} \"\n\u001b[1;32m---> 81\u001b[1;33m                          \"and {1} targets\".format(type_true, type_pred))\n\u001b[0m\u001b[0;32m     82\u001b[0m \u001b[1;33m\u001b[0m\u001b[0m\n\u001b[0;32m     83\u001b[0m     \u001b[1;31m# We can't have more than one value on y_type => The set is no more needed\u001b[0m\u001b[1;33m\u001b[0m\u001b[1;33m\u001b[0m\u001b[1;33m\u001b[0m\u001b[0m\n",
      "\u001b[1;31mValueError\u001b[0m: Classification metrics can't handle a mix of binary and continuous targets"
     ]
    }
   ],
   "source": [
    "from sklearn.metrics import confusion_matrix\n",
    "\n",
    "tn, fp, fn, tp = confusion_matrix(y_test, y_nn_pred).ravel()\n",
    "print(\"True Negatives: \",tn)\n",
    "print(\"False Positives: \",fp)\n",
    "print(\"False Negatives: \",fn)\n",
    "print(\"True Positives: \",tp)"
   ]
  },
  {
   "cell_type": "markdown",
   "metadata": {},
   "source": [
    "# AdaBoost"
   ]
  },
  {
   "cell_type": "code",
   "execution_count": 117,
   "metadata": {},
   "outputs": [],
   "source": [
    "from sklearn.ensemble import AdaBoostClassifier\n",
    "from sklearn.tree import DecisionTreeClassifier\n",
    "from sklearn.datasets import load_breast_cancer\n",
    "import pandas as pd\n",
    "import numpy as np\n",
    "from sklearn.model_selection import train_test_split\n",
    "from sklearn.metrics import confusion_matrix\n",
    "from sklearn.preprocessing import LabelEncoder"
   ]
  },
  {
   "cell_type": "code",
   "execution_count": 118,
   "metadata": {},
   "outputs": [
    {
     "data": {
      "text/plain": [
       "AdaBoostClassifier(algorithm='SAMME.R',\n",
       "                   base_estimator=DecisionTreeClassifier(class_weight=None,\n",
       "                                                         criterion='gini',\n",
       "                                                         max_depth=1,\n",
       "                                                         max_features=None,\n",
       "                                                         max_leaf_nodes=None,\n",
       "                                                         min_impurity_decrease=0.0,\n",
       "                                                         min_impurity_split=None,\n",
       "                                                         min_samples_leaf=1,\n",
       "                                                         min_samples_split=2,\n",
       "                                                         min_weight_fraction_leaf=0.0,\n",
       "                                                         presort=False,\n",
       "                                                         random_state=None,\n",
       "                                                         splitter='best'),\n",
       "                   learning_rate=1.0, n_estimators=200, random_state=None)"
      ]
     },
     "execution_count": 118,
     "metadata": {},
     "output_type": "execute_result"
    }
   ],
   "source": [
    "classifier = AdaBoostClassifier(\n",
    "    DecisionTreeClassifier(max_depth=1),\n",
    "    n_estimators=200\n",
    ")\n",
    "classifier.fit(X_res, y_res)"
   ]
  },
  {
   "cell_type": "code",
   "execution_count": 119,
   "metadata": {},
   "outputs": [],
   "source": [
    "predictions = classifier.predict(X_test)"
   ]
  },
  {
   "cell_type": "code",
   "execution_count": 120,
   "metadata": {},
   "outputs": [
    {
     "data": {
      "text/plain": [
       "array([[915, 169],\n",
       "       [ 18,  56]], dtype=int64)"
      ]
     },
     "execution_count": 120,
     "metadata": {},
     "output_type": "execute_result"
    }
   ],
   "source": [
    "confusion_matrix(y_test, predictions)"
   ]
  },
  {
   "cell_type": "code",
   "execution_count": 131,
   "metadata": {},
   "outputs": [
    {
     "name": "stdout",
     "output_type": "stream",
     "text": [
      "True Negatives:  915\n",
      "False Positives:  169\n",
      "False Negatives:  18\n",
      "True Positives:  56\n"
     ]
    }
   ],
   "source": [
    "from sklearn.metrics import confusion_matrix\n",
    "\n",
    "tn, fp, fn, tp = confusion_matrix(y_test, predictions).ravel()\n",
    "print(\"True Negatives: \",tn)\n",
    "print(\"False Positives: \",fp)\n",
    "print(\"False Negatives: \",fn)\n",
    "print(\"True Positives: \",tp)"
   ]
  },
  {
   "cell_type": "code",
   "execution_count": 132,
   "metadata": {},
   "outputs": [
    {
     "name": "stdout",
     "output_type": "stream",
     "text": [
      "Specificity 0.84\n",
      "Recall / Sensitivity 0.76\n",
      "Geometric Mean Score 0.80\n"
     ]
    }
   ],
   "source": [
    "#Specificity\n",
    "Specificity = tn/(tn+fp) \n",
    "print(\"Specificity {:0.2f}\".format(Specificity))\n",
    "\n",
    "#Recall \n",
    "Recall = tp/(tp+fn) \n",
    "print(\"Recall / Sensitivity {:0.2f}\".format(Recall))\n",
    "\n",
    "#Precision\n",
    "Precision = tp / (tp + fp)\n",
    "\n",
    "#GMean\n",
    "GM = math.sqrt(Specificity*Recall)\n",
    "print(\"Geometric Mean Score {:0.2f}\".format(GM))"
   ]
  },
  {
   "cell_type": "code",
   "execution_count": null,
   "metadata": {},
   "outputs": [],
   "source": []
  },
  {
   "cell_type": "markdown",
   "metadata": {},
   "source": [
    "# DECISION TREE"
   ]
  },
  {
   "cell_type": "code",
   "execution_count": 123,
   "metadata": {},
   "outputs": [
    {
     "name": "stderr",
     "output_type": "stream",
     "text": [
      "c:\\users\\shant\\appdata\\local\\programs\\python\\python37\\lib\\site-packages\\sklearn\\externals\\six.py:31: DeprecationWarning: The module is deprecated in version 0.21 and will be removed in version 0.23 since we've dropped support for Python 2.7. Please rely on the official version of six (https://pypi.org/project/six/).\n",
      "  \"(https://pypi.org/project/six/).\", DeprecationWarning)\n"
     ]
    },
    {
     "data": {
      "text/plain": [
       "DecisionTreeClassifier(class_weight=None, criterion='gini', max_depth=None,\n",
       "                       max_features=None, max_leaf_nodes=None,\n",
       "                       min_impurity_decrease=0.0, min_impurity_split=None,\n",
       "                       min_samples_leaf=1, min_samples_split=2,\n",
       "                       min_weight_fraction_leaf=0.0, presort=False,\n",
       "                       random_state=None, splitter='best')"
      ]
     },
     "execution_count": 123,
     "metadata": {},
     "output_type": "execute_result"
    }
   ],
   "source": [
    "#Decision tree implementation\n",
    "\n",
    "from sklearn.tree import DecisionTreeClassifier\n",
    "from sklearn.metrics import confusion_matrix\n",
    "from sklearn.tree import export_graphviz\n",
    "from sklearn.externals.six import StringIO\n",
    "\n",
    "dt = DecisionTreeClassifier()\n",
    "dt.fit(X_res, y_res)\n"
   ]
  },
  {
   "cell_type": "code",
   "execution_count": 125,
   "metadata": {},
   "outputs": [],
   "source": [
    "y_dt_pred = dt.predict(X_test)"
   ]
  },
  {
   "cell_type": "code",
   "execution_count": 126,
   "metadata": {},
   "outputs": [
    {
     "data": {
      "text/plain": [
       "array([[938, 146],\n",
       "       [ 27,  47]], dtype=int64)"
      ]
     },
     "execution_count": 126,
     "metadata": {},
     "output_type": "execute_result"
    }
   ],
   "source": [
    "confusion_matrix(y_test, y_dt_pred)"
   ]
  },
  {
   "cell_type": "code",
   "execution_count": 129,
   "metadata": {},
   "outputs": [
    {
     "name": "stdout",
     "output_type": "stream",
     "text": [
      "True Negatives:  938\n",
      "False Positives:  146\n",
      "False Negatives:  27\n",
      "True Positives:  47\n"
     ]
    }
   ],
   "source": [
    "from sklearn.metrics import confusion_matrix\n",
    "\n",
    "tn, fp, fn, tp = confusion_matrix(y_test, y_dt_pred).ravel()\n",
    "print(\"True Negatives: \",tn)\n",
    "print(\"False Positives: \",fp)\n",
    "print(\"False Negatives: \",fn)\n",
    "print(\"True Positives: \",tp)"
   ]
  },
  {
   "cell_type": "code",
   "execution_count": 130,
   "metadata": {},
   "outputs": [
    {
     "name": "stdout",
     "output_type": "stream",
     "text": [
      "Specificity 0.87\n",
      "Recall / Sensitivity 0.64\n",
      "Geometric Mean Score 0.74\n"
     ]
    }
   ],
   "source": [
    "#Specificity\n",
    "Specificity = tn/(tn+fp) \n",
    "print(\"Specificity {:0.2f}\".format(Specificity))\n",
    "\n",
    "#Recall \n",
    "Recall = tp/(tp+fn) \n",
    "print(\"Recall / Sensitivity {:0.2f}\".format(Recall))\n",
    "\n",
    "#Precision\n",
    "Precision = tp / (tp + fp)\n",
    "\n",
    "#GMean\n",
    "GM = math.sqrt(Specificity*Recall)\n",
    "print(\"Geometric Mean Score {:0.2f}\".format(GM))"
   ]
  }
 ],
 "metadata": {
  "kernelspec": {
   "display_name": "Python 3",
   "language": "python",
   "name": "python3"
  },
  "language_info": {
   "codemirror_mode": {
    "name": "ipython",
    "version": 3
   },
   "file_extension": ".py",
   "mimetype": "text/x-python",
   "name": "python",
   "nbconvert_exporter": "python",
   "pygments_lexer": "ipython3",
   "version": "3.7.2"
  }
 },
 "nbformat": 4,
 "nbformat_minor": 2
}
