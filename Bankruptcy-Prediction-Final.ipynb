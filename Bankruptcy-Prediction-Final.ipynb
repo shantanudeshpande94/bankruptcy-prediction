{
 "cells": [
  {
   "cell_type": "code",
   "execution_count": 1,
   "metadata": {},
   "outputs": [
    {
     "name": "stderr",
     "output_type": "stream",
     "text": [
      "Using TensorFlow backend.\n"
     ]
    }
   ],
   "source": [
    "#importing necessary packages\n",
    "import scipy as sp\n",
    "import numpy as np\n",
    "import pandas as pd\n",
    "import pandas_profiling as pp\n",
    "from sklearn import datasets, linear_model\n",
    "from sklearn.model_selection import train_test_split\n",
    "from imblearn.metrics import classification_report_imbalanced\n",
    "from matplotlib import pyplot as plt\n",
    "import random\n",
    "\n",
    "#set seed\n",
    "random.seed(420)\n",
    "\n",
    "#loading csv into dataframe\n",
    "url = 'https://raw.githubusercontent.com/shantanudeshpande94/bankruptcy-prediction/master/5year.csv'\n",
    "bankruptcy_df = pd.read_csv(url)"
   ]
  },
  {
   "cell_type": "code",
   "execution_count": 2,
   "metadata": {},
   "outputs": [
    {
     "data": {
      "text/plain": [
       "(5910, 65)"
      ]
     },
     "execution_count": 2,
     "metadata": {},
     "output_type": "execute_result"
    }
   ],
   "source": [
    "bankruptcy_df.shape"
   ]
  },
  {
   "cell_type": "code",
   "execution_count": 3,
   "metadata": {},
   "outputs": [],
   "source": [
    "#to replace '?' with NA values\n",
    "\n",
    "bankruptcy_df.replace({'?': None},inplace =True)"
   ]
  },
  {
   "cell_type": "code",
   "execution_count": 4,
   "metadata": {},
   "outputs": [
    {
     "data": {
      "text/plain": [
       "Attr1       3\n",
       "Attr2       3\n",
       "Attr3       3\n",
       "Attr4      21\n",
       "Attr5      11\n",
       "         ... \n",
       "Attr61     15\n",
       "Attr62      0\n",
       "Attr63     21\n",
       "Attr64    107\n",
       "class       0\n",
       "Length: 65, dtype: int64"
      ]
     },
     "execution_count": 4,
     "metadata": {},
     "output_type": "execute_result"
    }
   ],
   "source": [
    "#to check null values in a column\n",
    "\n",
    "bankruptcy_df.isna().sum()"
   ]
  },
  {
   "cell_type": "code",
   "execution_count": 5,
   "metadata": {},
   "outputs": [
    {
     "data": {
      "text/plain": [
       "Attr1      -0.022347\n",
       "Attr2       0.465086\n",
       "Attr3       0.189155\n",
       "Attr4       4.892476\n",
       "Attr5      19.406758\n",
       "             ...    \n",
       "Attr61     10.941497\n",
       "Attr62    241.978184\n",
       "Attr63      9.127741\n",
       "Attr64     65.276716\n",
       "class       0.069374\n",
       "Length: 65, dtype: float64"
      ]
     },
     "execution_count": 5,
     "metadata": {},
     "output_type": "execute_result"
    }
   ],
   "source": [
    "#converting from object to float64\n",
    "\n",
    "bankruptcy_df['Attr1'] = pd.to_numeric(bankruptcy_df['Attr1'])\n",
    "bankruptcy_df['Attr2'] = pd.to_numeric(bankruptcy_df['Attr2'])\n",
    "bankruptcy_df['Attr3'] = pd.to_numeric(bankruptcy_df['Attr3'])\n",
    "bankruptcy_df['Attr4'] = pd.to_numeric(bankruptcy_df['Attr4'])\n",
    "bankruptcy_df['Attr5'] = pd.to_numeric(bankruptcy_df['Attr5'])\n",
    "bankruptcy_df['Attr6'] = pd.to_numeric(bankruptcy_df['Attr6'])\n",
    "bankruptcy_df['Attr7'] = pd.to_numeric(bankruptcy_df['Attr7'])\n",
    "bankruptcy_df['Attr8'] = pd.to_numeric(bankruptcy_df['Attr8'])\n",
    "bankruptcy_df['Attr9'] = pd.to_numeric(bankruptcy_df['Attr9'])\n",
    "bankruptcy_df['Attr10'] = pd.to_numeric(bankruptcy_df['Attr10'])\n",
    "bankruptcy_df['Attr11'] = pd.to_numeric(bankruptcy_df['Attr11'])\n",
    "bankruptcy_df['Attr12'] = pd.to_numeric(bankruptcy_df['Attr12'])\n",
    "bankruptcy_df['Attr13'] = pd.to_numeric(bankruptcy_df['Attr13'])\n",
    "bankruptcy_df['Attr14'] = pd.to_numeric(bankruptcy_df['Attr14'])\n",
    "bankruptcy_df['Attr15'] = pd.to_numeric(bankruptcy_df['Attr15'])\n",
    "bankruptcy_df['Attr16'] = pd.to_numeric(bankruptcy_df['Attr16'])\n",
    "bankruptcy_df['Attr17'] = pd.to_numeric(bankruptcy_df['Attr17'])\n",
    "bankruptcy_df['Attr18'] = pd.to_numeric(bankruptcy_df['Attr18'])\n",
    "bankruptcy_df['Attr19'] = pd.to_numeric(bankruptcy_df['Attr19'])\n",
    "bankruptcy_df['Attr20'] = pd.to_numeric(bankruptcy_df['Attr20'])\n",
    "bankruptcy_df['Attr21'] = pd.to_numeric(bankruptcy_df['Attr21'])\n",
    "bankruptcy_df['Attr22'] = pd.to_numeric(bankruptcy_df['Attr22'])\n",
    "bankruptcy_df['Attr23'] = pd.to_numeric(bankruptcy_df['Attr23'])\n",
    "bankruptcy_df['Attr24'] = pd.to_numeric(bankruptcy_df['Attr24'])\n",
    "bankruptcy_df['Attr25'] = pd.to_numeric(bankruptcy_df['Attr25'])\n",
    "bankruptcy_df['Attr26'] = pd.to_numeric(bankruptcy_df['Attr26'])\n",
    "bankruptcy_df['Attr27'] = pd.to_numeric(bankruptcy_df['Attr27'])\n",
    "bankruptcy_df['Attr28'] = pd.to_numeric(bankruptcy_df['Attr28'])\n",
    "bankruptcy_df['Attr29'] = pd.to_numeric(bankruptcy_df['Attr29'])\n",
    "bankruptcy_df['Attr30'] = pd.to_numeric(bankruptcy_df['Attr30'])\n",
    "bankruptcy_df['Attr31'] = pd.to_numeric(bankruptcy_df['Attr31'])\n",
    "bankruptcy_df['Attr32'] = pd.to_numeric(bankruptcy_df['Attr32'])\n",
    "bankruptcy_df['Attr33'] = pd.to_numeric(bankruptcy_df['Attr33'])\n",
    "bankruptcy_df['Attr34'] = pd.to_numeric(bankruptcy_df['Attr34'])\n",
    "bankruptcy_df['Attr35'] = pd.to_numeric(bankruptcy_df['Attr35'])\n",
    "bankruptcy_df['Attr36'] = pd.to_numeric(bankruptcy_df['Attr36'])\n",
    "bankruptcy_df['Attr37'] = pd.to_numeric(bankruptcy_df['Attr37'])\n",
    "bankruptcy_df['Attr38'] = pd.to_numeric(bankruptcy_df['Attr38'])\n",
    "bankruptcy_df['Attr39'] = pd.to_numeric(bankruptcy_df['Attr39'])\n",
    "bankruptcy_df['Attr40'] = pd.to_numeric(bankruptcy_df['Attr40'])\n",
    "bankruptcy_df['Attr41'] = pd.to_numeric(bankruptcy_df['Attr41'])\n",
    "bankruptcy_df['Attr42'] = pd.to_numeric(bankruptcy_df['Attr42'])\n",
    "bankruptcy_df['Attr43'] = pd.to_numeric(bankruptcy_df['Attr43'])\n",
    "bankruptcy_df['Attr44'] = pd.to_numeric(bankruptcy_df['Attr44'])\n",
    "bankruptcy_df['Attr45'] = pd.to_numeric(bankruptcy_df['Attr45'])\n",
    "bankruptcy_df['Attr46'] = pd.to_numeric(bankruptcy_df['Attr46'])\n",
    "bankruptcy_df['Attr47'] = pd.to_numeric(bankruptcy_df['Attr47'])\n",
    "bankruptcy_df['Attr48'] = pd.to_numeric(bankruptcy_df['Attr48'])\n",
    "bankruptcy_df['Attr49'] = pd.to_numeric(bankruptcy_df['Attr49'])\n",
    "bankruptcy_df['Attr50'] = pd.to_numeric(bankruptcy_df['Attr50'])\n",
    "bankruptcy_df['Attr51'] = pd.to_numeric(bankruptcy_df['Attr51'])\n",
    "bankruptcy_df['Attr52'] = pd.to_numeric(bankruptcy_df['Attr52'])\n",
    "bankruptcy_df['Attr53'] = pd.to_numeric(bankruptcy_df['Attr53'])\n",
    "bankruptcy_df['Attr54'] = pd.to_numeric(bankruptcy_df['Attr54'])\n",
    "bankruptcy_df['Attr55'] = pd.to_numeric(bankruptcy_df['Attr55'])\n",
    "bankruptcy_df['Attr56'] = pd.to_numeric(bankruptcy_df['Attr56'])\n",
    "bankruptcy_df['Attr57'] = pd.to_numeric(bankruptcy_df['Attr57'])\n",
    "bankruptcy_df['Attr58'] = pd.to_numeric(bankruptcy_df['Attr58'])\n",
    "bankruptcy_df['Attr59'] = pd.to_numeric(bankruptcy_df['Attr59'])\n",
    "bankruptcy_df['Attr60'] = pd.to_numeric(bankruptcy_df['Attr60'])\n",
    "bankruptcy_df['Attr61'] = pd.to_numeric(bankruptcy_df['Attr61'])\n",
    "bankruptcy_df['Attr62'] = pd.to_numeric(bankruptcy_df['Attr62'])\n",
    "bankruptcy_df['Attr63'] = pd.to_numeric(bankruptcy_df['Attr63'])\n",
    "bankruptcy_df['Attr64'] = pd.to_numeric(bankruptcy_df['Attr64'])\n",
    "\n",
    "bankruptcy_df.dtypes\n",
    "\n",
    "bankruptcy_df.mean()\n"
   ]
  },
  {
   "cell_type": "code",
   "execution_count": 6,
   "metadata": {},
   "outputs": [
    {
     "data": {
      "text/plain": [
       "<matplotlib.axes._subplots.AxesSubplot at 0x23c3093c4a8>"
      ]
     },
     "execution_count": 6,
     "metadata": {},
     "output_type": "execute_result"
    },
    {
     "data": {
      "image/png": "[encoded data removed]",
      "text/plain": [
       "<Figure size 432x288 with 1 Axes>"
      ]
     },
     "metadata": {
      "needs_background": "light"
     },
     "output_type": "display_data"
    }
   ],
   "source": [
    "import seaborn as sns\n",
    "sns.countplot(bankruptcy_df['class'])"
   ]
  },
  {
   "cell_type": "code",
   "execution_count": null,
   "metadata": {},
   "outputs": [],
   "source": [
    "import pandas_profiling as pp\n",
    "\n",
    "#check profile report of the dataset\n",
    "\n",
    "profile = bankruptcy_df.profile_report(title='Pandas Profiling Report')\n",
    "profile.to_file(output_file=\"output.html\")"
   ]
  },
  {
   "cell_type": "code",
   "execution_count": 7,
   "metadata": {},
   "outputs": [],
   "source": [
    "# dropping duplicate values \n",
    "\n",
    "bankruptcy_df.drop_duplicates(keep=False,inplace=True) "
   ]
  },
  {
   "cell_type": "code",
   "execution_count": 8,
   "metadata": {},
   "outputs": [],
   "source": [
    "#delete because of large number of missing values\n",
    "\n",
    "del bankruptcy_df['Attr37']"
   ]
  },
  {
   "cell_type": "code",
   "execution_count": 9,
   "metadata": {
    "collapsed": true
   },
   "outputs": [
    {
     "data": {
      "text/plain": [
       "Attr1     0\n",
       "Attr2     0\n",
       "Attr3     0\n",
       "Attr4     0\n",
       "Attr5     0\n",
       "         ..\n",
       "Attr61    0\n",
       "Attr62    0\n",
       "Attr63    0\n",
       "Attr64    0\n",
       "class     0\n",
       "Length: 64, dtype: int64"
      ]
     },
     "execution_count": 9,
     "metadata": {},
     "output_type": "execute_result"
    }
   ],
   "source": [
    "#imputing missing values by mean\n",
    "\n",
    "bankruptcy_df.fillna(bankruptcy_df.mean(), inplace=True)\n",
    "\n",
    "#number of missing values\n",
    "\n",
    "bankruptcy_df.isna().sum()"
   ]
  },
  {
   "cell_type": "code",
   "execution_count": 10,
   "metadata": {},
   "outputs": [],
   "source": [
    "#delete because of high correlation\n",
    "\n",
    "bankruptcy_df = bankruptcy_df.drop(['Attr11','Attr16','Attr18','Attr22','Attr23','Attr26','Attr31','Attr33',\n",
    "        'Attr34','Attr35','Attr38','Attr4','Attr40','Attr44','Attr46','Attr48','Attr49','Attr50','Attr54',\n",
    "        'Attr56','Attr60','Attr62','Attr63','Attr64','Attr7','Attr8'], axis = 1)"
   ]
  },
  {
   "cell_type": "markdown",
   "metadata": {},
   "source": [
    "# FEATURE SELECTION USING RANDOM FOREST"
   ]
  },
  {
   "cell_type": "code",
   "execution_count": 12,
   "metadata": {},
   "outputs": [],
   "source": [
    "from sklearn.ensemble import RandomForestClassifier\n",
    "from sklearn.feature_selection import SelectFromModel"
   ]
  },
  {
   "cell_type": "code",
   "execution_count": 13,
   "metadata": {},
   "outputs": [],
   "source": [
    "# Create a list of feature names\n",
    "feature_labels = ['Attr1','Attr2','Attr3','Attr5','Attr6','Attr9','Attr10',\n",
    "              'Attr12','Attr13','Attr14','Attr15','Attr17','Attr19','Attr20',\n",
    "              'Attr21','Attr24','Attr25','Attr27','Attr28','Attr29','Attr30',\n",
    "              'Attr32','Attr36','Attr39',\n",
    "              'Attr41','Attr42','Attr43','Attr45','Attr47',\n",
    "              'Attr51','Attr52','Attr53','Attr55','Attr57','Attr58','Attr59',\n",
    "               'Attr61']"
   ]
  },
  {
   "cell_type": "code",
   "execution_count": 14,
   "metadata": {
    "collapsed": true
   },
   "outputs": [
    {
     "name": "stdout",
     "output_type": "stream",
     "text": [
      "('Attr1', 0.027591918833885107)\n",
      "('Attr2', 0.016095535109824543)\n",
      "('Attr3', 0.024633088062148565)\n",
      "('Attr5', 0.017566884919741874)\n",
      "('Attr6', 0.022341684789630053)\n",
      "('Attr9', 0.024445543623779965)\n",
      "('Attr10', 0.018169188943307345)\n",
      "('Attr12', 0.020546371953517942)\n",
      "('Attr13', 0.029548036841272433)\n",
      "('Attr14', 0.027224671754813624)\n",
      "('Attr15', 0.02586829696739935)\n",
      "('Attr17', 0.016494773722498114)\n",
      "('Attr19', 0.02392922848783537)\n",
      "('Attr20', 0.014438103931648572)\n",
      "('Attr21', 0.09961359554542011)\n",
      "('Attr24', 0.038206224024632474)\n",
      "('Attr25', 0.022354495094863536)\n",
      "('Attr27', 0.06966182184329177)\n",
      "('Attr28', 0.022296572829685384)\n",
      "('Attr29', 0.02764127489026749)\n",
      "('Attr30', 0.0163657865079402)\n",
      "('Attr32', 0.016173909103129686)\n",
      "('Attr36', 0.018125411522987286)\n",
      "('Attr39', 0.056015258394595084)\n",
      "('Attr41', 0.045584182145104)\n",
      "('Attr42', 0.04182460764531087)\n",
      "('Attr43', 0.018639018353756486)\n",
      "('Attr45', 0.01903872933861213)\n",
      "('Attr47', 0.013465773485520045)\n",
      "('Attr51', 0.018854939962981758)\n",
      "('Attr52', 0.015557464847323685)\n",
      "('Attr53', 0.020698329804187413)\n",
      "('Attr55', 0.025995782574535997)\n",
      "('Attr57', 0.01804729474234887)\n",
      "('Attr58', 0.03638337827822372)\n",
      "('Attr59', 0.011619657742007114)\n",
      "('Attr61', 0.018943163381971984)\n"
     ]
    }
   ],
   "source": [
    "#Create X from the features\n",
    "X = bankruptcy_df[feature_labels].values\n",
    "\n",
    "# Create y from output\n",
    "y = bankruptcy_df['class'].values.ravel()\n",
    "\n",
    "# Create a random forest classifier\n",
    "rf_clf = RandomForestClassifier(n_estimators=10000, random_state=0, n_jobs=-1)\n",
    "\n",
    "# Train the classifier\n",
    "rf_clf.fit(X, y)\n",
    "\n",
    "# Print the name and gini importance of each feature\n",
    "for feature in zip(feature_labels, rf_clf.feature_importances_):\n",
    "    print(feature)"
   ]
  },
  {
   "cell_type": "code",
   "execution_count": 15,
   "metadata": {
    "collapsed": true
   },
   "outputs": [
    {
     "data": {
      "text/plain": [
       "SelectFromModel(estimator=RandomForestClassifier(bootstrap=True,\n",
       "                                                 class_weight=None,\n",
       "                                                 criterion='gini',\n",
       "                                                 max_depth=None,\n",
       "                                                 max_features='auto',\n",
       "                                                 max_leaf_nodes=None,\n",
       "                                                 min_impurity_decrease=0.0,\n",
       "                                                 min_impurity_split=None,\n",
       "                                                 min_samples_leaf=1,\n",
       "                                                 min_samples_split=2,\n",
       "                                                 min_weight_fraction_leaf=0.0,\n",
       "                                                 n_estimators=10000, n_jobs=-1,\n",
       "                                                 oob_score=False,\n",
       "                                                 random_state=0, verbose=0,\n",
       "                                                 warm_start=False),\n",
       "                max_features=None, norm_order=1, prefit=False, threshold=0.03)"
      ]
     },
     "execution_count": 15,
     "metadata": {},
     "output_type": "execute_result"
    }
   ],
   "source": [
    "# Create a selector object that will use the random forest classifier to identify\n",
    "# features that have an importance of more than 0.03\n",
    "sfm = SelectFromModel(rf_clf, threshold=0.03)\n",
    "\n",
    "# Train the selector\n",
    "sfm.fit(X, y)"
   ]
  },
  {
   "cell_type": "code",
   "execution_count": 16,
   "metadata": {
    "collapsed": true
   },
   "outputs": [
    {
     "name": "stdout",
     "output_type": "stream",
     "text": [
      "Attr21\n",
      "Attr24\n",
      "Attr27\n",
      "Attr39\n",
      "Attr41\n",
      "Attr42\n",
      "Attr58\n"
     ]
    }
   ],
   "source": [
    "#Print the names of the most important features\n",
    "\n",
    "for feature_list_index in sfm.get_support(indices=True):\n",
    "    print(feature_labels[feature_list_index])"
   ]
  },
  {
   "cell_type": "code",
   "execution_count": 17,
   "metadata": {},
   "outputs": [],
   "source": [
    "X_imp_features = sfm.transform(X)"
   ]
  },
  {
   "cell_type": "code",
   "execution_count": 19,
   "metadata": {},
   "outputs": [],
   "source": [
    "#converting X_filtered to Dataframe\n",
    "\n",
    "X_imp_features = pd.DataFrame(data=X_imp_features,\n",
    "          index=np.arange(1, 5791),\n",
    "          columns=np.arange(1, 8))\n"
   ]
  },
  {
   "cell_type": "code",
   "execution_count": null,
   "metadata": {},
   "outputs": [],
   "source": []
  },
  {
   "cell_type": "markdown",
   "metadata": {},
   "source": [
    "# SMOTE+ENN & RANDOM FOREST MODEL"
   ]
  },
  {
   "cell_type": "code",
   "execution_count": 20,
   "metadata": {},
   "outputs": [],
   "source": [
    "from sklearn.pipeline import Pipeline, make_pipeline\n",
    "from imblearn.pipeline import Pipeline, make_pipeline\n",
    "from imblearn.combine import SMOTEENN\n",
    "from sklearn.model_selection import cross_val_score\n",
    "from sklearn.metrics import recall_score"
   ]
  },
  {
   "cell_type": "code",
   "execution_count": 21,
   "metadata": {},
   "outputs": [
    {
     "name": "stdout",
     "output_type": "stream",
     "text": [
      "True Negatives:  990\n",
      "False Positives:  87\n",
      "False Negatives:  34\n",
      "True Positives:  48\n",
      "True Negatives:  982\n",
      "False Positives:  95\n",
      "False Negatives:  20\n",
      "True Positives:  61\n",
      "True Negatives:  936\n",
      "False Positives:  141\n",
      "False Negatives:  25\n",
      "True Positives:  56\n",
      "True Negatives:  974\n",
      "False Positives:  103\n",
      "False Negatives:  35\n",
      "True Positives:  46\n",
      "True Negatives:  983\n",
      "False Positives:  93\n",
      "False Negatives:  24\n",
      "True Positives:  57\n"
     ]
    },
    {
     "ename": "SyntaxError",
     "evalue": "'return' outside function (<ipython-input-21-f899c174ad8f>, line 28)",
     "output_type": "error",
     "traceback": [
      "\u001b[1;36m  File \u001b[1;32m\"<ipython-input-21-f899c174ad8f>\"\u001b[1;36m, line \u001b[1;32m28\u001b[0m\n\u001b[1;33m    return np.array(t_n)\u001b[0m\n\u001b[1;37m                        ^\u001b[0m\n\u001b[1;31mSyntaxError\u001b[0m\u001b[1;31m:\u001b[0m 'return' outside function\n"
     ]
    }
   ],
   "source": [
    "from sklearn.model_selection import StratifiedKFold\n",
    "from imblearn.combine import SMOTEENN\n",
    "from sklearn.metrics import accuracy_score\n",
    "from sklearn.metrics import confusion_matrix\n",
    "\n",
    "t_n = []\n",
    "f_p = []\n",
    "f_n = []\n",
    "t_p = []\n",
    "cv = StratifiedKFold(n_splits=5)\n",
    "for train_idx, test_idx, in cv.split(X_imp_features, y):\n",
    "    X_train, y_train = X[train_idx], y[train_idx]\n",
    "    X_test, y_test = X[test_idx], y[test_idx]\n",
    "    X_train, y_train = SMOTEENN().fit_resample(X_train, y_train)\n",
    "    clf = RandomForestClassifier(n_estimators=10000, random_state=0, n_jobs=-1)\n",
    "    clf.fit(X_train, y_train)\n",
    "    y_rf_pred = clf.predict(X_test)\n",
    "    accuracy_score(y_test, y_rf_pred)\n",
    "    tn, fp, fn, tp = confusion_matrix(y_test, y_rf_pred).ravel()\n",
    "    t_n.append(tn)\n",
    "    f_p.append(fp)\n",
    "    f_n.append(fn)\n",
    "    t_p.append(tp)\n",
    "    print(\"True Negatives: \",tn)\n",
    "    print(\"False Positives: \",fp)\n",
    "    print(\"False Negatives: \",fn)\n",
    "    print(\"True Positives: \",tp)\n",
    "return np.array(t_n)\n",
    "return np.array(f_p)\n",
    "return np.array(f_n)\n",
    "return np.array(t_p)"
   ]
  },
  {
   "cell_type": "code",
   "execution_count": 22,
   "metadata": {},
   "outputs": [],
   "source": [
    "Avg_tn = round(sum(t_n)/len(t_n))\n",
    "Avg_fp = round(sum(f_p)/len(f_p))\n",
    "Avg_fn = round(sum(f_n)/len(f_n))\n",
    "Avg_tp = round(sum(t_p)/len(t_p))"
   ]
  },
  {
   "cell_type": "code",
   "execution_count": 44,
   "metadata": {},
   "outputs": [
    {
     "name": "stdout",
     "output_type": "stream",
     "text": [
      "Accuracy 0.89\n",
      "Specificity 0.90\n",
      "Recall / Sensitivity 0.66\n",
      "Geometric Mean Score 0.77\n"
     ]
    }
   ],
   "source": [
    "import math\n",
    "\n",
    "#Accuracy\n",
    "Accuracy_rf = (Avg_tp+Avg_tn)/(Avg_tp+Avg_tn+Avg_fp+Avg_fn)\n",
    "print(\"Accuracy {:0.2f}\".format(Accuracy_rf))\n",
    "\n",
    "#Specificity\n",
    "Specificity_rf = Avg_tn/(Avg_tn+Avg_fp) \n",
    "print(\"Specificity {:0.2f}\".format(Specificity_rf))\n",
    "\n",
    "#Recall \n",
    "Recall_rf = Avg_tp/(Avg_tp+Avg_fn) \n",
    "print(\"Recall / Sensitivity {:0.2f}\".format(Recall_rf))\n",
    "\n",
    "#Precision\n",
    "Precision_rf = Avg_tp/(Avg_tp + Avg_fp)\n",
    "\n",
    "#GMean\n",
    "GM_rf = math.sqrt(Specificity_rf*Recall_rf)\n",
    "print(\"Geometric Mean Score {:0.2f}\".format(GM_rf))"
   ]
  },
  {
   "cell_type": "markdown",
   "metadata": {},
   "source": [
    "# SMOTE+ENN & DECISION TREE"
   ]
  },
  {
   "cell_type": "code",
   "execution_count": 24,
   "metadata": {},
   "outputs": [
    {
     "name": "stderr",
     "output_type": "stream",
     "text": [
      "c:\\users\\shant\\appdata\\local\\programs\\python\\python37\\lib\\site-packages\\sklearn\\externals\\six.py:31: DeprecationWarning: The module is deprecated in version 0.21 and will be removed in version 0.23 since we've dropped support for Python 2.7. Please rely on the official version of six (https://pypi.org/project/six/).\n",
      "  \"(https://pypi.org/project/six/).\", DeprecationWarning)\n"
     ]
    },
    {
     "name": "stdout",
     "output_type": "stream",
     "text": [
      "True Negatives:  962\n",
      "False Positives:  115\n",
      "False Negatives:  36\n",
      "True Positives:  46\n",
      "True Negatives:  920\n",
      "False Positives:  157\n",
      "False Negatives:  23\n",
      "True Positives:  58\n",
      "True Negatives:  902\n",
      "False Positives:  175\n",
      "False Negatives:  26\n",
      "True Positives:  55\n",
      "True Negatives:  962\n",
      "False Positives:  115\n",
      "False Negatives:  30\n",
      "True Positives:  51\n",
      "True Negatives:  941\n",
      "False Positives:  135\n",
      "False Negatives:  25\n",
      "True Positives:  56\n"
     ]
    },
    {
     "ename": "SyntaxError",
     "evalue": "'return' outside function (<ipython-input-24-e8ad2fb9e34c>, line 34)",
     "output_type": "error",
     "traceback": [
      "\u001b[1;36m  File \u001b[1;32m\"<ipython-input-24-e8ad2fb9e34c>\"\u001b[1;36m, line \u001b[1;32m34\u001b[0m\n\u001b[1;33m    return np.array(tn_dt)\u001b[0m\n\u001b[1;37m                          ^\u001b[0m\n\u001b[1;31mSyntaxError\u001b[0m\u001b[1;31m:\u001b[0m 'return' outside function\n"
     ]
    }
   ],
   "source": [
    "\n",
    "from sklearn.metrics import confusion_matrix\n",
    "#from sklearn.tree import export_graphviz\n",
    "#from sklearn.externals.six import StringIO\n",
    "\n",
    "from sklearn.model_selection import StratifiedKFold\n",
    "from imblearn.combine import SMOTEENN\n",
    "from sklearn.metrics import accuracy_score\n",
    "from sklearn.metrics import confusion_matrix\n",
    "from sklearn.tree import DecisionTreeClassifier\n",
    "\n",
    "tn_dt = []\n",
    "fp_dt = []\n",
    "fn_dt = []\n",
    "tp_dt = []\n",
    "cv = StratifiedKFold(n_splits=5)\n",
    "for train_idx_dt, test_idx_dt, in cv.split(X_imp_features, y):\n",
    "    X_train_dt, y_train_dt = X[train_idx_dt], y[train_idx_dt]\n",
    "    X_test_dt, y_test_dt = X[test_idx_dt], y[test_idx_dt]\n",
    "    X_train_dt, y_train_dt = SMOTEENN().fit_resample(X_train_dt, y_train_dt)\n",
    "    \n",
    "    dt = DecisionTreeClassifier()\n",
    "    dt.fit(X_train_dt, y_train_dt)\n",
    "    y_dt_pred = dt.predict(X_test_dt)\n",
    "    accuracy_score(y_test_dt, y_dt_pred)\n",
    "    tn, fp, fn, tp = confusion_matrix(y_test_dt, y_dt_pred).ravel()\n",
    "    tn_dt.append(tn)\n",
    "    fp_dt.append(fp)\n",
    "    fn_dt.append(fn)\n",
    "    tp_dt.append(tp)\n",
    "    print(\"True Negatives: \",tn)\n",
    "    print(\"False Positives: \",fp)\n",
    "    print(\"False Negatives: \",fn)\n",
    "    print(\"True Positives: \",tp)\n",
    "return np.array(tn_dt)\n",
    "return np.array(fp_dt)\n",
    "return np.array(fn_dt)\n",
    "return np.array(tp_dt)"
   ]
  },
  {
   "cell_type": "code",
   "execution_count": 25,
   "metadata": {},
   "outputs": [],
   "source": [
    "Avg_tn_dt = round(sum(tn_dt)/len(tn_dt))\n",
    "Avg_fp_dt = round(sum(fp_dt)/len(fp_dt))\n",
    "Avg_fn_dt = round(sum(fn_dt)/len(fn_dt))\n",
    "Avg_tp_dt = round(sum(tp_dt)/len(tp_dt))"
   ]
  },
  {
   "cell_type": "code",
   "execution_count": 45,
   "metadata": {},
   "outputs": [
    {
     "name": "stdout",
     "output_type": "stream",
     "text": [
      "Accuracy 0.86\n",
      "Specificity 0.87\n",
      "Recall / Sensitivity 0.65\n",
      "Geometric Mean Score 0.75\n"
     ]
    }
   ],
   "source": [
    "import math\n",
    "\n",
    "#Accuracy\n",
    "Accuracy_dt = (Avg_tp_dt+Avg_tn_dt)/(Avg_tp_dt+Avg_tn_dt+Avg_fp_dt+Avg_fn_dt)\n",
    "print(\"Accuracy {:0.2f}\".format(Accuracy_dt))\n",
    "\n",
    "#Specificity\n",
    "Specificity_dt = Avg_tn_dt/(Avg_tn_dt+Avg_fp_dt) \n",
    "print(\"Specificity {:0.2f}\".format(Specificity_dt))\n",
    "\n",
    "#Recall \n",
    "Recall_dt = Avg_tp_dt/(Avg_tp_dt+Avg_fn_dt) \n",
    "print(\"Recall / Sensitivity {:0.2f}\".format(Recall_dt))\n",
    "\n",
    "#Precision\n",
    "Precision_dt = Avg_tp_dt/(Avg_tp_dt + Avg_fp_dt)\n",
    "\n",
    "#GMean\n",
    "GM_dt = math.sqrt(Specificity_dt*Recall_dt)\n",
    "print(\"Geometric Mean Score {:0.2f}\".format(GM_dt))"
   ]
  },
  {
   "cell_type": "markdown",
   "metadata": {},
   "source": [
    "# SMOTE+ENN & KNN"
   ]
  },
  {
   "cell_type": "code",
   "execution_count": 31,
   "metadata": {},
   "outputs": [
    {
     "name": "stdout",
     "output_type": "stream",
     "text": [
      "True Negatives:  807\n",
      "False Positives:  270\n",
      "False Negatives:  39\n",
      "True Positives:  43\n",
      "True Negatives:  806\n",
      "False Positives:  271\n",
      "False Negatives:  29\n",
      "True Positives:  52\n",
      "True Negatives:  820\n",
      "False Positives:  257\n",
      "False Negatives:  28\n",
      "True Positives:  53\n",
      "True Negatives:  789\n",
      "False Positives:  288\n",
      "False Negatives:  36\n",
      "True Positives:  45\n",
      "True Negatives:  824\n",
      "False Positives:  252\n",
      "False Negatives:  27\n",
      "True Positives:  54\n"
     ]
    },
    {
     "ename": "SyntaxError",
     "evalue": "'return' outside function (<ipython-input-31-2dd72c4b0505>, line 40)",
     "output_type": "error",
     "traceback": [
      "\u001b[1;36m  File \u001b[1;32m\"<ipython-input-31-2dd72c4b0505>\"\u001b[1;36m, line \u001b[1;32m40\u001b[0m\n\u001b[1;33m    return np.array(tn_knn)\u001b[0m\n\u001b[1;37m                           ^\u001b[0m\n\u001b[1;31mSyntaxError\u001b[0m\u001b[1;31m:\u001b[0m 'return' outside function\n"
     ]
    }
   ],
   "source": [
    "from sklearn import neighbors\n",
    "from sklearn.neighbors import KNeighborsClassifier\n",
    "\n",
    "tn_knn = []\n",
    "fp_knn = []\n",
    "fn_knn = []\n",
    "tp_knn = []\n",
    "cv = StratifiedKFold(n_splits=5)\n",
    "for train_idx_knn, test_idx_knn, in cv.split(X_imp_features, y):\n",
    "    X_train_knn, y_train_knn = X[train_idx_knn], y[train_idx_knn]\n",
    "    X_test_knn, y_test_knn = X[test_idx_knn], y[test_idx_knn]\n",
    "    X_train_knn, y_train_knn = SMOTEENN().fit_resample(X_train_knn, y_train_knn)\n",
    "    \n",
    "    clf_knn = KNeighborsClassifier(n_neighbors=5, metric='euclidean')\n",
    "    clf_knn.fit(X_train_knn, y_train_knn)\n",
    "    \n",
    "    y_knn_pred = clf_knn.predict(X_test_knn)\n",
    "    accuracy_score(y_test_knn, y_knn_pred)\n",
    "    tn, fp, fn, tp = confusion_matrix(y_test_knn, y_knn_pred).ravel()\n",
    "    tn_knn.append(tn)\n",
    "    fp_knn.append(fp)\n",
    "    fn_knn.append(fn)\n",
    "    tp_knn.append(tp)\n",
    "    print(\"True Negatives: \",tn)\n",
    "    print(\"False Positives: \",fp)\n",
    "    print(\"False Negatives: \",fn)\n",
    "    print(\"True Positives: \",tp)\n",
    "return np.array(tn_knn)\n",
    "return np.array(fp_knn)\n",
    "return np.array(fn_knn)\n",
    "return np.array(tp_knn)"
   ]
  },
  {
   "cell_type": "code",
   "execution_count": 32,
   "metadata": {},
   "outputs": [],
   "source": [
    "Avg_tn_knn = round(sum(tn_knn)/len(tn_knn))\n",
    "Avg_fp_knn = round(sum(fp_knn)/len(fp_knn))\n",
    "Avg_fn_knn = round(sum(fn_knn)/len(fn_knn))\n",
    "Avg_tp_knn = round(sum(tp_knn)/len(tp_knn))"
   ]
  },
  {
   "cell_type": "code",
   "execution_count": 46,
   "metadata": {},
   "outputs": [
    {
     "name": "stdout",
     "output_type": "stream",
     "text": [
      "Accuracy 0.74\n",
      "Specificity 0.75\n",
      "Recall / Sensitivity 0.60\n",
      "Geometric Mean Score 0.67\n"
     ]
    }
   ],
   "source": [
    "import math\n",
    "\n",
    "#Accuracy\n",
    "Accuracy_knn = (Avg_tp_knn+Avg_tn_knn)/(Avg_tp_knn+Avg_tn_knn+Avg_fp_knn+Avg_fn_knn)\n",
    "print(\"Accuracy {:0.2f}\".format(Accuracy_knn))\n",
    "\n",
    "#Specificity\n",
    "Specificity_knn = Avg_tn_knn/(Avg_tn_knn+Avg_fp_knn) \n",
    "print(\"Specificity {:0.2f}\".format(Specificity_knn))\n",
    "\n",
    "#Recall \n",
    "Recall_knn = Avg_tp_knn/(Avg_tp_knn+Avg_fn_knn) \n",
    "print(\"Recall / Sensitivity {:0.2f}\".format(Recall_knn))\n",
    "\n",
    "#Precision\n",
    "Precision_knn = Avg_tp_knn/(Avg_tp_knn + Avg_fp_knn)\n",
    "\n",
    "#GMean\n",
    "GM_knn = math.sqrt(Specificity_knn*Recall_knn)\n",
    "print(\"Geometric Mean Score {:0.2f}\".format(GM_knn))"
   ]
  },
  {
   "cell_type": "markdown",
   "metadata": {},
   "source": [
    "# SMOTE+ENN & ADABOOST"
   ]
  },
  {
   "cell_type": "code",
   "execution_count": 35,
   "metadata": {},
   "outputs": [
    {
     "name": "stdout",
     "output_type": "stream",
     "text": [
      "True Negatives:  983\n",
      "False Positives:  94\n",
      "False Negatives:  34\n",
      "True Positives:  48\n",
      "True Negatives:  958\n",
      "False Positives:  119\n",
      "False Negatives:  18\n",
      "True Positives:  63\n",
      "True Negatives:  921\n",
      "False Positives:  156\n",
      "False Negatives:  21\n",
      "True Positives:  60\n",
      "True Negatives:  965\n",
      "False Positives:  112\n",
      "False Negatives:  20\n",
      "True Positives:  61\n",
      "True Negatives:  975\n",
      "False Positives:  101\n",
      "False Negatives:  18\n",
      "True Positives:  63\n"
     ]
    },
    {
     "ename": "SyntaxError",
     "evalue": "'return' outside function (<ipython-input-35-a3bc9b7b0995>, line 33)",
     "output_type": "error",
     "traceback": [
      "\u001b[1;36m  File \u001b[1;32m\"<ipython-input-35-a3bc9b7b0995>\"\u001b[1;36m, line \u001b[1;32m33\u001b[0m\n\u001b[1;33m    return np.array(tn_ada)\u001b[0m\n\u001b[1;37m                           ^\u001b[0m\n\u001b[1;31mSyntaxError\u001b[0m\u001b[1;31m:\u001b[0m 'return' outside function\n"
     ]
    }
   ],
   "source": [
    "from sklearn.ensemble import AdaBoostClassifier\n",
    "from sklearn.preprocessing import LabelEncoder\n",
    "\n",
    "tn_ada = []\n",
    "fp_ada = []\n",
    "fn_ada = []\n",
    "tp_ada = []\n",
    "cv = StratifiedKFold(n_splits=5)\n",
    "for train_idx_ada, test_idx_ada, in cv.split(X_imp_features, y):\n",
    "    X_train_ada, y_train_ada = X[train_idx_ada], y[train_idx_ada]\n",
    "    X_test_ada, y_test_ada = X[test_idx_ada], y[test_idx_ada]\n",
    "    X_train_ada, y_train_ada = SMOTEENN().fit_resample(X_train_ada, y_train_ada)\n",
    "    \n",
    "    ada_classifier = AdaBoostClassifier(\n",
    "    DecisionTreeClassifier(max_depth=1),\n",
    "    n_estimators=200)\n",
    "    ada_classifier.fit(X_train_ada, y_train_ada)\n",
    "    \n",
    "    y_ada_pred = ada_classifier.predict(X_test_ada)\n",
    "    accuracy_score(y_test_ada, y_ada_pred)\n",
    "    tn, fp, fn, tp = confusion_matrix(y_test_ada, y_ada_pred).ravel()\n",
    "    tn_ada.append(tn)\n",
    "    fp_ada.append(fp)\n",
    "    fn_ada.append(fn)\n",
    "    tp_ada.append(tp)\n",
    "    print(\"True Negatives: \",tn)\n",
    "    print(\"False Positives: \",fp)\n",
    "    print(\"False Negatives: \",fn)\n",
    "    print(\"True Positives: \",tp)\n",
    "return np.array(tn_ada)\n",
    "return np.array(fp_ada)\n",
    "return np.array(fn_ada)\n",
    "return np.array(tp_ada)"
   ]
  },
  {
   "cell_type": "code",
   "execution_count": 36,
   "metadata": {},
   "outputs": [],
   "source": [
    "Avg_tn_ada = round(sum(tn_ada)/len(tn_ada))\n",
    "Avg_fp_ada = round(sum(fp_ada)/len(fp_ada))\n",
    "Avg_fn_ada = round(sum(fn_ada)/len(fn_ada))\n",
    "Avg_tp_ada = round(sum(tp_ada)/len(tp_ada))"
   ]
  },
  {
   "cell_type": "code",
   "execution_count": 47,
   "metadata": {},
   "outputs": [
    {
     "name": "stdout",
     "output_type": "stream",
     "text": [
      "Accuracy 0.88\n",
      "Specificity 0.89\n",
      "Recall / Sensitivity 0.73\n",
      "Geometric Mean Score 0.81\n"
     ]
    }
   ],
   "source": [
    "import math\n",
    "\n",
    "#Accuracy\n",
    "Accuracy_ada = (Avg_tp_ada+Avg_tn_ada)/(Avg_tp_ada+Avg_tn_ada+Avg_fp_ada+Avg_fn_ada)\n",
    "print(\"Accuracy {:0.2f}\".format(Accuracy_ada))\n",
    "\n",
    "#Specificity\n",
    "Specificity_ada = Avg_tn_ada/(Avg_tn_ada+Avg_fp_ada) \n",
    "print(\"Specificity {:0.2f}\".format(Specificity_ada))\n",
    "\n",
    "#Recall \n",
    "Recall_ada = Avg_tp_ada/(Avg_tp_ada+Avg_fn_ada) \n",
    "print(\"Recall / Sensitivity {:0.2f}\".format(Recall_ada))\n",
    "\n",
    "#Precision\n",
    "Precision_ada = Avg_tp_ada/(Avg_tp_ada + Avg_fp_ada)\n",
    "\n",
    "#GMean\n",
    "GM_ada = math.sqrt(Specificity_ada*Recall_ada)\n",
    "print(\"Geometric Mean Score {:0.2f}\".format(GM_ada))"
   ]
  },
  {
   "cell_type": "markdown",
   "metadata": {},
   "source": [
    "# PLOTTING GRAPHS"
   ]
  },
  {
   "cell_type": "code",
   "execution_count": 48,
   "metadata": {},
   "outputs": [],
   "source": [
    "Accuracy_comparison = {'Random Forest': Accuracy_rf, 'Decision Tree': Accuracy_dt, 'KNN': Accuracy_knn, 'Adaboost': Accuracy_ada}"
   ]
  },
  {
   "cell_type": "code",
   "execution_count": 49,
   "metadata": {},
   "outputs": [
    {
     "data": {
      "text/plain": [
       "{'Random Forest': 0.8861087144089732,\n",
       " 'Decision Tree': 0.8556611927398444,\n",
       " 'KNN': 0.7409326424870466,\n",
       " 'Adaboost': 0.8807260155574762}"
      ]
     },
     "execution_count": 49,
     "metadata": {},
     "output_type": "execute_result"
    }
   ],
   "source": [
    "Accuracy_comparison"
   ]
  },
  {
   "cell_type": "code",
   "execution_count": 50,
   "metadata": {},
   "outputs": [
    {
     "data": {
      "image/png": "[encoded data removed]",
      "text/plain": [
       "<Figure size 432x288 with 1 Axes>"
      ]
     },
     "metadata": {
      "needs_background": "light"
     },
     "output_type": "display_data"
    }
   ],
   "source": [
    "plt.bar(range(len(Accuracy_comparison)), list(Accuracy_comparison.values()), align='center')\n",
    "plt.xticks(range(len(Accuracy_comparison)), list(Accuracy_comparison.keys()))\n",
    "\n",
    "plt.show()"
   ]
  },
  {
   "cell_type": "code",
   "execution_count": 51,
   "metadata": {},
   "outputs": [],
   "source": [
    "Sensitivity_comparison = {'Random Forest': Recall_rf, 'Decision Tree': Recall_dt, 'KNN': Recall_knn, 'Adaboost': Recall_ada}"
   ]
  },
  {
   "cell_type": "code",
   "execution_count": 52,
   "metadata": {},
   "outputs": [
    {
     "data": {
      "text/plain": [
       "{'Random Forest': 0.6585365853658537,\n",
       " 'Decision Tree': 0.654320987654321,\n",
       " 'KNN': 0.6049382716049383,\n",
       " 'Adaboost': 0.7283950617283951}"
      ]
     },
     "execution_count": 52,
     "metadata": {},
     "output_type": "execute_result"
    }
   ],
   "source": [
    "Sensitivity_comparison"
   ]
  },
  {
   "cell_type": "code",
   "execution_count": 53,
   "metadata": {},
   "outputs": [
    {
     "data": {
      "image/png": "[encoded data removed]",
      "text/plain": [
       "<Figure size 432x288 with 1 Axes>"
      ]
     },
     "metadata": {
      "needs_background": "light"
     },
     "output_type": "display_data"
    }
   ],
   "source": [
    "plt.bar(range(len(Sensitivity_comparison)), list(Sensitivity_comparison.values()), align='center')\n",
    "plt.xticks(range(len(Sensitivity_comparison)), list(Sensitivity_comparison.keys()))\n",
    "\n",
    "plt.show()"
   ]
  },
  {
   "cell_type": "code",
   "execution_count": 54,
   "metadata": {},
   "outputs": [],
   "source": [
    "Specificity_comparison = {'Random Forest': Specificity_rf, 'Decision Tree': Specificity_dt, 'KNN': Specificity_knn, 'Adaboost': Specificity_ada}"
   ]
  },
  {
   "cell_type": "code",
   "execution_count": 55,
   "metadata": {},
   "outputs": [
    {
     "data": {
      "text/plain": [
       "{'Random Forest': 0.903435468895079,\n",
       " 'Decision Tree': 0.870817843866171,\n",
       " 'KNN': 0.7511606313834726,\n",
       " 'Adaboost': 0.8921933085501859}"
      ]
     },
     "execution_count": 55,
     "metadata": {},
     "output_type": "execute_result"
    }
   ],
   "source": [
    "Specificity_comparison"
   ]
  },
  {
   "cell_type": "code",
   "execution_count": 56,
   "metadata": {},
   "outputs": [
    {
     "data": {
      "image/png": "[encoded data removed]",
      "text/plain": [
       "<Figure size 432x288 with 1 Axes>"
      ]
     },
     "metadata": {
      "needs_background": "light"
     },
     "output_type": "display_data"
    }
   ],
   "source": [
    "plt.bar(range(len(Specificity_comparison)), list(Specificity_comparison.values()), align='center')\n",
    "plt.xticks(range(len(Specificity_comparison)), list(Specificity_comparison.keys()))\n",
    "\n",
    "plt.show()"
   ]
  },
  {
   "cell_type": "code",
   "execution_count": 57,
   "metadata": {},
   "outputs": [],
   "source": [
    "Gmean_comparison = {'Random Forest': GM_rf, 'Decision Tree': GM_dt, 'KNN': GM_knn, 'Adaboost': GM_ada}"
   ]
  },
  {
   "cell_type": "code",
   "execution_count": 58,
   "metadata": {},
   "outputs": [
    {
     "data": {
      "text/plain": [
       "{'Random Forest': 0.7713269791628996,\n",
       " 'Decision Tree': 0.7548472637994519,\n",
       " 'KNN': 0.6740962943428721,\n",
       " 'Adaboost': 0.8061446520662862}"
      ]
     },
     "execution_count": 58,
     "metadata": {},
     "output_type": "execute_result"
    }
   ],
   "source": [
    "Gmean_comparison"
   ]
  },
  {
   "cell_type": "code",
   "execution_count": 59,
   "metadata": {},
   "outputs": [
    {
     "data": {
      "image/png": "[encoded data removed]",
      "text/plain": [
       "<Figure size 432x288 with 1 Axes>"
      ]
     },
     "metadata": {
      "needs_background": "light"
     },
     "output_type": "display_data"
    }
   ],
   "source": [
    "plt.bar(range(len(Gmean_comparison)), list(Gmean_comparison.values()), align='center')\n",
    "plt.xticks(range(len(Gmean_comparison)), list(Gmean_comparison.keys()))\n",
    "\n",
    "plt.show()"
   ]
  },
  {
   "cell_type": "code",
   "execution_count": null,
   "metadata": {},
   "outputs": [],
   "source": []
  },
  {
   "cell_type": "code",
   "execution_count": null,
   "metadata": {},
   "outputs": [],
   "source": []
  }
 ],
 "metadata": {
  "kernelspec": {
   "display_name": "Python 3",
   "language": "python",
   "name": "python3"
  },
  "language_info": {
   "codemirror_mode": {
    "name": "ipython",
    "version": 3
   },
   "file_extension": ".py",
   "mimetype": "text/x-python",
   "name": "python",
   "nbconvert_exporter": "python",
   "pygments_lexer": "ipython3",
   "version": "3.7.2"
  }
 },
 "nbformat": 4,
 "nbformat_minor": 2
}
