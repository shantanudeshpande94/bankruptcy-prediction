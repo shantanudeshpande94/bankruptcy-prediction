{
 "cells": [
  {
   "cell_type": "code",
   "execution_count": 9,
   "metadata": {},
   "outputs": [],
   "source": [
    "#importing necessary packages\n",
    "import scipy as sp\n",
    "import numpy as np\n",
    "import pandas as pd\n",
    "import pandas_profiling as pp\n",
    "from sklearn import datasets, linear_model\n",
    "from sklearn.model_selection import train_test_split\n",
    "from imblearn.metrics import classification_report_imbalanced\n",
    "from matplotlib import pyplot as plt\n",
    "import random\n",
    "\n",
    "#set seed\n",
    "random.seed(420)\n",
    "\n",
    "#loading csv into dataframe\n",
    "url = 'https://raw.githubusercontent.com/shantanudeshpande94/bankruptcy-prediction/master/5year.csv'\n",
    "bankruptcy_df = pd.read_csv(url)"
   ]
  },
  {
   "cell_type": "markdown",
   "metadata": {},
   "source": [
    "# DATA CLEANING"
   ]
  },
  {
   "cell_type": "code",
   "execution_count": 10,
   "metadata": {},
   "outputs": [
    {
     "data": {
      "text/plain": [
       "(5910, 65)"
      ]
     },
     "execution_count": 10,
     "metadata": {},
     "output_type": "execute_result"
    }
   ],
   "source": [
    "bankruptcy_df.shape"
   ]
  },
  {
   "cell_type": "code",
   "execution_count": 11,
   "metadata": {},
   "outputs": [],
   "source": [
    "#to replace '?' with NA values\n",
    "\n",
    "bankruptcy_df.replace({'?': None},inplace =True)"
   ]
  },
  {
   "cell_type": "code",
   "execution_count": 12,
   "metadata": {},
   "outputs": [
    {
     "data": {
      "text/plain": [
       "Attr1       3\n",
       "Attr2       3\n",
       "Attr3       3\n",
       "Attr4      21\n",
       "Attr5      11\n",
       "         ... \n",
       "Attr61     15\n",
       "Attr62      0\n",
       "Attr63     21\n",
       "Attr64    107\n",
       "class       0\n",
       "Length: 65, dtype: int64"
      ]
     },
     "execution_count": 12,
     "metadata": {},
     "output_type": "execute_result"
    }
   ],
   "source": [
    "#to check null values in a column\n",
    "\n",
    "bankruptcy_df.isna().sum()"
   ]
  },
  {
   "cell_type": "code",
   "execution_count": 14,
   "metadata": {},
   "outputs": [
    {
     "data": {
      "text/plain": [
       "Attr1      -0.022347\n",
       "Attr2       0.465086\n",
       "Attr3       0.189155\n",
       "Attr4       4.892476\n",
       "Attr5      19.406758\n",
       "             ...    \n",
       "Attr61     10.941497\n",
       "Attr62    241.978184\n",
       "Attr63      9.127741\n",
       "Attr64     65.276716\n",
       "class       0.069374\n",
       "Length: 65, dtype: float64"
      ]
     },
     "execution_count": 14,
     "metadata": {},
     "output_type": "execute_result"
    }
   ],
   "source": [
    "#converting from object to float64\n",
    "\n",
    "bankruptcy_df['Attr1'] = pd.to_numeric(bankruptcy_df['Attr1'])\n",
    "bankruptcy_df['Attr2'] = pd.to_numeric(bankruptcy_df['Attr2'])\n",
    "bankruptcy_df['Attr3'] = pd.to_numeric(bankruptcy_df['Attr3'])\n",
    "bankruptcy_df['Attr4'] = pd.to_numeric(bankruptcy_df['Attr4'])\n",
    "bankruptcy_df['Attr5'] = pd.to_numeric(bankruptcy_df['Attr5'])\n",
    "bankruptcy_df['Attr6'] = pd.to_numeric(bankruptcy_df['Attr6'])\n",
    "bankruptcy_df['Attr7'] = pd.to_numeric(bankruptcy_df['Attr7'])\n",
    "bankruptcy_df['Attr8'] = pd.to_numeric(bankruptcy_df['Attr8'])\n",
    "bankruptcy_df['Attr9'] = pd.to_numeric(bankruptcy_df['Attr9'])\n",
    "bankruptcy_df['Attr10'] = pd.to_numeric(bankruptcy_df['Attr10'])\n",
    "bankruptcy_df['Attr11'] = pd.to_numeric(bankruptcy_df['Attr11'])\n",
    "bankruptcy_df['Attr12'] = pd.to_numeric(bankruptcy_df['Attr12'])\n",
    "bankruptcy_df['Attr13'] = pd.to_numeric(bankruptcy_df['Attr13'])\n",
    "bankruptcy_df['Attr14'] = pd.to_numeric(bankruptcy_df['Attr14'])\n",
    "bankruptcy_df['Attr15'] = pd.to_numeric(bankruptcy_df['Attr15'])\n",
    "bankruptcy_df['Attr16'] = pd.to_numeric(bankruptcy_df['Attr16'])\n",
    "bankruptcy_df['Attr17'] = pd.to_numeric(bankruptcy_df['Attr17'])\n",
    "bankruptcy_df['Attr18'] = pd.to_numeric(bankruptcy_df['Attr18'])\n",
    "bankruptcy_df['Attr19'] = pd.to_numeric(bankruptcy_df['Attr19'])\n",
    "bankruptcy_df['Attr20'] = pd.to_numeric(bankruptcy_df['Attr20'])\n",
    "bankruptcy_df['Attr21'] = pd.to_numeric(bankruptcy_df['Attr21'])\n",
    "bankruptcy_df['Attr22'] = pd.to_numeric(bankruptcy_df['Attr22'])\n",
    "bankruptcy_df['Attr23'] = pd.to_numeric(bankruptcy_df['Attr23'])\n",
    "bankruptcy_df['Attr24'] = pd.to_numeric(bankruptcy_df['Attr24'])\n",
    "bankruptcy_df['Attr25'] = pd.to_numeric(bankruptcy_df['Attr25'])\n",
    "bankruptcy_df['Attr26'] = pd.to_numeric(bankruptcy_df['Attr26'])\n",
    "bankruptcy_df['Attr27'] = pd.to_numeric(bankruptcy_df['Attr27'])\n",
    "bankruptcy_df['Attr28'] = pd.to_numeric(bankruptcy_df['Attr28'])\n",
    "bankruptcy_df['Attr29'] = pd.to_numeric(bankruptcy_df['Attr29'])\n",
    "bankruptcy_df['Attr30'] = pd.to_numeric(bankruptcy_df['Attr30'])\n",
    "bankruptcy_df['Attr31'] = pd.to_numeric(bankruptcy_df['Attr31'])\n",
    "bankruptcy_df['Attr32'] = pd.to_numeric(bankruptcy_df['Attr32'])\n",
    "bankruptcy_df['Attr33'] = pd.to_numeric(bankruptcy_df['Attr33'])\n",
    "bankruptcy_df['Attr34'] = pd.to_numeric(bankruptcy_df['Attr34'])\n",
    "bankruptcy_df['Attr35'] = pd.to_numeric(bankruptcy_df['Attr35'])\n",
    "bankruptcy_df['Attr36'] = pd.to_numeric(bankruptcy_df['Attr36'])\n",
    "bankruptcy_df['Attr37'] = pd.to_numeric(bankruptcy_df['Attr37'])\n",
    "bankruptcy_df['Attr38'] = pd.to_numeric(bankruptcy_df['Attr38'])\n",
    "bankruptcy_df['Attr39'] = pd.to_numeric(bankruptcy_df['Attr39'])\n",
    "bankruptcy_df['Attr40'] = pd.to_numeric(bankruptcy_df['Attr40'])\n",
    "bankruptcy_df['Attr41'] = pd.to_numeric(bankruptcy_df['Attr41'])\n",
    "bankruptcy_df['Attr42'] = pd.to_numeric(bankruptcy_df['Attr42'])\n",
    "bankruptcy_df['Attr43'] = pd.to_numeric(bankruptcy_df['Attr43'])\n",
    "bankruptcy_df['Attr44'] = pd.to_numeric(bankruptcy_df['Attr44'])\n",
    "bankruptcy_df['Attr45'] = pd.to_numeric(bankruptcy_df['Attr45'])\n",
    "bankruptcy_df['Attr46'] = pd.to_numeric(bankruptcy_df['Attr46'])\n",
    "bankruptcy_df['Attr47'] = pd.to_numeric(bankruptcy_df['Attr47'])\n",
    "bankruptcy_df['Attr48'] = pd.to_numeric(bankruptcy_df['Attr48'])\n",
    "bankruptcy_df['Attr49'] = pd.to_numeric(bankruptcy_df['Attr49'])\n",
    "bankruptcy_df['Attr50'] = pd.to_numeric(bankruptcy_df['Attr50'])\n",
    "bankruptcy_df['Attr51'] = pd.to_numeric(bankruptcy_df['Attr51'])\n",
    "bankruptcy_df['Attr52'] = pd.to_numeric(bankruptcy_df['Attr52'])\n",
    "bankruptcy_df['Attr53'] = pd.to_numeric(bankruptcy_df['Attr53'])\n",
    "bankruptcy_df['Attr54'] = pd.to_numeric(bankruptcy_df['Attr54'])\n",
    "bankruptcy_df['Attr55'] = pd.to_numeric(bankruptcy_df['Attr55'])\n",
    "bankruptcy_df['Attr56'] = pd.to_numeric(bankruptcy_df['Attr56'])\n",
    "bankruptcy_df['Attr57'] = pd.to_numeric(bankruptcy_df['Attr57'])\n",
    "bankruptcy_df['Attr58'] = pd.to_numeric(bankruptcy_df['Attr58'])\n",
    "bankruptcy_df['Attr59'] = pd.to_numeric(bankruptcy_df['Attr59'])\n",
    "bankruptcy_df['Attr60'] = pd.to_numeric(bankruptcy_df['Attr60'])\n",
    "bankruptcy_df['Attr61'] = pd.to_numeric(bankruptcy_df['Attr61'])\n",
    "bankruptcy_df['Attr62'] = pd.to_numeric(bankruptcy_df['Attr62'])\n",
    "bankruptcy_df['Attr63'] = pd.to_numeric(bankruptcy_df['Attr63'])\n",
    "bankruptcy_df['Attr64'] = pd.to_numeric(bankruptcy_df['Attr64'])\n",
    "\n",
    "bankruptcy_df.dtypes\n",
    "\n",
    "bankruptcy_df.mean()\n"
   ]
  },
  {
   "cell_type": "code",
   "execution_count": 15,
   "metadata": {},
   "outputs": [
    {
     "data": {
      "text/plain": [
       "<matplotlib.axes._subplots.AxesSubplot at 0x1e2720baa58>"
      ]
     },
     "execution_count": 15,
     "metadata": {},
     "output_type": "execute_result"
    },
    {
     "data": {
      "image/png": "[encoded data removed]",
      "text/plain": [
       "<Figure size 432x288 with 1 Axes>"
      ]
     },
     "metadata": {
      "needs_background": "light"
     },
     "output_type": "display_data"
    }
   ],
   "source": [
    "import seaborn as sns\n",
    "sns.countplot(bankruptcy_df['class'])"
   ]
  },
  {
   "cell_type": "code",
   "execution_count": 16,
   "metadata": {},
   "outputs": [],
   "source": [
    "# dropping duplicate values \n",
    "\n",
    "bankruptcy_df.drop_duplicates(keep=False,inplace=True) "
   ]
  },
  {
   "cell_type": "code",
   "execution_count": 17,
   "metadata": {},
   "outputs": [],
   "source": [
    "#delete because of large number of missing values\n",
    "\n",
    "del bankruptcy_df['Attr37']"
   ]
  },
  {
   "cell_type": "code",
   "execution_count": 18,
   "metadata": {},
   "outputs": [
    {
     "data": {
      "text/plain": [
       "Attr1     0\n",
       "Attr2     0\n",
       "Attr3     0\n",
       "Attr4     0\n",
       "Attr5     0\n",
       "         ..\n",
       "Attr61    0\n",
       "Attr62    0\n",
       "Attr63    0\n",
       "Attr64    0\n",
       "class     0\n",
       "Length: 64, dtype: int64"
      ]
     },
     "execution_count": 18,
     "metadata": {},
     "output_type": "execute_result"
    }
   ],
   "source": [
    "#imputing missing values by mean\n",
    "\n",
    "bankruptcy_df.fillna(bankruptcy_df.mean(), inplace=True)\n",
    "\n",
    "#number of missing values\n",
    "\n",
    "bankruptcy_df.isna().sum()"
   ]
  },
  {
   "cell_type": "code",
   "execution_count": 19,
   "metadata": {},
   "outputs": [],
   "source": [
    "#delete because of high correlation\n",
    "\n",
    "bankruptcy_df = bankruptcy_df.drop(['Attr11','Attr16','Attr18','Attr22','Attr23','Attr26','Attr31','Attr33',\n",
    "        'Attr34','Attr35','Attr38','Attr4','Attr40','Attr44','Attr46','Attr48','Attr49','Attr50','Attr54',\n",
    "        'Attr56','Attr60','Attr62','Attr63','Attr64','Attr7','Attr8'], axis = 1)"
   ]
  },
  {
   "cell_type": "markdown",
   "metadata": {},
   "source": [
    "# FEATURE SELECTION USING Random Forest"
   ]
  },
  {
   "cell_type": "code",
   "execution_count": 22,
   "metadata": {},
   "outputs": [],
   "source": [
    "from sklearn.ensemble import RandomForestClassifier\n",
    "from sklearn.feature_selection import SelectFromModel"
   ]
  },
  {
   "cell_type": "code",
   "execution_count": 21,
   "metadata": {},
   "outputs": [],
   "source": [
    "# Create a list of feature names\n",
    "feature_labels = ['Attr1','Attr2','Attr3','Attr5','Attr6','Attr9','Attr10',\n",
    "              'Attr12','Attr13','Attr14','Attr15','Attr17','Attr19','Attr20',\n",
    "              'Attr21','Attr24','Attr25','Attr27','Attr28','Attr29','Attr30',\n",
    "              'Attr32','Attr36','Attr39',\n",
    "              'Attr41','Attr42','Attr43','Attr45','Attr47',\n",
    "              'Attr51','Attr52','Attr53','Attr55','Attr57','Attr58','Attr59',\n",
    "               'Attr61']"
   ]
  },
  {
   "cell_type": "code",
   "execution_count": 23,
   "metadata": {},
   "outputs": [
    {
     "name": "stdout",
     "output_type": "stream",
     "text": [
      "('Attr1', 0.027591918833885107)\n",
      "('Attr2', 0.016095535109824543)\n",
      "('Attr3', 0.024633088062148565)\n",
      "('Attr5', 0.017566884919741874)\n",
      "('Attr6', 0.022341684789630053)\n",
      "('Attr9', 0.024445543623779965)\n",
      "('Attr10', 0.018169188943307345)\n",
      "('Attr12', 0.020546371953517942)\n",
      "('Attr13', 0.029548036841272433)\n",
      "('Attr14', 0.027224671754813624)\n",
      "('Attr15', 0.02586829696739935)\n",
      "('Attr17', 0.016494773722498114)\n",
      "('Attr19', 0.02392922848783537)\n",
      "('Attr20', 0.014438103931648572)\n",
      "('Attr21', 0.09961359554542011)\n",
      "('Attr24', 0.038206224024632474)\n",
      "('Attr25', 0.022354495094863536)\n",
      "('Attr27', 0.06966182184329177)\n",
      "('Attr28', 0.022296572829685384)\n",
      "('Attr29', 0.02764127489026749)\n",
      "('Attr30', 0.0163657865079402)\n",
      "('Attr32', 0.016173909103129686)\n",
      "('Attr36', 0.018125411522987286)\n",
      "('Attr39', 0.056015258394595084)\n",
      "('Attr41', 0.045584182145104)\n",
      "('Attr42', 0.04182460764531087)\n",
      "('Attr43', 0.018639018353756486)\n",
      "('Attr45', 0.01903872933861213)\n",
      "('Attr47', 0.013465773485520045)\n",
      "('Attr51', 0.018854939962981758)\n",
      "('Attr52', 0.015557464847323685)\n",
      "('Attr53', 0.020698329804187413)\n",
      "('Attr55', 0.025995782574535997)\n",
      "('Attr57', 0.01804729474234887)\n",
      "('Attr58', 0.03638337827822372)\n",
      "('Attr59', 0.011619657742007114)\n",
      "('Attr61', 0.018943163381971984)\n"
     ]
    }
   ],
   "source": [
    "#Create X from the features\n",
    "X = bankruptcy_df[feature_labels].values\n",
    "\n",
    "# Create y from output\n",
    "y = bankruptcy_df['class'].values.ravel()\n",
    "\n",
    "# Create a random forest classifier\n",
    "rf_clf = RandomForestClassifier(n_estimators=10000, random_state=0, n_jobs=-1)\n",
    "\n",
    "# Train the classifier\n",
    "rf_clf.fit(X, y)\n",
    "\n",
    "# Print the name and gini importance of each feature\n",
    "for feature in zip(feature_labels, rf_clf.feature_importances_):\n",
    "    print(feature)"
   ]
  },
  {
   "cell_type": "code",
   "execution_count": 24,
   "metadata": {},
   "outputs": [
    {
     "data": {
      "text/plain": [
       "SelectFromModel(estimator=RandomForestClassifier(bootstrap=True,\n",
       "                                                 class_weight=None,\n",
       "                                                 criterion='gini',\n",
       "                                                 max_depth=None,\n",
       "                                                 max_features='auto',\n",
       "                                                 max_leaf_nodes=None,\n",
       "                                                 min_impurity_decrease=0.0,\n",
       "                                                 min_impurity_split=None,\n",
       "                                                 min_samples_leaf=1,\n",
       "                                                 min_samples_split=2,\n",
       "                                                 min_weight_fraction_leaf=0.0,\n",
       "                                                 n_estimators=10000, n_jobs=-1,\n",
       "                                                 oob_score=False,\n",
       "                                                 random_state=0, verbose=0,\n",
       "                                                 warm_start=False),\n",
       "                max_features=None, norm_order=1, prefit=False, threshold=0.03)"
      ]
     },
     "execution_count": 24,
     "metadata": {},
     "output_type": "execute_result"
    }
   ],
   "source": [
    "# Create a selector object that will use the random forest classifier to identify\n",
    "# features that have an importance of more than 0.03\n",
    "sfm = SelectFromModel(rf_clf, threshold=0.03)\n",
    "\n",
    "# Train the selector\n",
    "sfm.fit(X, y)"
   ]
  },
  {
   "cell_type": "code",
   "execution_count": 25,
   "metadata": {},
   "outputs": [
    {
     "name": "stdout",
     "output_type": "stream",
     "text": [
      "Attr21\n",
      "Attr24\n",
      "Attr27\n",
      "Attr39\n",
      "Attr41\n",
      "Attr42\n",
      "Attr58\n"
     ]
    }
   ],
   "source": [
    "#Print the names of the most important features\n",
    "\n",
    "for feature_list_index in sfm.get_support(indices=True):\n",
    "    print(feature_labels[feature_list_index])"
   ]
  },
  {
   "cell_type": "code",
   "execution_count": 26,
   "metadata": {},
   "outputs": [],
   "source": [
    "X_imp_features = sfm.transform(X)"
   ]
  },
  {
   "cell_type": "code",
   "execution_count": 27,
   "metadata": {},
   "outputs": [],
   "source": [
    "#converting X_filtered to Dataframe\n",
    "\n",
    "X_imp_features = pd.DataFrame(data=X_imp_features,\n",
    "          index=np.arange(1, 5791),\n",
    "          columns=np.arange(1, 8))\n"
   ]
  },
  {
   "cell_type": "code",
   "execution_count": null,
   "metadata": {},
   "outputs": [],
   "source": []
  },
  {
   "cell_type": "markdown",
   "metadata": {},
   "source": [
    "# SMOTE+ENN TECHNIQUE"
   ]
  },
  {
   "cell_type": "code",
   "execution_count": 29,
   "metadata": {},
   "outputs": [],
   "source": [
    "# Split the data into 20% test and 80% training\n",
    "X_train, X_test, y_train, y_test = train_test_split(X_imp_features, y, test_size=0.2, random_state=0)"
   ]
  },
  {
   "cell_type": "code",
   "execution_count": 30,
   "metadata": {},
   "outputs": [
    {
     "data": {
      "text/plain": [
       "0    5384\n",
       "1     406\n",
       "Name: class, dtype: int64"
      ]
     },
     "execution_count": 30,
     "metadata": {},
     "output_type": "execute_result"
    },
    {
     "data": {
      "image/png": "[encoded data removed]",
      "text/plain": [
       "<Figure size 432x288 with 1 Axes>"
      ]
     },
     "metadata": {
      "needs_background": "light"
     },
     "output_type": "display_data"
    }
   ],
   "source": [
    "import matplotlib.pyplot as plt\n",
    "\n",
    "pd.value_counts(bankruptcy_df['class']).plot.bar()\n",
    "plt.title('Bankruptcy class histogram')\n",
    "plt.xlabel('Class')\n",
    "plt.ylabel('Frequency')\n",
    "df1['class'].value_counts()"
   ]
  },
  {
   "cell_type": "code",
   "execution_count": 31,
   "metadata": {},
   "outputs": [
    {
     "name": "stdout",
     "output_type": "stream",
     "text": [
      "Original dataset shape Counter({0: 4300, 1: 332})\n",
      "Resampled dataset shape Counter({1: 3774, 0: 3328})\n"
     ]
    }
   ],
   "source": [
    "#SMOTE+ENN Technique\n",
    "\n",
    "from imblearn.combine import SMOTEENN\n",
    "sme = SMOTEENN(random_state=0)\n",
    "\n",
    "columns = X_train.columns\n",
    "\n",
    "X_res, y_res = sme.fit_resample(X_train, y_train)\n",
    "\n",
    "#X_res = pd.DataFrame(data=X_res,columns=columns)\n",
    "#y_res = pd.DataFrame(data=y_res,columns=['y'])\n",
    "\n",
    "\n",
    "print('Original dataset shape %s' % Counter(y_train))\n",
    "print('Resampled dataset shape %s' % Counter(y_res))"
   ]
  },
  {
   "cell_type": "markdown",
   "metadata": {},
   "source": [
    "# BUILDING RANDOM FOREST MODEL"
   ]
  },
  {
   "cell_type": "code",
   "execution_count": 18,
   "metadata": {},
   "outputs": [
    {
     "data": {
      "text/plain": [
       "RandomForestClassifier(bootstrap=True, class_weight=None, criterion='gini',\n",
       "                       max_depth=None, max_features='auto', max_leaf_nodes=None,\n",
       "                       min_impurity_decrease=0.0, min_impurity_split=None,\n",
       "                       min_samples_leaf=1, min_samples_split=2,\n",
       "                       min_weight_fraction_leaf=0.0, n_estimators=10000,\n",
       "                       n_jobs=-1, oob_score=False, random_state=0, verbose=0,\n",
       "                       warm_start=False)"
      ]
     },
     "execution_count": 18,
     "metadata": {},
     "output_type": "execute_result"
    }
   ],
   "source": [
    "# Create a new random forest classifier for the most important features\n",
    "clf = RandomForestClassifier(n_estimators=10000, random_state=0, n_jobs=-1)\n",
    "\n",
    "# Train the new classifier on the new dataset containing the most important features\n",
    "clf.fit(X_res, y_res)"
   ]
  },
  {
   "cell_type": "code",
   "execution_count": 19,
   "metadata": {},
   "outputs": [
    {
     "data": {
      "text/plain": [
       "0.9373634377276038"
      ]
     },
     "execution_count": 19,
     "metadata": {},
     "output_type": "execute_result"
    }
   ],
   "source": [
    "from sklearn.metrics import accuracy_score\n",
    "\n",
    "# Apply The Full Featured Classifier To The Limited feature Test Data\n",
    "y_rf_pred = clf.predict(X_test)\n",
    "\n",
    "# View The Accuracy Of Our Limited Feature Model\n",
    "accuracy_score(y_test, y_rf_pred)"
   ]
  },
  {
   "cell_type": "code",
   "execution_count": 20,
   "metadata": {},
   "outputs": [
    {
     "data": {
      "text/plain": [
       "array([[1264,   64],\n",
       "       [  22,   23]], dtype=int64)"
      ]
     },
     "execution_count": 20,
     "metadata": {},
     "output_type": "execute_result"
    }
   ],
   "source": [
    "from sklearn.metrics import confusion_matrix\n",
    "\n",
    "confusion_matrix(y_test, y_rf_pred)"
   ]
  },
  {
   "cell_type": "code",
   "execution_count": 21,
   "metadata": {},
   "outputs": [
    {
     "name": "stdout",
     "output_type": "stream",
     "text": [
      "Predict    0          1          \n",
      "Actual\n",
      "0          1264       64         \n",
      "\n",
      "1          22         23         \n",
      "\n",
      "\n",
      "\n",
      "\n",
      "\n",
      "Overall Statistics : \n",
      "\n",
      "95% CI                                                            (0.92455,0.95018)\n",
      "ACC Macro                                                         0.93736\n",
      "AUNP                                                              0.73146\n",
      "AUNU                                                              0.73146\n",
      "Bennett S                                                         0.87473\n",
      "CBA                                                               0.60809\n",
      "CSI                                                               0.35509\n",
      "Chi-Squared                                                       157.15553\n",
      "Chi-Squared DF                                                    1\n",
      "Conditional Entropy                                               0.3023\n",
      "Cramer V                                                          0.33832\n",
      "Cross Entropy                                                     0.2218\n",
      "F1 Macro                                                          0.65779\n",
      "F1 Micro                                                          0.93736\n",
      "Gwet AC1                                                          0.93105\n",
      "Hamming Loss                                                      0.06264\n",
      "Joint Entropy                                                     0.51042\n",
      "KL Divergence                                                     0.01367\n",
      "Kappa                                                             0.31907\n",
      "Kappa 95% CI                                                      (0.17973,0.4584)\n",
      "Kappa No Prevalence                                               0.87473\n",
      "Kappa Standard Error                                              0.07109\n",
      "Kappa Unbiased                                                    0.31559\n",
      "Lambda A                                                          0.0\n",
      "Lambda B                                                          0.01149\n",
      "Mutual Information                                                0.03836\n",
      "NIR                                                               0.96723\n",
      "Overall ACC                                                       0.93736\n",
      "Overall CEN                                                       0.22501\n",
      "Overall J                                                         (1.14731,0.57365)\n",
      "Overall MCC                                                       0.33832\n",
      "Overall MCEN                                                      0.1865\n",
      "Overall RACC                                                      0.90801\n",
      "Overall RACCU                                                     0.90848\n",
      "P-Value                                                           None\n",
      "PPV Macro                                                         0.62363\n",
      "PPV Micro                                                         0.93736\n",
      "Pearson C                                                         0.32048\n",
      "Phi-Squared                                                       0.11446\n",
      "RCI                                                               0.18432\n",
      "RR                                                                686.5\n",
      "Reference Entropy                                                 0.20812\n",
      "Response Entropy                                                  0.34066\n",
      "SOA1(Landis & Koch)                                               Fair\n",
      "SOA2(Fleiss)                                                      Poor\n",
      "SOA3(Altman)                                                      Fair\n",
      "SOA4(Cicchetti)                                                   Poor\n",
      "SOA5(Cramer)                                                      Moderate\n",
      "SOA6(Matthews)                                                    Weak\n",
      "Scott PI                                                          0.31559\n",
      "Standard Error                                                    0.00654\n",
      "TPR Macro                                                         0.73146\n",
      "TPR Micro                                                         0.93736\n",
      "Zero-one Loss                                                     86\n",
      "\n",
      "Class Statistics :\n",
      "\n",
      "Classes                                                           0             1             \n",
      "ACC(Accuracy)                                                     0.93736       0.93736       \n",
      "AGF(Adjusted F-score)                                             0.52943       0.64853       \n",
      "AGM(Adjusted geometric mean)                                      0.69157       0.82253       \n",
      "AM(Difference between automatic and manual classification)        -42           42            \n",
      "AUC(Area under the ROC curve)                                     0.73146       0.73146       \n",
      "AUCI(AUC value interpretation)                                    Good          Good          \n",
      "AUPR(Area under the PR curve)                                     0.96735       0.38774       \n",
      "BCD(Bray-Curtis dissimilarity)                                    0.01529       0.01529       \n",
      "BM(Informedness or bookmaker informedness)                        0.46292       0.46292       \n",
      "CEN(Confusion entropy)                                            0.18905       0.9372        \n",
      "DOR(Diagnostic odds ratio)                                        20.64773      20.64773      \n",
      "DP(Discriminant power)                                            0.72493       0.72493       \n",
      "DPI(Discriminant power interpretation)                            Poor          Poor          \n",
      "ERR(Error rate)                                                   0.06264       0.06264       \n",
      "F0.5(F0.5 score)                                                  0.97651       0.29262       \n",
      "F1(F1 score - harmonic mean of precision and sensitivity)         0.9671        0.34848       \n",
      "F2(F2 score)                                                      0.95787       0.43071       \n",
      "FDR(False discovery rate)                                         0.01711       0.73563       \n",
      "FN(False negative/miss/type 2 error)                              64            22            \n",
      "FNR(Miss rate or false negative rate)                             0.04819       0.48889       \n",
      "FOR(False omission rate)                                          0.73563       0.01711       \n",
      "FP(False positive/type 1 error/false alarm)                       22            64            \n",
      "FPR(Fall-out or false positive rate)                              0.48889       0.04819       \n",
      "G(G-measure geometric mean of precision and sensitivity)          0.96723       0.36759       \n",
      "GI(Gini index)                                                    0.46292       0.46292       \n",
      "GM(G-mean geometric mean of specificity and sensitivity)          0.69748       0.69748       \n",
      "IBA(Index of balanced accuracy)                                   0.70087       0.27209       \n",
      "ICSI(Individual classification success index)                     0.9347        -0.22452      \n",
      "IS(Information score)                                             0.02318       3.01188       \n",
      "J(Jaccard index)                                                  0.9363        0.21101       \n",
      "LS(Lift score)                                                    1.0162        8.06616       \n",
      "MCC(Matthews correlation coefficient)                             0.33832       0.33832       \n",
      "MCCI(Matthews correlation coefficient interpretation)             Weak          Weak          \n",
      "MCEN(Modified confusion entropy)                                  0.30532       0.91703       \n",
      "MK(Markedness)                                                    0.24726       0.24726       \n",
      "N(Condition negative)                                             45            1328          \n",
      "NLR(Negative likelihood ratio)                                    0.09429       0.51364       \n",
      "NLRI(Negative likelihood ratio interpretation)                    Good          Negligible    \n",
      "NPV(Negative predictive value)                                    0.26437       0.98289       \n",
      "OC(Overlap coefficient)                                           0.98289       0.51111       \n",
      "OOC(Otsuka-Ochiai coefficient)                                    0.96723       0.36759       \n",
      "OP(Optimized precision)                                           0.63612       0.63612       \n",
      "P(Condition positive or support)                                  1328          45            \n",
      "PLR(Positive likelihood ratio)                                    1.94688       10.60556      \n",
      "PLRI(Positive likelihood ratio interpretation)                    Poor          Good          \n",
      "POP(Population)                                                   1373          1373          \n",
      "PPV(Precision or positive predictive value)                       0.98289       0.26437       \n",
      "PRE(Prevalence)                                                   0.96723       0.03277       \n",
      "Q(Yule Q - coefficient of colligation)                            0.90761       0.90761       \n",
      "RACC(Random accuracy)                                             0.90594       0.00208       \n",
      "RACCU(Random accuracy unbiased)                                   0.90617       0.00231       \n",
      "TN(True negative/correct rejection)                               23            1264          \n",
      "TNR(Specificity or true negative rate)                            0.51111       0.95181       \n",
      "TON(Test outcome negative)                                        87            1286          \n",
      "TOP(Test outcome positive)                                        1286          87            \n",
      "TP(True positive/hit)                                             1264          23            \n",
      "TPR(Sensitivity, recall, hit rate, or true positive rate)         0.95181       0.51111       \n",
      "Y(Youden index)                                                   0.46292       0.46292       \n",
      "dInd(Distance index)                                              0.49126       0.49126       \n",
      "sInd(Similarity index)                                            0.65263       0.65263       \n",
      "\n"
     ]
    }
   ],
   "source": [
    "from pycm import *\n",
    "\n",
    "cm = ConfusionMatrix(actual_vector=y_test, predict_vector=y_rf_pred) # Create CM From Data\n",
    "cm.table\n",
    "print(cm)"
   ]
  },
  {
   "cell_type": "code",
   "execution_count": 43,
   "metadata": {},
   "outputs": [
    {
     "name": "stdout",
     "output_type": "stream",
     "text": [
      "True Negatives:  1264\n",
      "False Positives:  64\n",
      "False Negatives:  22\n",
      "True Positives:  23\n"
     ]
    }
   ],
   "source": [
    "from sklearn.metrics import confusion_matrix\n",
    "\n",
    "tn, fp, fn, tp = confusion_matrix(y_test, y_rf_pred).ravel()\n",
    "print(\"True Negatives: \",tn)\n",
    "print(\"False Positives: \",fp)\n",
    "print(\"False Negatives: \",fn)\n",
    "print(\"True Positives: \",tp)"
   ]
  },
  {
   "cell_type": "code",
   "execution_count": 42,
   "metadata": {},
   "outputs": [
    {
     "name": "stdout",
     "output_type": "stream",
     "text": [
      "Specificity 0.95\n",
      "Recall / Sensitivity 0.51\n",
      "F1 Score 0.35\n"
     ]
    }
   ],
   "source": [
    "#Specificity\n",
    "Specificity = tn/(tn+fp) \n",
    "print(\"Specificity {:0.2f}\".format(Specificity))\n",
    "\n",
    "#Recall \n",
    "Recall = tp/(tp+fn) \n",
    "print(\"Recall / Sensitivity {:0.2f}\".format(Recall))\n",
    "\n",
    "#Precision\n",
    "Precision = tp / (tp + fp)\n",
    "\n",
    "#F1 Score\n",
    "f1 = (2*(Precision*Recall)/(Precision + Recall))\n",
    "print(\"F1 Score {:0.2f}\".format(f1))"
   ]
  },
  {
   "cell_type": "markdown",
   "metadata": {},
   "source": [
    "# BUILDING DECISION TREE MODEL"
   ]
  },
  {
   "cell_type": "code",
   "execution_count": 26,
   "metadata": {
    "collapsed": true
   },
   "outputs": [
    {
     "name": "stdout",
     "output_type": "stream",
     "text": [
      "Collecting pydot\n",
      "  Downloading https://files.pythonhosted.org/packages/33/d1/b1479a770f66d962f545c2101630ce1d5592d90cb4f083d38862e93d16d2/pydot-1.4.1-py2.py3-none-any.whl\n",
      "Requirement already satisfied: pyparsing>=2.1.4 in c:\\users\\shant\\appdata\\local\\programs\\python\\python37\\lib\\site-packages (from pydot) (2.4.4)\n",
      "Installing collected packages: pydot\n",
      "Successfully installed pydot-1.4.1\n"
     ]
    },
    {
     "name": "stderr",
     "output_type": "stream",
     "text": [
      "You are using pip version 18.1, however version 19.3.1 is available.\n",
      "You should consider upgrading via the 'python -m pip install --upgrade pip' command.\n"
     ]
    }
   ],
   "source": [
    "#!pip install pydot"
   ]
  },
  {
   "cell_type": "code",
   "execution_count": 21,
   "metadata": {},
   "outputs": [],
   "source": [
    "'''\n",
    "# Load libraries\n",
    "import pandas as pd\n",
    "from sklearn.tree import DecisionTreeClassifier # Import Decision Tree Classifier\n",
    "from sklearn.model_selection import train_test_split # Import train_test_split function\n",
    "from sklearn import metrics #Import scikit-learn metrics module for accuracy calculation\n",
    "'''"
   ]
  },
  {
   "cell_type": "code",
   "execution_count": 47,
   "metadata": {},
   "outputs": [],
   "source": [
    "'''\n",
    "# Create Decision Tree classifer object\n",
    "clf = DecisionTreeClassifier()\n",
    "\n",
    "# Train Decision Tree Classifer\n",
    "clf = clf.fit(X_res, y_res)\n",
    "\n",
    "#Predict the response for test dataset\n",
    "y_pred = clf.predict(X_test)\n",
    "\n",
    "'''"
   ]
  },
  {
   "cell_type": "code",
   "execution_count": 51,
   "metadata": {},
   "outputs": [
    {
     "name": "stdout",
     "output_type": "stream",
     "text": [
      "Accuracy: 0.9067734887108522\n"
     ]
    }
   ],
   "source": [
    "'''\n",
    "# Model Accuracy, how often is the classifier correct?\n",
    "\n",
    "print(\"Accuracy:\",metrics.accuracy_score(y_test, y_pred))\n",
    "'''"
   ]
  },
  {
   "cell_type": "code",
   "execution_count": 54,
   "metadata": {},
   "outputs": [
    {
     "name": "stdout",
     "output_type": "stream",
     "text": [
      "Predict    0          1          \n",
      "Actual\n",
      "0          1219       109        \n",
      "\n",
      "1          19         26         \n",
      "\n",
      "\n",
      "\n",
      "\n",
      "\n",
      "Overall Statistics : \n",
      "\n",
      "95% CI                                                            (0.89139,0.92215)\n",
      "ACC Macro                                                         0.90677\n",
      "AUNP                                                              0.74785\n",
      "AUNU                                                              0.74785\n",
      "Bennett S                                                         0.81355\n",
      "CBA                                                               0.55526\n",
      "CSI                                                               0.33647\n",
      "Chi-Squared                                                       120.6323\n",
      "Chi-Squared DF                                                    1\n",
      "Conditional Entropy                                               0.42824\n",
      "Cramer V                                                          0.29641\n",
      "Cross Entropy                                                     0.2541\n",
      "F1 Macro                                                          0.6195\n",
      "F1 Micro                                                          0.90677\n",
      "Gwet AC1                                                          0.89376\n",
      "Hamming Loss                                                      0.09323\n",
      "Joint Entropy                                                     0.63636\n",
      "KL Divergence                                                     0.04598\n",
      "Kappa                                                             0.25212\n",
      "Kappa 95% CI                                                      (0.12875,0.3755)\n",
      "Kappa No Prevalence                                               0.81355\n",
      "Kappa Standard Error                                              0.06295\n",
      "Kappa Unbiased                                                    0.23901\n",
      "Lambda A                                                          0.0\n",
      "Lambda B                                                          0.05185\n",
      "Mutual Information                                                0.03542\n",
      "NIR                                                               0.96723\n",
      "Overall ACC                                                       0.90677\n",
      "Overall CEN                                                       0.28103\n",
      "Overall J                                                         (1.07381,0.5369)\n",
      "Overall MCC                                                       0.29641\n",
      "Overall MCEN                                                      0.2272\n",
      "Overall RACC                                                      0.87535\n",
      "Overall RACCU                                                     0.87749\n",
      "P-Value                                                           None\n",
      "PPV Macro                                                         0.58862\n",
      "PPV Micro                                                         0.90677\n",
      "Pearson C                                                         0.28419\n",
      "Phi-Squared                                                       0.08786\n",
      "RCI                                                               0.1702\n",
      "RR                                                                686.5\n",
      "Reference Entropy                                                 0.20812\n",
      "Response Entropy                                                  0.46366\n",
      "SOA1(Landis & Koch)                                               Fair\n",
      "SOA2(Fleiss)                                                      Poor\n",
      "SOA3(Altman)                                                      Fair\n",
      "SOA4(Cicchetti)                                                   Poor\n",
      "SOA5(Cramer)                                                      Moderate\n",
      "SOA6(Matthews)                                                    Negligible\n",
      "Scott PI                                                          0.23901\n",
      "Standard Error                                                    0.00785\n",
      "TPR Macro                                                         0.74785\n",
      "TPR Micro                                                         0.90677\n",
      "Zero-one Loss                                                     128\n",
      "\n",
      "Class Statistics :\n",
      "\n",
      "Classes                                                           0             1             \n",
      "ACC(Accuracy)                                                     0.90677       0.90677       \n",
      "AGF(Adjusted F-score)                                             0.45474       0.63288       \n",
      "AGM(Adjusted geometric mean)                                      0.72348       0.82151       \n",
      "AM(Difference between automatic and manual classification)        -90           90            \n",
      "AUC(Area under the ROC curve)                                     0.74785       0.74785       \n",
      "AUCI(AUC value interpretation)                                    Good          Good          \n",
      "AUPR(Area under the PR curve)                                     0.95129       0.38519       \n",
      "BCD(Bray-Curtis dissimilarity)                                    0.03277       0.03277       \n",
      "BM(Informedness or bookmaker informedness)                        0.4957        0.4957        \n",
      "CEN(Confusion entropy)                                            0.24598       0.78064       \n",
      "DOR(Diagnostic odds ratio)                                        15.30372      15.30372      \n",
      "DP(Discriminant power)                                            0.65321       0.65321       \n",
      "DPI(Discriminant power interpretation)                            Poor          Poor          \n",
      "ERR(Error rate)                                                   0.09323       0.09323       \n",
      "F0.5(F0.5 score)                                                  0.97054       0.22222       \n",
      "F1(F1 score - harmonic mean of precision and sensitivity)         0.95012       0.28889       \n",
      "F2(F2 score)                                                      0.93053       0.4127        \n",
      "FDR(False discovery rate)                                         0.01535       0.80741       \n",
      "FN(False negative/miss/type 2 error)                              109           19            \n",
      "FNR(Miss rate or false negative rate)                             0.08208       0.42222       \n",
      "FOR(False omission rate)                                          0.80741       0.01535       \n",
      "FP(False positive/type 1 error/false alarm)                       19            109           \n",
      "FPR(Fall-out or false positive rate)                              0.42222       0.08208       \n",
      "G(G-measure geometric mean of precision and sensitivity)          0.9507        0.33358       \n",
      "GI(Gini index)                                                    0.4957        0.4957        \n",
      "GM(G-mean geometric mean of specificity and sensitivity)          0.72825       0.72825       \n",
      "IBA(Index of balanced accuracy)                                   0.71075       0.34996       \n",
      "ICSI(Individual classification success index)                     0.90257       -0.22963      \n",
      "IS(Information score)                                             0.02576       2.55489       \n",
      "J(Jaccard index)                                                  0.90497       0.16883       \n",
      "LS(Lift score)                                                    1.01802       5.87621       \n",
      "MCC(Matthews correlation coefficient)                             0.29641       0.29641       \n",
      "MCCI(Matthews correlation coefficient interpretation)             Negligible    Negligible    \n",
      "MCEN(Modified confusion entropy)                                  0.38024       0.72536       \n",
      "MK(Markedness)                                                    0.17725       0.17725       \n",
      "N(Condition negative)                                             45            1328          \n",
      "NLR(Negative likelihood ratio)                                    0.14206       0.45998       \n",
      "NLRI(Negative likelihood ratio interpretation)                    Fair          Poor          \n",
      "NPV(Negative predictive value)                                    0.19259       0.98465       \n",
      "OC(Overlap coefficient)                                           0.98465       0.57778       \n",
      "OOC(Otsuka-Ochiai coefficient)                                    0.9507        0.33358       \n",
      "OP(Optimized precision)                                           0.67936       0.67936       \n",
      "P(Condition positive or support)                                  1328          45            \n",
      "PLR(Positive likelihood ratio)                                    2.17403       7.03935       \n",
      "PLRI(Positive likelihood ratio interpretation)                    Poor          Fair          \n",
      "POP(Population)                                                   1373          1373          \n",
      "PPV(Precision or positive predictive value)                       0.98465       0.19259       \n",
      "PRE(Prevalence)                                                   0.96723       0.03277       \n",
      "Q(Yule Q - coefficient of colligation)                            0.87733       0.87733       \n",
      "RACC(Random accuracy)                                             0.87212       0.00322       \n",
      "RACCU(Random accuracy unbiased)                                   0.8732        0.0043        \n",
      "TN(True negative/correct rejection)                               26            1219          \n",
      "TNR(Specificity or true negative rate)                            0.57778       0.91792       \n",
      "TON(Test outcome negative)                                        135           1238          \n",
      "TOP(Test outcome positive)                                        1238          135           \n",
      "TP(True positive/hit)                                             1219          26            \n",
      "TPR(Sensitivity, recall, hit rate, or true positive rate)         0.91792       0.57778       \n",
      "Y(Youden index)                                                   0.4957        0.4957        \n",
      "dInd(Distance index)                                              0.43013       0.43013       \n",
      "sInd(Similarity index)                                            0.69585       0.69585       \n",
      "\n"
     ]
    }
   ],
   "source": [
    "'''\n",
    "#Confusion Matrix summary\n",
    "\n",
    "from pycm import *\n",
    "\n",
    "cm = ConfusionMatrix(actual_vector=y_test, predict_vector=y_pred) # Create CM From Data\n",
    "print(cm)\n",
    "'''"
   ]
  },
  {
   "cell_type": "code",
   "execution_count": 57,
   "metadata": {},
   "outputs": [
    {
     "name": "stdout",
     "output_type": "stream",
     "text": [
      "True Negatives:  26\n",
      "False Positives:  109\n",
      "False Negatives:  19\n",
      "True Positives:  1219\n"
     ]
    }
   ],
   "source": [
    "'''\n",
    "\n",
    "#Calculating TP, FP, FN, TN\n",
    "\n",
    "from sklearn.metrics import confusion_matrix\n",
    "\n",
    "tp, fp, fn, tn = confusion_matrix(y_test, y_pred).ravel()\n",
    "print(\"True Negatives: \",tn)\n",
    "print(\"False Positives: \",fp)\n",
    "print(\"False Negatives: \",fn)\n",
    "print(\"True Positives: \",tp)\n",
    "\n",
    "'''"
   ]
  },
  {
   "cell_type": "code",
   "execution_count": 59,
   "metadata": {},
   "outputs": [
    {
     "name": "stdout",
     "output_type": "stream",
     "text": [
      "Precision 0.92\n",
      "Recall 0.98\n",
      "F1 Score 0.95\n"
     ]
    }
   ],
   "source": [
    "'''\n",
    "\n",
    "#Precision \n",
    "Precision = tp/(tp+fp) \n",
    "print(\"Precision {:0.2f}\".format(Precision))\n",
    "\n",
    "#Recall \n",
    "Recall = tp/(tp+fn) \n",
    "print(\"Recall {:0.2f}\".format(Recall))\n",
    "\n",
    "#F1 Score\n",
    "f1 = (2*(Precision*Recall)/(Precision + Recall))\n",
    "print(\"F1 Score {:0.2f}\".format(f1))\n",
    "\n",
    "'''"
   ]
  },
  {
   "cell_type": "code",
   "execution_count": 60,
   "metadata": {
    "collapsed": true
   },
   "outputs": [
    {
     "name": "stdout",
     "output_type": "stream",
     "text": [
      "Collecting graphviz\n",
      "  Downloading https://files.pythonhosted.org/packages/f5/74/dbed754c0abd63768d3a7a7b472da35b08ac442cf87d73d5850a6f32391e/graphviz-0.13.2-py2.py3-none-any.whl\n",
      "Installing collected packages: graphviz\n",
      "Successfully installed graphviz-0.13.2\n"
     ]
    },
    {
     "name": "stderr",
     "output_type": "stream",
     "text": [
      "You are using pip version 18.1, however version 19.3.1 is available.\n",
      "You should consider upgrading via the 'python -m pip install --upgrade pip' command.\n"
     ]
    },
    {
     "name": "stdout",
     "output_type": "stream",
     "text": [
      "Collecting pydotplus\n",
      "  Downloading https://files.pythonhosted.org/packages/60/bf/62567830b700d9f6930e9ab6831d6ba256f7b0b730acb37278b0ccdffacf/pydotplus-2.0.2.tar.gz (278kB)\n",
      "Requirement already satisfied: pyparsing>=2.0.1 in c:\\users\\shant\\appdata\\local\\programs\\python\\python37\\lib\\site-packages (from pydotplus) (2.4.4)\n",
      "Installing collected packages: pydotplus\n",
      "  Running setup.py install for pydotplus: started\n",
      "    Running setup.py install for pydotplus: finished with status 'done'\n",
      "Successfully installed pydotplus-2.0.2\n"
     ]
    },
    {
     "name": "stderr",
     "output_type": "stream",
     "text": [
      "You are using pip version 18.1, however version 19.3.1 is available.\n",
      "You should consider upgrading via the 'python -m pip install --upgrade pip' command.\n"
     ]
    }
   ],
   "source": []
  },
  {
   "cell_type": "code",
   "execution_count": 65,
   "metadata": {},
   "outputs": [],
   "source": []
  },
  {
   "cell_type": "code",
   "execution_count": 67,
   "metadata": {
    "collapsed": true
   },
   "outputs": [
    {
     "name": "stdout",
     "output_type": "stream",
     "text": [
      "Requirement already satisfied: graphviz in c:\\users\\shant\\appdata\\local\\programs\\python\\python37\\lib\\site-packages (0.13.2)\n"
     ]
    },
    {
     "name": "stderr",
     "output_type": "stream",
     "text": [
      "You are using pip version 18.1, however version 19.3.1 is available.\n",
      "You should consider upgrading via the 'python -m pip install --upgrade pip' command.\n"
     ]
    }
   ],
   "source": []
  },
  {
   "cell_type": "code",
   "execution_count": 66,
   "metadata": {
    "collapsed": true
   },
   "outputs": [
    {
     "ename": "InvocationException",
     "evalue": "GraphViz's executables not found",
     "output_type": "error",
     "traceback": [
      "\u001b[1;31m---------------------------------------------------------------------------\u001b[0m",
      "\u001b[1;31mInvocationException\u001b[0m                       Traceback (most recent call last)",
      "\u001b[1;32m<ipython-input-66-7d3b3efaa72e>\u001b[0m in \u001b[0;36m<module>\u001b[1;34m\u001b[0m\n\u001b[0;32m      5\u001b[0m \u001b[1;33m\u001b[0m\u001b[0m\n\u001b[0;32m      6\u001b[0m \u001b[0mgraph\u001b[0m \u001b[1;33m=\u001b[0m \u001b[0mpydotplus\u001b[0m\u001b[1;33m.\u001b[0m\u001b[0mgraph_from_dot_data\u001b[0m\u001b[1;33m(\u001b[0m\u001b[0mdot_data\u001b[0m\u001b[1;33m.\u001b[0m\u001b[0mgetvalue\u001b[0m\u001b[1;33m(\u001b[0m\u001b[1;33m)\u001b[0m\u001b[1;33m)\u001b[0m\u001b[1;33m\u001b[0m\u001b[1;33m\u001b[0m\u001b[0m\n\u001b[1;32m----> 7\u001b[1;33m \u001b[0mgraph\u001b[0m\u001b[1;33m.\u001b[0m\u001b[0mwrite_png\u001b[0m\u001b[1;33m(\u001b[0m\u001b[1;34m'bankruptcy.png'\u001b[0m\u001b[1;33m)\u001b[0m\u001b[1;33m\u001b[0m\u001b[1;33m\u001b[0m\u001b[0m\n\u001b[0m\u001b[0;32m      8\u001b[0m \u001b[0mImage\u001b[0m\u001b[1;33m(\u001b[0m\u001b[0mgraph\u001b[0m\u001b[1;33m.\u001b[0m\u001b[0mcreate_png\u001b[0m\u001b[1;33m(\u001b[0m\u001b[1;33m)\u001b[0m\u001b[1;33m)\u001b[0m\u001b[1;33m\u001b[0m\u001b[1;33m\u001b[0m\u001b[0m\n",
      "\u001b[1;32mc:\\users\\shant\\appdata\\local\\programs\\python\\python37\\lib\\site-packages\\pydotplus\\graphviz.py\u001b[0m in \u001b[0;36m<lambda>\u001b[1;34m(path, f, prog)\u001b[0m\n\u001b[0;32m   1808\u001b[0m                 \u001b[1;32mlambda\u001b[0m \u001b[0mpath\u001b[0m\u001b[1;33m,\u001b[0m\u001b[1;33m\u001b[0m\u001b[1;33m\u001b[0m\u001b[0m\n\u001b[0;32m   1809\u001b[0m                 \u001b[0mf\u001b[0m\u001b[1;33m=\u001b[0m\u001b[0mfrmt\u001b[0m\u001b[1;33m,\u001b[0m\u001b[1;33m\u001b[0m\u001b[1;33m\u001b[0m\u001b[0m\n\u001b[1;32m-> 1810\u001b[1;33m                 \u001b[0mprog\u001b[0m\u001b[1;33m=\u001b[0m\u001b[0mself\u001b[0m\u001b[1;33m.\u001b[0m\u001b[0mprog\u001b[0m\u001b[1;33m:\u001b[0m \u001b[0mself\u001b[0m\u001b[1;33m.\u001b[0m\u001b[0mwrite\u001b[0m\u001b[1;33m(\u001b[0m\u001b[0mpath\u001b[0m\u001b[1;33m,\u001b[0m \u001b[0mformat\u001b[0m\u001b[1;33m=\u001b[0m\u001b[0mf\u001b[0m\u001b[1;33m,\u001b[0m \u001b[0mprog\u001b[0m\u001b[1;33m=\u001b[0m\u001b[0mprog\u001b[0m\u001b[1;33m)\u001b[0m\u001b[1;33m\u001b[0m\u001b[1;33m\u001b[0m\u001b[0m\n\u001b[0m\u001b[0;32m   1811\u001b[0m             )\n\u001b[0;32m   1812\u001b[0m \u001b[1;33m\u001b[0m\u001b[0m\n",
      "\u001b[1;32mc:\\users\\shant\\appdata\\local\\programs\\python\\python37\\lib\\site-packages\\pydotplus\\graphviz.py\u001b[0m in \u001b[0;36mwrite\u001b[1;34m(self, path, prog, format)\u001b[0m\n\u001b[0;32m   1916\u001b[0m \u001b[1;33m\u001b[0m\u001b[0m\n\u001b[0;32m   1917\u001b[0m             \u001b[1;32melse\u001b[0m\u001b[1;33m:\u001b[0m\u001b[1;33m\u001b[0m\u001b[1;33m\u001b[0m\u001b[0m\n\u001b[1;32m-> 1918\u001b[1;33m                 \u001b[0mfobj\u001b[0m\u001b[1;33m.\u001b[0m\u001b[0mwrite\u001b[0m\u001b[1;33m(\u001b[0m\u001b[0mself\u001b[0m\u001b[1;33m.\u001b[0m\u001b[0mcreate\u001b[0m\u001b[1;33m(\u001b[0m\u001b[0mprog\u001b[0m\u001b[1;33m,\u001b[0m \u001b[0mformat\u001b[0m\u001b[1;33m)\u001b[0m\u001b[1;33m)\u001b[0m\u001b[1;33m\u001b[0m\u001b[1;33m\u001b[0m\u001b[0m\n\u001b[0m\u001b[0;32m   1919\u001b[0m         \u001b[1;32mfinally\u001b[0m\u001b[1;33m:\u001b[0m\u001b[1;33m\u001b[0m\u001b[1;33m\u001b[0m\u001b[0m\n\u001b[0;32m   1920\u001b[0m             \u001b[1;32mif\u001b[0m \u001b[0mclose\u001b[0m\u001b[1;33m:\u001b[0m\u001b[1;33m\u001b[0m\u001b[1;33m\u001b[0m\u001b[0m\n",
      "\u001b[1;32mc:\\users\\shant\\appdata\\local\\programs\\python\\python37\\lib\\site-packages\\pydotplus\\graphviz.py\u001b[0m in \u001b[0;36mcreate\u001b[1;34m(self, prog, format)\u001b[0m\n\u001b[0;32m   1958\u001b[0m             \u001b[1;32mif\u001b[0m \u001b[0mself\u001b[0m\u001b[1;33m.\u001b[0m\u001b[0mprogs\u001b[0m \u001b[1;32mis\u001b[0m \u001b[1;32mNone\u001b[0m\u001b[1;33m:\u001b[0m\u001b[1;33m\u001b[0m\u001b[1;33m\u001b[0m\u001b[0m\n\u001b[0;32m   1959\u001b[0m                 raise InvocationException(\n\u001b[1;32m-> 1960\u001b[1;33m                     'GraphViz\\'s executables not found')\n\u001b[0m\u001b[0;32m   1961\u001b[0m \u001b[1;33m\u001b[0m\u001b[0m\n\u001b[0;32m   1962\u001b[0m         \u001b[1;32mif\u001b[0m \u001b[0mprog\u001b[0m \u001b[1;32mnot\u001b[0m \u001b[1;32min\u001b[0m \u001b[0mself\u001b[0m\u001b[1;33m.\u001b[0m\u001b[0mprogs\u001b[0m\u001b[1;33m:\u001b[0m\u001b[1;33m\u001b[0m\u001b[1;33m\u001b[0m\u001b[0m\n",
      "\u001b[1;31mInvocationException\u001b[0m: GraphViz's executables not found"
     ]
    }
   ],
   "source": []
  },
  {
   "cell_type": "code",
   "execution_count": 1,
   "metadata": {
    "collapsed": true
   },
   "outputs": [
    {
     "ename": "NameError",
     "evalue": "name 'X_res' is not defined",
     "output_type": "error",
     "traceback": [
      "\u001b[1;31m---------------------------------------------------------------------------\u001b[0m",
      "\u001b[1;31mNameError\u001b[0m                                 Traceback (most recent call last)",
      "\u001b[1;32m<ipython-input-1-e242d8e8e252>\u001b[0m in \u001b[0;36m<module>\u001b[1;34m\u001b[0m\n\u001b[1;32m----> 1\u001b[1;33m \u001b[0mX_res\u001b[0m\u001b[1;33m\u001b[0m\u001b[1;33m\u001b[0m\u001b[0m\n\u001b[0m",
      "\u001b[1;31mNameError\u001b[0m: name 'X_res' is not defined"
     ]
    }
   ],
   "source": []
  },
  {
   "cell_type": "code",
   "execution_count": 21,
   "metadata": {
    "collapsed": true
   },
   "outputs": [
    {
     "data": {
      "text/plain": [
       "array([[ 1.59300000e-01,  4.00410000e-01,  2.61130000e-01, ...,\n",
       "         1.48060000e+00,  4.12340000e+03,  2.95950000e-01],\n",
       "       [ 2.01730000e-01,  4.92350000e-02,  3.00280000e-01, ...,\n",
       "         1.43280000e+00,  1.82710000e+05,  2.16440000e-01],\n",
       "       [ 8.92100000e-02,  4.08070000e-01,  8.68440000e-02, ...,\n",
       "         1.09820000e+00,  5.68660000e+03,  1.50710000e-01],\n",
       "       ...,\n",
       "       [ 9.18951889e-02,  2.08163499e-01,  4.12974347e-01, ...,\n",
       "         2.02742329e+00,  3.65289975e+04,  1.16490596e-01],\n",
       "       [-1.43202771e-01,  7.62123523e-01, -5.63932000e-02, ...,\n",
       "         6.03159091e-01, -1.56597550e+03, -6.12026998e-01],\n",
       "       [ 2.26502362e-01,  5.44586797e-01, -8.56069634e-02, ...,\n",
       "         7.73152459e-01, -1.63964350e+03,  5.22451954e-01]])"
      ]
     },
     "execution_count": 21,
     "metadata": {},
     "output_type": "execute_result"
    }
   ],
   "source": []
  },
  {
   "cell_type": "markdown",
   "metadata": {},
   "source": [
    "# BUILDING KNN MODEL"
   ]
  },
  {
   "cell_type": "code",
   "execution_count": 26,
   "metadata": {
    "scrolled": true
   },
   "outputs": [],
   "source": [
    "import numpy as np\n",
    "from sklearn import neighbors\n",
    "import pandas as pd"
   ]
  },
  {
   "cell_type": "code",
   "execution_count": 27,
   "metadata": {},
   "outputs": [],
   "source": [
    "clf_knn = neighbors.KNeighborsClassifier()"
   ]
  },
  {
   "cell_type": "code",
   "execution_count": 28,
   "metadata": {},
   "outputs": [
    {
     "data": {
      "text/plain": [
       "KNeighborsClassifier(algorithm='auto', leaf_size=30, metric='minkowski',\n",
       "                     metric_params=None, n_jobs=None, n_neighbors=5, p=2,\n",
       "                     weights='uniform')"
      ]
     },
     "execution_count": 28,
     "metadata": {},
     "output_type": "execute_result"
    }
   ],
   "source": [
    "clf_knn.fit(X_res, y_res)"
   ]
  },
  {
   "cell_type": "code",
   "execution_count": 30,
   "metadata": {},
   "outputs": [
    {
     "data": {
      "text/plain": [
       "0.7691187181354697"
      ]
     },
     "execution_count": 30,
     "metadata": {},
     "output_type": "execute_result"
    }
   ],
   "source": [
    "from sklearn.metrics import accuracy_score\n",
    "\n",
    "# Apply The Full Featured Classifier To The Limited feature Test Data\n",
    "y_knn_pred = clf_knn.predict(X_test)\n",
    "\n",
    "# View The Accuracy Of Our Limited Feature Model\n",
    "accuracy_score(y_test, y_knn_pred)"
   ]
  },
  {
   "cell_type": "code",
   "execution_count": 31,
   "metadata": {},
   "outputs": [
    {
     "name": "stdout",
     "output_type": "stream",
     "text": [
      "0.7691187181354697\n"
     ]
    }
   ],
   "source": [
    "accuracy = clf_knn.score(X_test, y_test)\n",
    "print(accuracy)"
   ]
  },
  {
   "cell_type": "code",
   "execution_count": 44,
   "metadata": {},
   "outputs": [
    {
     "name": "stdout",
     "output_type": "stream",
     "text": [
      "True Negatives:  1031\n",
      "False Positives:  297\n",
      "False Negatives:  20\n",
      "True Positives:  25\n"
     ]
    }
   ],
   "source": [
    "from sklearn.metrics import confusion_matrix\n",
    "\n",
    "tn, fp, fn, tp = confusion_matrix(y_test, y_knn_pred).ravel()\n",
    "print(\"True Negatives: \",tn)\n",
    "print(\"False Positives: \",fp)\n",
    "print(\"False Negatives: \",fn)\n",
    "print(\"True Positives: \",tp)"
   ]
  },
  {
   "cell_type": "code",
   "execution_count": 45,
   "metadata": {},
   "outputs": [
    {
     "name": "stdout",
     "output_type": "stream",
     "text": [
      "Precision 0.08\n",
      "Recall 0.56\n",
      "F1 Score 0.14\n"
     ]
    }
   ],
   "source": [
    "\n",
    "#Precision \n",
    "Precision = tp/(tp+fp) \n",
    "print(\"Precision {:0.2f}\".format(Precision))\n",
    "\n",
    "#Recall \n",
    "Recall = tp/(tp+fn) \n",
    "print(\"Recall {:0.2f}\".format(Recall))\n",
    "\n",
    "#F1 Score\n",
    "f1 = (2*(Precision*Recall)/(Precision + Recall))\n",
    "print(\"F1 Score {:0.2f}\".format(f1))"
   ]
  },
  {
   "cell_type": "code",
   "execution_count": null,
   "metadata": {},
   "outputs": [],
   "source": []
  },
  {
   "cell_type": "code",
   "execution_count": null,
   "metadata": {},
   "outputs": [],
   "source": []
  },
  {
   "cell_type": "code",
   "execution_count": null,
   "metadata": {},
   "outputs": [],
   "source": []
  },
  {
   "cell_type": "markdown",
   "metadata": {},
   "source": [
    "#    # BUILDING MODEL USING BASELINE NEURAL NETWORK"
   ]
  },
  {
   "cell_type": "code",
   "execution_count": 23,
   "metadata": {
    "collapsed": true
   },
   "outputs": [
    {
     "name": "stdout",
     "output_type": "stream",
     "text": [
      "Collecting keras\n",
      "  Downloading https://files.pythonhosted.org/packages/ad/fd/6bfe87920d7f4fd475acd28500a42482b6b84479832bdc0fe9e589a60ceb/Keras-2.3.1-py2.py3-none-any.whl (377kB)\n",
      "Requirement already satisfied: six>=1.9.0 in c:\\users\\shant\\appdata\\local\\programs\\python\\python37\\lib\\site-packages (from keras) (1.13.0)\n",
      "Requirement already satisfied: pyyaml in c:\\users\\shant\\appdata\\local\\programs\\python\\python37\\lib\\site-packages (from keras) (5.1.2)\n",
      "Collecting h5py\n",
      "  Downloading https://files.pythonhosted.org/packages/a1/6b/7f62017e3f0b32438dd90bdc1ff0b7b1448b6cb04a1ed84f37b6de95cd7b/h5py-2.10.0-cp37-cp37m-win_amd64.whl (2.5MB)\n",
      "Requirement already satisfied: numpy>=1.9.1 in c:\\users\\shant\\appdata\\local\\programs\\python\\python37\\lib\\site-packages (from keras) (1.17.3)\n",
      "Requirement already satisfied: scipy>=0.14 in c:\\users\\shant\\appdata\\local\\programs\\python\\python37\\lib\\site-packages (from keras) (1.3.1)\n",
      "Collecting keras-applications>=1.0.6\n",
      "  Downloading https://files.pythonhosted.org/packages/71/e3/19762fdfc62877ae9102edf6342d71b28fbfd9dea3d2f96a882ce099b03f/Keras_Applications-1.0.8-py3-none-any.whl (50kB)\n",
      "Collecting keras-preprocessing>=1.0.5\n",
      "  Downloading https://files.pythonhosted.org/packages/28/6a/8c1f62c37212d9fc441a7e26736df51ce6f0e38455816445471f10da4f0a/Keras_Preprocessing-1.1.0-py2.py3-none-any.whl (41kB)\n",
      "Installing collected packages: h5py, keras-applications, keras-preprocessing, keras\n",
      "Successfully installed h5py-2.10.0 keras-2.3.1 keras-applications-1.0.8 keras-preprocessing-1.1.0\n"
     ]
    }
   ],
   "source": [
    "!pip install keras"
   ]
  },
  {
   "cell_type": "code",
   "execution_count": 25,
   "metadata": {
    "collapsed": true
   },
   "outputs": [
    {
     "name": "stdout",
     "output_type": "stream",
     "text": [
      "Collecting tensorflow\n",
      "  Downloading https://files.pythonhosted.org/packages/54/5f/e1b2d83b808f978f51b7ce109315154da3a3d4151aa59686002681f2e109/tensorflow-2.0.0-cp37-cp37m-win_amd64.whl (48.1MB)\n",
      "Collecting termcolor>=1.1.0\n",
      "  Downloading https://files.pythonhosted.org/packages/8a/48/a76be51647d0eb9f10e2a4511bf3ffb8cc1e6b14e9e4fab46173aa79f981/termcolor-1.1.0.tar.gz\n",
      "Collecting protobuf>=3.6.1\n",
      "  Downloading https://files.pythonhosted.org/packages/a8/ae/a11b9b0c8e2410b11887881990b71f54ec39b17c4de2b5d850ef66aade8c/protobuf-3.10.0-cp37-cp37m-win_amd64.whl (1.0MB)\n",
      "Collecting astor>=0.6.0\n",
      "  Downloading https://files.pythonhosted.org/packages/d1/4f/950dfae467b384fc96bc6469de25d832534f6b4441033c39f914efd13418/astor-0.8.0-py2.py3-none-any.whl\n",
      "Collecting tensorboard<2.1.0,>=2.0.0\n",
      "  Downloading https://files.pythonhosted.org/packages/d3/9e/a48cd34dd7b672ffc227b566f7d16d63c62c58b542d54efa45848c395dd4/tensorboard-2.0.1-py3-none-any.whl (3.8MB)\n",
      "Requirement already satisfied: wrapt>=1.11.1 in c:\\users\\shant\\appdata\\local\\programs\\python\\python37\\lib\\site-packages (from tensorflow) (1.11.2)\n",
      "Collecting google-pasta>=0.1.6\n",
      "  Downloading https://files.pythonhosted.org/packages/c3/fd/1e86bc4837cc9a3a5faf3db9b1854aa04ad35b5f381f9648fbe81a6f94e4/google_pasta-0.1.8-py3-none-any.whl (57kB)\n",
      "Requirement already satisfied: keras-applications>=1.0.8 in c:\\users\\shant\\appdata\\local\\programs\\python\\python37\\lib\\site-packages (from tensorflow) (1.0.8)\n",
      "Collecting absl-py>=0.7.0\n",
      "  Downloading https://files.pythonhosted.org/packages/3b/72/e6e483e2db953c11efa44ee21c5fdb6505c4dffa447b4263ca8af6676b62/absl-py-0.8.1.tar.gz (103kB)\n",
      "Requirement already satisfied: numpy<2.0,>=1.16.0 in c:\\users\\shant\\appdata\\local\\programs\\python\\python37\\lib\\site-packages (from tensorflow) (1.17.3)\n",
      "Collecting opt-einsum>=2.3.2\n",
      "  Downloading https://files.pythonhosted.org/packages/b8/83/755bd5324777875e9dff19c2e59daec837d0378c09196634524a3d7269ac/opt_einsum-3.1.0.tar.gz (69kB)\n",
      "Collecting grpcio>=1.8.6\n",
      "  Downloading https://files.pythonhosted.org/packages/b3/a8/91d878054bdacf586ed613bec64f5c26cc0a0a2af294377c7f29469a05f4/grpcio-1.25.0-cp37-cp37m-win_amd64.whl (1.8MB)\n",
      "Requirement already satisfied: six>=1.10.0 in c:\\users\\shant\\appdata\\local\\programs\\python\\python37\\lib\\site-packages (from tensorflow) (1.13.0)\n",
      "Requirement already satisfied: keras-preprocessing>=1.0.5 in c:\\users\\shant\\appdata\\local\\programs\\python\\python37\\lib\\site-packages (from tensorflow) (1.1.0)\n",
      "Collecting tensorflow-estimator<2.1.0,>=2.0.0\n",
      "  Downloading https://files.pythonhosted.org/packages/fc/08/8b927337b7019c374719145d1dceba21a8bb909b93b1ad6f8fb7d22c1ca1/tensorflow_estimator-2.0.1-py2.py3-none-any.whl (449kB)\n",
      "Collecting gast==0.2.2\n",
      "  Downloading https://files.pythonhosted.org/packages/4e/35/11749bf99b2d4e3cceb4d55ca22590b0d7c2c62b9de38ac4a4a7f4687421/gast-0.2.2.tar.gz\n",
      "Collecting wheel>=0.26\n",
      "  Downloading https://files.pythonhosted.org/packages/00/83/b4a77d044e78ad1a45610eb88f745be2fd2c6d658f9798a15e384b7d57c9/wheel-0.33.6-py2.py3-none-any.whl\n",
      "Requirement already satisfied: setuptools in c:\\users\\shant\\appdata\\local\\programs\\python\\python37\\lib\\site-packages (from protobuf>=3.6.1->tensorflow) (40.6.2)\n",
      "Collecting google-auth<2,>=1.6.3\n",
      "  Downloading https://files.pythonhosted.org/packages/7b/cb/786dc53d93494784935a62947643b48250b84a882474e714f9af5e1a1928/google_auth-1.7.1-py2.py3-none-any.whl (74kB)\n",
      "Collecting werkzeug>=0.11.15\n",
      "  Downloading https://files.pythonhosted.org/packages/ce/42/3aeda98f96e85fd26180534d36570e4d18108d62ae36f87694b476b83d6f/Werkzeug-0.16.0-py2.py3-none-any.whl (327kB)\n",
      "Collecting google-auth-oauthlib<0.5,>=0.4.1\n",
      "  Downloading https://files.pythonhosted.org/packages/7b/b8/88def36e74bee9fce511c9519571f4e485e890093ab7442284f4ffaef60b/google_auth_oauthlib-0.4.1-py2.py3-none-any.whl\n",
      "Collecting markdown>=2.6.8\n",
      "  Downloading https://files.pythonhosted.org/packages/c0/4e/fd492e91abdc2d2fcb70ef453064d980688762079397f779758e055f6575/Markdown-3.1.1-py2.py3-none-any.whl (87kB)\n",
      "Requirement already satisfied: h5py in c:\\users\\shant\\appdata\\local\\programs\\python\\python37\\lib\\site-packages (from keras-applications>=1.0.8->tensorflow) (2.10.0)\n",
      "Collecting rsa<4.1,>=3.1.4\n",
      "  Downloading https://files.pythonhosted.org/packages/02/e5/38518af393f7c214357079ce67a317307936896e961e35450b70fad2a9cf/rsa-4.0-py2.py3-none-any.whl\n",
      "Collecting pyasn1-modules>=0.2.1\n",
      "  Downloading https://files.pythonhosted.org/packages/52/50/bb4cefca37da63a0c52218ba2cb1b1c36110d84dcbae8aa48cd67c5e95c2/pyasn1_modules-0.2.7-py2.py3-none-any.whl (131kB)\n",
      "Collecting cachetools<3.2,>=2.0.0\n",
      "  Downloading https://files.pythonhosted.org/packages/2f/a6/30b0a0bef12283e83e58c1d6e7b5aabc7acfc4110df81a4471655d33e704/cachetools-3.1.1-py2.py3-none-any.whl\n",
      "Collecting requests-oauthlib>=0.7.0\n",
      "  Downloading https://files.pythonhosted.org/packages/a3/12/b92740d845ab62ea4edf04d2f4164d82532b5a0b03836d4d4e71c6f3d379/requests_oauthlib-1.3.0-py2.py3-none-any.whl\n",
      "Collecting pyasn1>=0.1.3\n",
      "  Downloading https://files.pythonhosted.org/packages/62/1e/a94a8d635fa3ce4cfc7f506003548d0a2447ae76fd5ca53932970fe3053f/pyasn1-0.4.8-py2.py3-none-any.whl (77kB)\n",
      "Collecting oauthlib>=3.0.0\n",
      "  Downloading https://files.pythonhosted.org/packages/05/57/ce2e7a8fa7c0afb54a0581b14a65b56e62b5759dbc98e80627142b8a3704/oauthlib-3.1.0-py2.py3-none-any.whl (147kB)\n",
      "Collecting requests>=2.0.0\n",
      "  Downloading https://files.pythonhosted.org/packages/51/bd/23c926cd341ea6b7dd0b2a00aba99ae0f828be89d72b2190f27c11d4b7fb/requests-2.22.0-py2.py3-none-any.whl (57kB)\n",
      "Collecting chardet<3.1.0,>=3.0.2\n",
      "  Downloading https://files.pythonhosted.org/packages/bc/a9/01ffebfb562e4274b6487b4bb1ddec7ca55ec7510b22e4c51f14098443b8/chardet-3.0.4-py2.py3-none-any.whl (133kB)\n",
      "Collecting urllib3!=1.25.0,!=1.25.1,<1.26,>=1.21.1\n",
      "  Downloading https://files.pythonhosted.org/packages/b4/40/a9837291310ee1ccc242ceb6ebfd9eb21539649f193a7c8c86ba15b98539/urllib3-1.25.7-py2.py3-none-any.whl (125kB)\n",
      "Collecting certifi>=2017.4.17\n",
      "  Downloading https://files.pythonhosted.org/packages/18/b0/8146a4f8dd402f60744fa380bc73ca47303cccf8b9190fd16a827281eac2/certifi-2019.9.11-py2.py3-none-any.whl (154kB)\n",
      "Collecting idna<2.9,>=2.5\n",
      "  Downloading https://files.pythonhosted.org/packages/14/2c/cd551d81dbe15200be1cf41cd03869a46fe7226e7450af7a6545bfc474c9/idna-2.8-py2.py3-none-any.whl (58kB)\n",
      "Installing collected packages: termcolor, protobuf, astor, pyasn1, rsa, pyasn1-modules, cachetools, google-auth, werkzeug, oauthlib, chardet, urllib3, certifi, idna, requests, requests-oauthlib, google-auth-oauthlib, absl-py, markdown, wheel, grpcio, tensorboard, google-pasta, opt-einsum, tensorflow-estimator, gast, tensorflow\n",
      "    Running setup.py install for termcolor: started\n",
      "    Running setup.py install for termcolor: finished with status 'done'\n",
      "    Running setup.py install for absl-py: started\n",
      "    Running setup.py install for absl-py: finished with status 'done'\n",
      "    Running setup.py install for opt-einsum: started\n",
      "    Running setup.py install for opt-einsum: finished with status 'done'\n",
      "    Running setup.py install for gast: started\n",
      "    Running setup.py install for gast: finished with status 'done'\n",
      "Successfully installed absl-py-0.8.1 astor-0.8.0 cachetools-3.1.1 certifi-2019.9.11 chardet-3.0.4 gast-0.2.2 google-auth-1.7.1 google-auth-oauthlib-0.4.1 google-pasta-0.1.8 grpcio-1.25.0 idna-2.8 markdown-3.1.1 oauthlib-3.1.0 opt-einsum-3.1.0 protobuf-3.10.0 pyasn1-0.4.8 pyasn1-modules-0.2.7 requests-2.22.0 requests-oauthlib-1.3.0 rsa-4.0 tensorboard-2.0.1 tensorflow-2.0.0 tensorflow-estimator-2.0.1 termcolor-1.1.0 urllib3-1.25.7 werkzeug-0.16.0 wheel-0.33.6\n"
     ]
    },
    {
     "name": "stderr",
     "output_type": "stream",
     "text": [
      "ERROR: tensorboard 2.0.1 has requirement setuptools>=41.0.0, but you'll have setuptools 40.6.2 which is incompatible.\n"
     ]
    }
   ],
   "source": [
    "!pip install tensorflow"
   ]
  },
  {
   "cell_type": "code",
   "execution_count": 34,
   "metadata": {},
   "outputs": [],
   "source": [
    "from sklearn.preprocessing import StandardScaler "
   ]
  },
  {
   "cell_type": "code",
   "execution_count": 35,
   "metadata": {},
   "outputs": [],
   "source": [
    "# Define the scaler \n",
    "scaler = StandardScaler().fit(X_res)\n",
    "\n",
    "# Scale the train set\n",
    "X_nn_res = scaler.transform(X_res)\n",
    "\n",
    "# Scale the test set\n",
    "X_nn_test = scaler.transform(X_test)"
   ]
  },
  {
   "cell_type": "code",
   "execution_count": 36,
   "metadata": {},
   "outputs": [],
   "source": [
    "# Import `Sequential` from `keras.models`\n",
    "from keras.models import Sequential\n",
    "\n",
    "# Import `Dense` from `keras.layers`\n",
    "from keras.layers import Dense\n",
    "\n",
    "# Initialize the constructor\n",
    "model = Sequential()\n",
    "\n",
    "# Add an input layer \n",
    "model.add(Dense(12, activation='relu', input_shape=(26,)))\n",
    "\n",
    "# Add one hidden layer \n",
    "model.add(Dense(8, activation='relu'))\n",
    "\n",
    "# Add an output layer \n",
    "model.add(Dense(1, activation='sigmoid'))"
   ]
  },
  {
   "cell_type": "code",
   "execution_count": 61,
   "metadata": {},
   "outputs": [
    {
     "data": {
      "text/plain": [
       "[array([[-0.08973274, -0.01515645, -0.07958195, -0.11998275, -0.33572605,\n",
       "         -0.03796527,  0.38072094,  0.306105  , -0.03693557,  0.17863134,\n",
       "          0.37695298, -0.2600903 ],\n",
       "        [ 0.17869118,  0.15177926, -0.08697787,  0.29204586, -0.24601898,\n",
       "          0.15244064, -0.12780043, -0.14328715, -0.01484686,  0.14463529,\n",
       "         -0.0214029 , -0.05454707],\n",
       "        [ 0.04781073,  0.15747043, -0.33703503, -0.09809032,  0.31258205,\n",
       "         -0.00111544, -0.2591575 , -0.05609158, -0.20126534,  0.21378061,\n",
       "          0.21019825, -0.23269787],\n",
       "        [-0.02454963, -0.09044981, -0.36949396,  0.1504983 , -0.01109096,\n",
       "          0.01365343, -0.3963243 ,  0.20717159,  0.07827911,  0.26770732,\n",
       "         -0.24627297,  0.27957204],\n",
       "        [ 0.01545563, -0.08697832, -0.15749775, -0.08023345,  0.3907363 ,\n",
       "         -0.06045473, -0.09825668, -0.30674106, -0.3328552 , -0.24149695,\n",
       "          0.1240218 , -0.10105941],\n",
       "        [ 0.34488443,  0.07198009,  0.35916194,  0.04757503, -0.29744452,\n",
       "         -0.16618265, -0.31121734,  0.22587922,  0.07915905, -0.2800785 ,\n",
       "         -0.09340972, -0.18753432],\n",
       "        [-0.3497213 , -0.36267397, -0.10011393,  0.0109967 ,  0.13407257,\n",
       "         -0.36602873, -0.09063113,  0.134716  , -0.21264166, -0.31106946,\n",
       "          0.24484405, -0.06593788],\n",
       "        [ 0.39619127, -0.07948694,  0.32476828, -0.36876097,  0.17924652,\n",
       "          0.34497216, -0.39006886, -0.16964713,  0.27671263, -0.19147834,\n",
       "         -0.36277363, -0.20884655],\n",
       "        [ 0.11293778,  0.01520836, -0.10257608, -0.20166504,  0.13488749,\n",
       "         -0.03227732, -0.06367469, -0.2541238 , -0.3823123 , -0.00931606,\n",
       "          0.06131545, -0.08682087],\n",
       "        [ 0.25323752,  0.07091239, -0.2582236 ,  0.35222074, -0.10831067,\n",
       "          0.11522385,  0.25158188,  0.13981804, -0.04459903,  0.0590204 ,\n",
       "          0.00413966, -0.05389509],\n",
       "        [-0.24492371, -0.2844352 ,  0.30501208,  0.04689112,  0.09720188,\n",
       "         -0.19111143, -0.3877872 , -0.03263617, -0.22040278, -0.02895221,\n",
       "          0.16311607, -0.12757221],\n",
       "        [ 0.2353535 ,  0.2984527 ,  0.06595978,  0.36771354,  0.19652   ,\n",
       "         -0.22164024,  0.31764492,  0.16296467,  0.15381697, -0.38215595,\n",
       "          0.16518971,  0.31848982],\n",
       "        [ 0.30678353, -0.19194105, -0.37097973,  0.32378742,  0.37055954,\n",
       "         -0.09844485,  0.30292258,  0.22356597,  0.09048298,  0.3771756 ,\n",
       "          0.00516996,  0.12458774],\n",
       "        [ 0.29429242, -0.29299384, -0.03520814, -0.19349882, -0.36639187,\n",
       "          0.20421198,  0.13098052, -0.11660182,  0.04799339, -0.19913828,\n",
       "         -0.3402492 , -0.06526193],\n",
       "        [-0.10122824, -0.23849498,  0.23244813, -0.26666135, -0.2930324 ,\n",
       "          0.14623502, -0.13110119, -0.3915012 ,  0.07670382, -0.2007926 ,\n",
       "         -0.20573337,  0.04062334],\n",
       "        [-0.1535609 ,  0.21698937, -0.09591156,  0.14928594,  0.04660964,\n",
       "          0.10163304, -0.0516479 , -0.04423144,  0.25505546,  0.16945282,\n",
       "          0.22490957, -0.38938704],\n",
       "        [ 0.14660051, -0.3741707 , -0.08450416, -0.14846855,  0.15255424,\n",
       "          0.01258773,  0.32572278, -0.3082365 ,  0.31120917,  0.19103715,\n",
       "          0.02909535,  0.26578787],\n",
       "        [ 0.09460491, -0.06599522, -0.37302664, -0.23064092,  0.14955965,\n",
       "         -0.18164587, -0.1756322 , -0.10780892,  0.22620991,  0.38127926,\n",
       "         -0.11253342,  0.14680913],\n",
       "        [-0.3946685 , -0.28679597, -0.06795904, -0.25974944,  0.00748694,\n",
       "         -0.25680327,  0.03960329, -0.04709262, -0.36855623, -0.28665262,\n",
       "          0.18423942,  0.36605063],\n",
       "        [-0.03722793,  0.19029495,  0.31832525,  0.09425241,  0.23577878,\n",
       "         -0.13498488, -0.3179317 , -0.06110218,  0.08652312, -0.14822233,\n",
       "         -0.07230249,  0.00169078],\n",
       "        [ 0.01667264, -0.33172262,  0.30616495, -0.09725702, -0.18484299,\n",
       "         -0.15683779,  0.12459204, -0.00513887, -0.13523433, -0.28444505,\n",
       "          0.16570666, -0.34468558],\n",
       "        [ 0.03768268, -0.34708664,  0.3042322 ,  0.30818257,  0.01873034,\n",
       "         -0.10900462,  0.17643169,  0.33810404, -0.02621588, -0.07477334,\n",
       "          0.27079287, -0.17178033],\n",
       "        [ 0.10662016,  0.15613267, -0.04322967, -0.06457755,  0.15946117,\n",
       "         -0.34102672,  0.21734259,  0.09369686,  0.1436514 ,  0.0452441 ,\n",
       "          0.32619306,  0.23742142],\n",
       "        [-0.24615805,  0.24609229,  0.12907568,  0.38186684, -0.39159396,\n",
       "          0.00519571, -0.24229397, -0.22588442,  0.28339043, -0.10403866,\n",
       "          0.06696948,  0.26783672],\n",
       "        [ 0.27428117,  0.12333819,  0.22299698, -0.02861133, -0.04335558,\n",
       "          0.08313066, -0.35377806,  0.22938773,  0.28789923, -0.20846136,\n",
       "          0.2330471 , -0.17739697],\n",
       "        [ 0.27175352,  0.24601242,  0.32800016, -0.0118863 ,  0.37820056,\n",
       "          0.1198093 ,  0.28294167,  0.34680846,  0.36134544,  0.30506858,\n",
       "          0.0507623 , -0.17983079]], dtype=float32),\n",
       " array([0., 0., 0., 0., 0., 0., 0., 0., 0., 0., 0., 0.], dtype=float32),\n",
       " array([[-0.17369407,  0.11056715, -0.3332392 , -0.44340897,  0.17047536,\n",
       "         -0.32634312,  0.40323144, -0.20880389],\n",
       "        [-0.09566742, -0.3428111 , -0.53132594, -0.04890114,  0.4938059 ,\n",
       "          0.36932266,  0.07441801,  0.27080345],\n",
       "        [-0.20006683, -0.00600034,  0.40996885, -0.43120313, -0.4617881 ,\n",
       "          0.5317974 , -0.22099003,  0.40867043],\n",
       "        [ 0.13329864, -0.52770144, -0.03426206,  0.51407385, -0.42903876,\n",
       "          0.3248155 ,  0.17341423, -0.05566961],\n",
       "        [-0.52601   , -0.00651604,  0.39801252,  0.14065707, -0.02378124,\n",
       "          0.5256827 ,  0.4471597 ,  0.4973482 ],\n",
       "        [-0.31993848, -0.02459729, -0.5039213 , -0.1433469 , -0.07428548,\n",
       "         -0.468184  ,  0.26769757,  0.37062746],\n",
       "        [-0.2836735 ,  0.08747113, -0.5191468 ,  0.34677792,  0.35513276,\n",
       "          0.13155884,  0.03632611,  0.20972848],\n",
       "        [ 0.04071528, -0.47783804, -0.20736587,  0.148978  , -0.03022152,\n",
       "         -0.09288123, -0.43748304,  0.2241919 ],\n",
       "        [ 0.04060769, -0.45658025, -0.5303021 , -0.32353967, -0.5194529 ,\n",
       "          0.1817525 , -0.0790084 ,  0.16588134],\n",
       "        [-0.43351594, -0.35159296, -0.05754143,  0.48928893,  0.2595569 ,\n",
       "          0.3419056 ,  0.3564064 ,  0.50668633],\n",
       "        [ 0.3710537 ,  0.13259774, -0.3047154 ,  0.14947861,  0.099935  ,\n",
       "         -0.4018134 ,  0.23909557, -0.29935622],\n",
       "        [ 0.38467264,  0.29220682, -0.08960387,  0.4766233 , -0.08354735,\n",
       "          0.04328001, -0.3851151 ,  0.37285334]], dtype=float32),\n",
       " array([0., 0., 0., 0., 0., 0., 0., 0.], dtype=float32),\n",
       " array([[ 0.7209828 ],\n",
       "        [ 0.6419933 ],\n",
       "        [ 0.6830852 ],\n",
       "        [ 0.34148908],\n",
       "        [ 0.48080146],\n",
       "        [-0.12576097],\n",
       "        [ 0.78681445],\n",
       "        [-0.4058644 ]], dtype=float32),\n",
       " array([0.], dtype=float32)]"
      ]
     },
     "execution_count": 61,
     "metadata": {},
     "output_type": "execute_result"
    }
   ],
   "source": [
    "# Model output shape\n",
    "model.output_shape\n",
    "\n",
    "# Model summary\n",
    "model.summary\n",
    "\n",
    "# Model config\n",
    "model.get_config()\n",
    "\n",
    "# List all weight tensors \n",
    "model.get_weights()"
   ]
  },
  {
   "cell_type": "code",
   "execution_count": 63,
   "metadata": {},
   "outputs": [
    {
     "name": "stdout",
     "output_type": "stream",
     "text": [
      "Epoch 1/20\n",
      "8006/8006 [==============================] - 14s 2ms/step - loss: 0.5825 - accuracy: 0.7035\n",
      "Epoch 2/20\n",
      "8006/8006 [==============================] - 14s 2ms/step - loss: 0.3789 - accuracy: 0.8500\n",
      "Epoch 3/20\n",
      "8006/8006 [==============================] - 13s 2ms/step - loss: 0.2774 - accuracy: 0.8925\n",
      "Epoch 4/20\n",
      "8006/8006 [==============================] - 13s 2ms/step - loss: 0.2406 - accuracy: 0.9076\n",
      "Epoch 5/20\n",
      "8006/8006 [==============================] - 13s 2ms/step - loss: 0.2203 - accuracy: 0.9126\n",
      "Epoch 6/20\n",
      "8006/8006 [==============================] - 14s 2ms/step - loss: 0.2087 - accuracy: 0.9147\n",
      "Epoch 7/20\n",
      "8006/8006 [==============================] - 14s 2ms/step - loss: 0.1956 - accuracy: 0.9207\n",
      "Epoch 8/20\n",
      "8006/8006 [==============================] - 14s 2ms/step - loss: 0.1896 - accuracy: 0.9232\n",
      "Epoch 9/20\n",
      "8006/8006 [==============================] - 14s 2ms/step - loss: 0.1868 - accuracy: 0.9257\n",
      "Epoch 10/20\n",
      "8006/8006 [==============================] - 14s 2ms/step - loss: 0.1823 - accuracy: 0.9266\n",
      "Epoch 11/20\n",
      "8006/8006 [==============================] - 14s 2ms/step - loss: 0.1769 - accuracy: 0.9308\n",
      "Epoch 12/20\n",
      "8006/8006 [==============================] - 14s 2ms/step - loss: 0.1735 - accuracy: 0.9326\n",
      "Epoch 13/20\n",
      "8006/8006 [==============================] - 14s 2ms/step - loss: 0.1731 - accuracy: 0.9331\n",
      "Epoch 14/20\n",
      "8006/8006 [==============================] - 13s 2ms/step - loss: 0.1610 - accuracy: 0.9367\n",
      "Epoch 15/20\n",
      "8006/8006 [==============================] - 14s 2ms/step - loss: 0.1712 - accuracy: 0.9353\n",
      "Epoch 16/20\n",
      "8006/8006 [==============================] - 14s 2ms/step - loss: 0.1645 - accuracy: 0.9359\n",
      "Epoch 17/20\n",
      "8006/8006 [==============================] - 14s 2ms/step - loss: 0.1573 - accuracy: 0.9399\n",
      "Epoch 18/20\n",
      "8006/8006 [==============================] - 14s 2ms/step - loss: 0.1576 - accuracy: 0.9395\n",
      "Epoch 19/20\n",
      "8006/8006 [==============================] - 15s 2ms/step - loss: 0.1559 - accuracy: 0.9394\n",
      "Epoch 20/20\n",
      "8006/8006 [==============================] - 14s 2ms/step - loss: 0.1519 - accuracy: 0.9392\n"
     ]
    },
    {
     "data": {
      "text/plain": [
       "<keras.callbacks.callbacks.History at 0x1f6280e8630>"
      ]
     },
     "execution_count": 63,
     "metadata": {},
     "output_type": "execute_result"
    }
   ],
   "source": [
    "model.compile(loss='binary_crossentropy',\n",
    "              optimizer='adam',\n",
    "              metrics=['accuracy'])\n",
    "                   \n",
    "model.fit(X_nn_res, y_res,epochs=20, batch_size=1, verbose=1)"
   ]
  },
  {
   "cell_type": "code",
   "execution_count": 64,
   "metadata": {},
   "outputs": [],
   "source": [
    "y_nn_pred = model.predict(X_test)"
   ]
  },
  {
   "cell_type": "code",
   "execution_count": 65,
   "metadata": {},
   "outputs": [
    {
     "name": "stdout",
     "output_type": "stream",
     "text": [
      "1373/1373 [==============================] - 0s 44us/step\n",
      "[0.3472626213600231, 0.8623452186584473]\n"
     ]
    }
   ],
   "source": [
    "score = model.evaluate(X_nn_test, y_test,verbose=1)\n",
    "\n",
    "print(score)"
   ]
  },
  {
   "cell_type": "code",
   "execution_count": 66,
   "metadata": {},
   "outputs": [
    {
     "data": {
      "text/plain": [
       "array([[1257,   71],\n",
       "       [  41,    4]], dtype=int64)"
      ]
     },
     "execution_count": 66,
     "metadata": {},
     "output_type": "execute_result"
    }
   ],
   "source": [
    "# Import the modules from `sklearn.metrics`\n",
    "from sklearn.metrics import confusion_matrix, precision_score, recall_score, f1_score, cohen_kappa_score\n",
    "\n",
    "# Confusion matrix\n",
    "confusion_matrix(y_test, y_nn_pred)"
   ]
  },
  {
   "cell_type": "code",
   "execution_count": 68,
   "metadata": {},
   "outputs": [
    {
     "data": {
      "text/plain": [
       "0.05333333333333334"
      ]
     },
     "execution_count": 68,
     "metadata": {},
     "output_type": "execute_result"
    }
   ],
   "source": [
    "# Precision \n",
    "precision_score(y_test, y_nn_pred)"
   ]
  },
  {
   "cell_type": "code",
   "execution_count": 69,
   "metadata": {},
   "outputs": [
    {
     "data": {
      "text/plain": [
       "0.08888888888888889"
      ]
     },
     "execution_count": 69,
     "metadata": {},
     "output_type": "execute_result"
    }
   ],
   "source": [
    "# Recall\n",
    "recall_score(y_test, y_nn_pred)"
   ]
  },
  {
   "cell_type": "code",
   "execution_count": 70,
   "metadata": {},
   "outputs": [
    {
     "data": {
      "text/plain": [
       "0.06666666666666668"
      ]
     },
     "execution_count": 70,
     "metadata": {},
     "output_type": "execute_result"
    }
   ],
   "source": [
    "# F1 score\n",
    "f1_score(y_test,y_nn_pred)"
   ]
  },
  {
   "cell_type": "code",
   "execution_count": 71,
   "metadata": {},
   "outputs": [
    {
     "name": "stdout",
     "output_type": "stream",
     "text": [
      "True Negatives:  4\n",
      "False Positives:  71\n",
      "False Negatives:  41\n",
      "True Positives:  1257\n"
     ]
    }
   ],
   "source": [
    "#Calculating TP, FP, FN, TN\n",
    "\n",
    "from sklearn.metrics import confusion_matrix\n",
    "\n",
    "tp, fp, fn, tn = confusion_matrix(y_test, y_nn_pred).ravel()\n",
    "print(\"True Negatives: \",tn)\n",
    "print(\"False Positives: \",fp)\n",
    "print(\"False Negatives: \",fn)\n",
    "print(\"True Positives: \",tp)\n"
   ]
  },
  {
   "cell_type": "code",
   "execution_count": 72,
   "metadata": {},
   "outputs": [
    {
     "name": "stdout",
     "output_type": "stream",
     "text": [
      "Precision 0.95\n",
      "Recall 0.97\n",
      "F1 Score 0.96\n"
     ]
    }
   ],
   "source": [
    "#Precision \n",
    "Precision = tp/(tp+fp) \n",
    "print(\"Precision {:0.2f}\".format(Precision))\n",
    "\n",
    "#Recall \n",
    "Recall = tp/(tp+fn) \n",
    "print(\"Recall {:0.2f}\".format(Recall))\n",
    "\n",
    "#F1 Score\n",
    "f1 = (2*(Precision*Recall)/(Precision + Recall))\n",
    "print(\"F1 Score {:0.2f}\".format(f1))"
   ]
  },
  {
   "cell_type": "code",
   "execution_count": null,
   "metadata": {},
   "outputs": [],
   "source": []
  },
  {
   "cell_type": "code",
   "execution_count": null,
   "metadata": {},
   "outputs": [],
   "source": []
  },
  {
   "cell_type": "code",
   "execution_count": null,
   "metadata": {},
   "outputs": [],
   "source": []
  }
 ],
 "metadata": {
  "kernelspec": {
   "display_name": "Python 3",
   "language": "python",
   "name": "python3"
  },
  "language_info": {
   "codemirror_mode": {
    "name": "ipython",
    "version": 3
   },
   "file_extension": ".py",
   "mimetype": "text/x-python",
   "name": "python",
   "nbconvert_exporter": "python",
   "pygments_lexer": "ipython3",
   "version": "3.7.2"
  }
 },
 "nbformat": 4,
 "nbformat_minor": 2
}
