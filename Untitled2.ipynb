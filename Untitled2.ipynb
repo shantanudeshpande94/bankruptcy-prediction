{
 "cells": [
  {
   "cell_type": "code",
   "execution_count": 1,
   "metadata": {},
   "outputs": [
    {
     "name": "stderr",
     "output_type": "stream",
     "text": [
      "Using TensorFlow backend.\n"
     ]
    }
   ],
   "source": [
    "#importing necessary packages\n",
    "\n",
    "import scipy as sp\n",
    "import numpy as np\n",
    "import pandas as pd\n",
    "import pandas_profiling as pp\n",
    "#from collections import Counter\n",
    "from sklearn import datasets, linear_model\n",
    "from sklearn.model_selection import train_test_split\n",
    "from imblearn.metrics import classification_report_imbalanced\n",
    "from matplotlib import pyplot as plt\n",
    "\n",
    "#loading csv into dataframe\n",
    "\n",
    "url = 'https://raw.githubusercontent.com/shantanudeshpande94/bankruptcy-prediction/master/5year.csv'\n",
    "bankruptcy_df = pd.read_csv(url)"
   ]
  },
  {
   "cell_type": "code",
   "execution_count": 2,
   "metadata": {},
   "outputs": [
    {
     "data": {
      "text/plain": [
       "(5910, 65)"
      ]
     },
     "execution_count": 2,
     "metadata": {},
     "output_type": "execute_result"
    }
   ],
   "source": [
    "bankruptcy_df.shape"
   ]
  },
  {
   "cell_type": "code",
   "execution_count": 4,
   "metadata": {},
   "outputs": [],
   "source": [
    "#to replace '?' with NA values\n",
    "\n",
    "bankruptcy_df.replace({'?': None},inplace =True)"
   ]
  },
  {
   "cell_type": "code",
   "execution_count": 5,
   "metadata": {},
   "outputs": [
    {
     "data": {
      "text/plain": [
       "Attr1       3\n",
       "Attr2       3\n",
       "Attr3       3\n",
       "Attr4      21\n",
       "Attr5      11\n",
       "         ... \n",
       "Attr61     15\n",
       "Attr62      0\n",
       "Attr63     21\n",
       "Attr64    107\n",
       "class       0\n",
       "Length: 65, dtype: int64"
      ]
     },
     "execution_count": 5,
     "metadata": {},
     "output_type": "execute_result"
    }
   ],
   "source": [
    "#to check null values in a column\n",
    "\n",
    "bankruptcy_df.isna().sum()"
   ]
  },
  {
   "cell_type": "code",
   "execution_count": 6,
   "metadata": {},
   "outputs": [
    {
     "data": {
      "text/plain": [
       "Attr1      -0.022347\n",
       "Attr2       0.465086\n",
       "Attr3       0.189155\n",
       "Attr4       4.892476\n",
       "Attr5      19.406758\n",
       "             ...    \n",
       "Attr61     10.941497\n",
       "Attr62    241.978184\n",
       "Attr63      9.127741\n",
       "Attr64     65.276716\n",
       "class       0.069374\n",
       "Length: 65, dtype: float64"
      ]
     },
     "execution_count": 6,
     "metadata": {},
     "output_type": "execute_result"
    }
   ],
   "source": [
    "#converting from object to float64\n",
    "\n",
    "bankruptcy_df['Attr1'] = pd.to_numeric(bankruptcy_df['Attr1'])\n",
    "bankruptcy_df['Attr2'] = pd.to_numeric(bankruptcy_df['Attr2'])\n",
    "bankruptcy_df['Attr3'] = pd.to_numeric(bankruptcy_df['Attr3'])\n",
    "bankruptcy_df['Attr4'] = pd.to_numeric(bankruptcy_df['Attr4'])\n",
    "bankruptcy_df['Attr5'] = pd.to_numeric(bankruptcy_df['Attr5'])\n",
    "bankruptcy_df['Attr6'] = pd.to_numeric(bankruptcy_df['Attr6'])\n",
    "bankruptcy_df['Attr7'] = pd.to_numeric(bankruptcy_df['Attr7'])\n",
    "bankruptcy_df['Attr8'] = pd.to_numeric(bankruptcy_df['Attr8'])\n",
    "bankruptcy_df['Attr9'] = pd.to_numeric(bankruptcy_df['Attr9'])\n",
    "bankruptcy_df['Attr10'] = pd.to_numeric(bankruptcy_df['Attr10'])\n",
    "bankruptcy_df['Attr11'] = pd.to_numeric(bankruptcy_df['Attr11'])\n",
    "bankruptcy_df['Attr12'] = pd.to_numeric(bankruptcy_df['Attr12'])\n",
    "bankruptcy_df['Attr13'] = pd.to_numeric(bankruptcy_df['Attr13'])\n",
    "bankruptcy_df['Attr14'] = pd.to_numeric(bankruptcy_df['Attr14'])\n",
    "bankruptcy_df['Attr15'] = pd.to_numeric(bankruptcy_df['Attr15'])\n",
    "bankruptcy_df['Attr16'] = pd.to_numeric(bankruptcy_df['Attr16'])\n",
    "bankruptcy_df['Attr17'] = pd.to_numeric(bankruptcy_df['Attr17'])\n",
    "bankruptcy_df['Attr18'] = pd.to_numeric(bankruptcy_df['Attr18'])\n",
    "bankruptcy_df['Attr19'] = pd.to_numeric(bankruptcy_df['Attr19'])\n",
    "bankruptcy_df['Attr20'] = pd.to_numeric(bankruptcy_df['Attr20'])\n",
    "bankruptcy_df['Attr21'] = pd.to_numeric(bankruptcy_df['Attr21'])\n",
    "bankruptcy_df['Attr22'] = pd.to_numeric(bankruptcy_df['Attr22'])\n",
    "bankruptcy_df['Attr23'] = pd.to_numeric(bankruptcy_df['Attr23'])\n",
    "bankruptcy_df['Attr24'] = pd.to_numeric(bankruptcy_df['Attr24'])\n",
    "bankruptcy_df['Attr25'] = pd.to_numeric(bankruptcy_df['Attr25'])\n",
    "bankruptcy_df['Attr26'] = pd.to_numeric(bankruptcy_df['Attr26'])\n",
    "bankruptcy_df['Attr27'] = pd.to_numeric(bankruptcy_df['Attr27'])\n",
    "bankruptcy_df['Attr28'] = pd.to_numeric(bankruptcy_df['Attr28'])\n",
    "bankruptcy_df['Attr29'] = pd.to_numeric(bankruptcy_df['Attr29'])\n",
    "bankruptcy_df['Attr30'] = pd.to_numeric(bankruptcy_df['Attr30'])\n",
    "bankruptcy_df['Attr31'] = pd.to_numeric(bankruptcy_df['Attr31'])\n",
    "bankruptcy_df['Attr32'] = pd.to_numeric(bankruptcy_df['Attr32'])\n",
    "bankruptcy_df['Attr33'] = pd.to_numeric(bankruptcy_df['Attr33'])\n",
    "bankruptcy_df['Attr34'] = pd.to_numeric(bankruptcy_df['Attr34'])\n",
    "bankruptcy_df['Attr35'] = pd.to_numeric(bankruptcy_df['Attr35'])\n",
    "bankruptcy_df['Attr36'] = pd.to_numeric(bankruptcy_df['Attr36'])\n",
    "bankruptcy_df['Attr37'] = pd.to_numeric(bankruptcy_df['Attr37'])\n",
    "bankruptcy_df['Attr38'] = pd.to_numeric(bankruptcy_df['Attr38'])\n",
    "bankruptcy_df['Attr39'] = pd.to_numeric(bankruptcy_df['Attr39'])\n",
    "bankruptcy_df['Attr40'] = pd.to_numeric(bankruptcy_df['Attr40'])\n",
    "bankruptcy_df['Attr41'] = pd.to_numeric(bankruptcy_df['Attr41'])\n",
    "bankruptcy_df['Attr42'] = pd.to_numeric(bankruptcy_df['Attr42'])\n",
    "bankruptcy_df['Attr43'] = pd.to_numeric(bankruptcy_df['Attr43'])\n",
    "bankruptcy_df['Attr44'] = pd.to_numeric(bankruptcy_df['Attr44'])\n",
    "bankruptcy_df['Attr45'] = pd.to_numeric(bankruptcy_df['Attr45'])\n",
    "bankruptcy_df['Attr46'] = pd.to_numeric(bankruptcy_df['Attr46'])\n",
    "bankruptcy_df['Attr47'] = pd.to_numeric(bankruptcy_df['Attr47'])\n",
    "bankruptcy_df['Attr48'] = pd.to_numeric(bankruptcy_df['Attr48'])\n",
    "bankruptcy_df['Attr49'] = pd.to_numeric(bankruptcy_df['Attr49'])\n",
    "bankruptcy_df['Attr50'] = pd.to_numeric(bankruptcy_df['Attr50'])\n",
    "bankruptcy_df['Attr51'] = pd.to_numeric(bankruptcy_df['Attr51'])\n",
    "bankruptcy_df['Attr52'] = pd.to_numeric(bankruptcy_df['Attr52'])\n",
    "bankruptcy_df['Attr53'] = pd.to_numeric(bankruptcy_df['Attr53'])\n",
    "bankruptcy_df['Attr54'] = pd.to_numeric(bankruptcy_df['Attr54'])\n",
    "bankruptcy_df['Attr55'] = pd.to_numeric(bankruptcy_df['Attr55'])\n",
    "bankruptcy_df['Attr56'] = pd.to_numeric(bankruptcy_df['Attr56'])\n",
    "bankruptcy_df['Attr57'] = pd.to_numeric(bankruptcy_df['Attr57'])\n",
    "bankruptcy_df['Attr58'] = pd.to_numeric(bankruptcy_df['Attr58'])\n",
    "bankruptcy_df['Attr59'] = pd.to_numeric(bankruptcy_df['Attr59'])\n",
    "bankruptcy_df['Attr60'] = pd.to_numeric(bankruptcy_df['Attr60'])\n",
    "bankruptcy_df['Attr61'] = pd.to_numeric(bankruptcy_df['Attr61'])\n",
    "bankruptcy_df['Attr62'] = pd.to_numeric(bankruptcy_df['Attr62'])\n",
    "bankruptcy_df['Attr63'] = pd.to_numeric(bankruptcy_df['Attr63'])\n",
    "bankruptcy_df['Attr64'] = pd.to_numeric(bankruptcy_df['Attr64'])\n",
    "\n",
    "bankruptcy_df.dtypes\n",
    "\n",
    "bankruptcy_df.mean()\n"
   ]
  },
  {
   "cell_type": "code",
   "execution_count": 7,
   "metadata": {},
   "outputs": [],
   "source": [
    "# dropping duplicate values \n",
    "\n",
    "bankruptcy_df.drop_duplicates(keep=False,inplace=True) "
   ]
  },
  {
   "cell_type": "code",
   "execution_count": 8,
   "metadata": {},
   "outputs": [],
   "source": [
    "#delete because of large number of missing values\n",
    "\n",
    "del bankruptcy_df['Attr37']"
   ]
  },
  {
   "cell_type": "code",
   "execution_count": 24,
   "metadata": {},
   "outputs": [],
   "source": [
    "from scipy import stats\n",
    "bankruptcy_df = bankruptcy_df[(np.abs(stats.zscore(bankruptcy_df)) < 3).all(axis=1)]"
   ]
  },
  {
   "cell_type": "code",
   "execution_count": 25,
   "metadata": {},
   "outputs": [
    {
     "data": {
      "text/plain": [
       "(5125, 64)"
      ]
     },
     "execution_count": 25,
     "metadata": {},
     "output_type": "execute_result"
    }
   ],
   "source": [
    "bankruptcy_df.shape"
   ]
  },
  {
   "cell_type": "code",
   "execution_count": 26,
   "metadata": {},
   "outputs": [
    {
     "data": {
      "text/plain": [
       "Attr1     0\n",
       "Attr2     0\n",
       "Attr3     0\n",
       "Attr4     0\n",
       "Attr5     0\n",
       "         ..\n",
       "Attr61    0\n",
       "Attr62    0\n",
       "Attr63    0\n",
       "Attr64    0\n",
       "class     0\n",
       "Length: 64, dtype: int64"
      ]
     },
     "execution_count": 26,
     "metadata": {},
     "output_type": "execute_result"
    }
   ],
   "source": [
    "#imputing missing values by mean\n",
    "\n",
    "bankruptcy_df.fillna(bankruptcy_df.mean(), inplace=True)\n",
    "\n",
    "#number of missing values\n",
    "\n",
    "bankruptcy_df.isna().sum()"
   ]
  },
  {
   "cell_type": "code",
   "execution_count": 27,
   "metadata": {},
   "outputs": [],
   "source": [
    "#delete because of high correlation\n",
    "\n",
    "bankruptcy_df = bankruptcy_df.drop(['Attr11','Attr16','Attr18','Attr22','Attr23','Attr26','Attr31','Attr33',\n",
    "        'Attr34','Attr35','Attr38','Attr4','Attr40','Attr44','Attr46','Attr48','Attr49','Attr50','Attr54',\n",
    "        'Attr56','Attr60','Attr62','Attr63','Attr64','Attr7','Attr8'], axis = 1)"
   ]
  },
  {
   "cell_type": "code",
   "execution_count": 41,
   "metadata": {},
   "outputs": [
    {
     "data": {
      "text/plain": [
       "<matplotlib.axes._subplots.AxesSubplot at 0x1d756a7cc50>"
      ]
     },
     "execution_count": 41,
     "metadata": {},
     "output_type": "execute_result"
    },
    {
     "data": {
      "image/png": "[encoded data removed]",
      "text/plain": [
       "<Figure size 432x288 with 1 Axes>"
      ]
     },
     "metadata": {
      "needs_background": "light"
     },
     "output_type": "display_data"
    }
   ],
   "source": [
    "pd.Series(bankruptcy_df['class']).value_counts().plot.bar()"
   ]
  },
  {
   "cell_type": "markdown",
   "metadata": {},
   "source": [
    "# FEATURE SELECTION USING RANDOM FOREST"
   ]
  },
  {
   "cell_type": "code",
   "execution_count": 29,
   "metadata": {},
   "outputs": [],
   "source": [
    "from sklearn.ensemble import RandomForestClassifier\n",
    "from sklearn.feature_selection import SelectFromModel"
   ]
  },
  {
   "cell_type": "code",
   "execution_count": 30,
   "metadata": {},
   "outputs": [],
   "source": [
    "# Create a list of feature names\n",
    "feature_labels = ['Attr1','Attr2','Attr3','Attr5','Attr6','Attr9','Attr10',\n",
    "              'Attr12','Attr13','Attr14','Attr15','Attr17','Attr19','Attr20',\n",
    "              'Attr21','Attr24','Attr25','Attr27','Attr28','Attr29','Attr30',\n",
    "              'Attr32','Attr36','Attr39',\n",
    "              'Attr41','Attr42','Attr43','Attr45','Attr47',\n",
    "              'Attr51','Attr52','Attr53','Attr55','Attr57','Attr58','Attr59',\n",
    "               'Attr61']"
   ]
  },
  {
   "cell_type": "code",
   "execution_count": 39,
   "metadata": {
    "collapsed": true
   },
   "outputs": [
    {
     "data": {
      "text/plain": [
       "pandas.core.frame.DataFrame"
      ]
     },
     "execution_count": 39,
     "metadata": {},
     "output_type": "execute_result"
    }
   ],
   "source": []
  },
  {
   "cell_type": "code",
   "execution_count": 33,
   "metadata": {},
   "outputs": [
    {
     "name": "stdout",
     "output_type": "stream",
     "text": [
      "('Attr1', 0.0)\n",
      "('Attr2', 0.0)\n",
      "('Attr3', 0.0)\n",
      "('Attr5', 0.0)\n",
      "('Attr6', 0.0)\n",
      "('Attr9', 0.0)\n",
      "('Attr10', 0.0)\n",
      "('Attr12', 0.0)\n",
      "('Attr13', 0.0)\n",
      "('Attr14', 0.0)\n",
      "('Attr15', 0.0)\n",
      "('Attr17', 0.0)\n",
      "('Attr19', 0.0)\n",
      "('Attr20', 0.0)\n",
      "('Attr21', 0.0)\n",
      "('Attr24', 0.0)\n",
      "('Attr25', 0.0)\n",
      "('Attr27', 0.0)\n",
      "('Attr28', 0.0)\n",
      "('Attr29', 0.0)\n",
      "('Attr30', 0.0)\n",
      "('Attr32', 0.0)\n",
      "('Attr36', 0.0)\n",
      "('Attr39', 0.0)\n",
      "('Attr41', 0.0)\n",
      "('Attr42', 0.0)\n",
      "('Attr43', 0.0)\n",
      "('Attr45', 0.0)\n",
      "('Attr47', 0.0)\n",
      "('Attr51', 0.0)\n",
      "('Attr52', 0.0)\n",
      "('Attr53', 0.0)\n",
      "('Attr55', 0.0)\n",
      "('Attr57', 0.0)\n",
      "('Attr58', 0.0)\n",
      "('Attr59', 0.0)\n",
      "('Attr61', 0.0)\n"
     ]
    }
   ],
   "source": [
    "#Create X from the features\n",
    "X = bankruptcy_df[feature_labels].values\n",
    "\n",
    "# Create y from output\n",
    "y = bankruptcy_df['class'].values.ravel()\n",
    "\n",
    "# Create a random forest classifier\n",
    "rf_clf = RandomForestClassifier(n_estimators=10000, random_state=0, n_jobs=-1)\n",
    "\n",
    "# Train the classifier\n",
    "rf_clf.fit(X, y)\n",
    "\n",
    "# Print the name and gini importance of each feature\n",
    "for feature in zip(feature_labels, rf_clf.feature_importances_):\n",
    "    print(feature)"
   ]
  },
  {
   "cell_type": "code",
   "execution_count": 36,
   "metadata": {
    "collapsed": true
   },
   "outputs": [
    {
     "data": {
      "text/plain": [
       "(5125,)"
      ]
     },
     "execution_count": 36,
     "metadata": {},
     "output_type": "execute_result"
    }
   ],
   "source": []
  },
  {
   "cell_type": "code",
   "execution_count": null,
   "metadata": {},
   "outputs": [],
   "source": []
  },
  {
   "cell_type": "code",
   "execution_count": null,
   "metadata": {},
   "outputs": [],
   "source": []
  },
  {
   "cell_type": "code",
   "execution_count": null,
   "metadata": {},
   "outputs": [],
   "source": []
  },
  {
   "cell_type": "code",
   "execution_count": null,
   "metadata": {},
   "outputs": [],
   "source": []
  },
  {
   "cell_type": "code",
   "execution_count": null,
   "metadata": {},
   "outputs": [],
   "source": []
  },
  {
   "cell_type": "code",
   "execution_count": null,
   "metadata": {},
   "outputs": [],
   "source": []
  }
 ],
 "metadata": {
  "kernelspec": {
   "display_name": "Python 3",
   "language": "python",
   "name": "python3"
  },
  "language_info": {
   "codemirror_mode": {
    "name": "ipython",
    "version": 3
   },
   "file_extension": ".py",
   "mimetype": "text/x-python",
   "name": "python",
   "nbconvert_exporter": "python",
   "pygments_lexer": "ipython3",
   "version": "3.7.2"
  }
 },
 "nbformat": 4,
 "nbformat_minor": 2
}
