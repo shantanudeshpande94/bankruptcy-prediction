{
 "cells": [
  {
   "cell_type": "code",
   "execution_count": 1,
   "metadata": {},
   "outputs": [
    {
     "name": "stderr",
     "output_type": "stream",
     "text": [
      "Using TensorFlow backend.\n"
     ]
    }
   ],
   "source": [
    "import scipy as sp\n",
    "import numpy as np\n",
    "import pandas as pd\n",
    "import pandas_profiling as pp\n",
    "from collections import Counter\n",
    "#from imblearn.datasets import fetch_datasets\n",
    "from sklearn import datasets, linear_model\n",
    "from sklearn.model_selection import train_test_split\n",
    "from sklearn.pipeline import make_pipeline\n",
    "from imblearn.pipeline import make_pipeline as make_pipeline_imb\n",
    "from imblearn.over_sampling import SMOTE\n",
    "from imblearn.metrics import classification_report_imbalanced\n",
    "from matplotlib import pyplot as plt\n",
    "\n",
    "\n",
    "\n",
    "#loading csv into dataframe\n",
    "\n",
    "url = 'https://raw.githubusercontent.com/shantanudeshpande94/bankruptcy-prediction/master/5year.csv'\n",
    "df1 = pd.read_csv(url)"
   ]
  },
  {
   "cell_type": "code",
   "execution_count": 8,
   "metadata": {},
   "outputs": [],
   "source": [
    "#to replace '?' with NA values\n",
    "\n",
    "df1.replace({'?': None},inplace =True)"
   ]
  },
  {
   "cell_type": "code",
   "execution_count": 9,
   "metadata": {},
   "outputs": [
    {
     "data": {
      "text/plain": [
       "Attr1       3\n",
       "Attr2       3\n",
       "Attr3       3\n",
       "Attr4      21\n",
       "Attr5      11\n",
       "         ... \n",
       "Attr61     15\n",
       "Attr62      0\n",
       "Attr63     21\n",
       "Attr64    107\n",
       "class       0\n",
       "Length: 65, dtype: int64"
      ]
     },
     "execution_count": 9,
     "metadata": {},
     "output_type": "execute_result"
    }
   ],
   "source": [
    "#to check null values in a column\n",
    "\n",
    "df1.isna().sum()"
   ]
  },
  {
   "cell_type": "code",
   "execution_count": 10,
   "metadata": {},
   "outputs": [
    {
     "data": {
      "text/plain": [
       "Attr1      -0.022347\n",
       "Attr2       0.465086\n",
       "Attr3       0.189155\n",
       "Attr4       4.892476\n",
       "Attr5      19.406758\n",
       "             ...    \n",
       "Attr61     10.941497\n",
       "Attr62    241.978184\n",
       "Attr63      9.127741\n",
       "Attr64     65.276716\n",
       "class       0.069374\n",
       "Length: 65, dtype: float64"
      ]
     },
     "execution_count": 10,
     "metadata": {},
     "output_type": "execute_result"
    }
   ],
   "source": [
    "\n",
    "#converting from object to float64\n",
    "# df1 = df1.convert_objects(convert_numeric=True)\n",
    "\n",
    "df1['Attr1'] = pd.to_numeric(df1['Attr1'])\n",
    "df1['Attr2'] = pd.to_numeric(df1['Attr2'])\n",
    "df1['Attr3'] = pd.to_numeric(df1['Attr3'])\n",
    "df1['Attr4'] = pd.to_numeric(df1['Attr4'])\n",
    "df1['Attr5'] = pd.to_numeric(df1['Attr5'])\n",
    "df1['Attr6'] = pd.to_numeric(df1['Attr6'])\n",
    "df1['Attr7'] = pd.to_numeric(df1['Attr7'])\n",
    "df1['Attr8'] = pd.to_numeric(df1['Attr8'])\n",
    "df1['Attr9'] = pd.to_numeric(df1['Attr9'])\n",
    "df1['Attr10'] = pd.to_numeric(df1['Attr10'])\n",
    "df1['Attr11'] = pd.to_numeric(df1['Attr11'])\n",
    "df1['Attr12'] = pd.to_numeric(df1['Attr12'])\n",
    "df1['Attr13'] = pd.to_numeric(df1['Attr13'])\n",
    "df1['Attr14'] = pd.to_numeric(df1['Attr14'])\n",
    "df1['Attr15'] = pd.to_numeric(df1['Attr15'])\n",
    "df1['Attr16'] = pd.to_numeric(df1['Attr16'])\n",
    "df1['Attr17'] = pd.to_numeric(df1['Attr17'])\n",
    "df1['Attr18'] = pd.to_numeric(df1['Attr18'])\n",
    "df1['Attr19'] = pd.to_numeric(df1['Attr19'])\n",
    "df1['Attr20'] = pd.to_numeric(df1['Attr20'])\n",
    "df1['Attr21'] = pd.to_numeric(df1['Attr21'])\n",
    "df1['Attr22'] = pd.to_numeric(df1['Attr22'])\n",
    "df1['Attr23'] = pd.to_numeric(df1['Attr23'])\n",
    "df1['Attr24'] = pd.to_numeric(df1['Attr24'])\n",
    "df1['Attr25'] = pd.to_numeric(df1['Attr25'])\n",
    "df1['Attr26'] = pd.to_numeric(df1['Attr26'])\n",
    "df1['Attr27'] = pd.to_numeric(df1['Attr27'])\n",
    "df1['Attr28'] = pd.to_numeric(df1['Attr28'])\n",
    "df1['Attr29'] = pd.to_numeric(df1['Attr29'])\n",
    "df1['Attr30'] = pd.to_numeric(df1['Attr30'])\n",
    "df1['Attr31'] = pd.to_numeric(df1['Attr31'])\n",
    "df1['Attr32'] = pd.to_numeric(df1['Attr32'])\n",
    "df1['Attr33'] = pd.to_numeric(df1['Attr33'])\n",
    "df1['Attr34'] = pd.to_numeric(df1['Attr34'])\n",
    "df1['Attr35'] = pd.to_numeric(df1['Attr35'])\n",
    "df1['Attr36'] = pd.to_numeric(df1['Attr36'])\n",
    "df1['Attr37'] = pd.to_numeric(df1['Attr37'])\n",
    "df1['Attr38'] = pd.to_numeric(df1['Attr38'])\n",
    "df1['Attr39'] = pd.to_numeric(df1['Attr39'])\n",
    "df1['Attr40'] = pd.to_numeric(df1['Attr40'])\n",
    "df1['Attr41'] = pd.to_numeric(df1['Attr41'])\n",
    "df1['Attr42'] = pd.to_numeric(df1['Attr42'])\n",
    "df1['Attr43'] = pd.to_numeric(df1['Attr43'])\n",
    "df1['Attr44'] = pd.to_numeric(df1['Attr44'])\n",
    "df1['Attr45'] = pd.to_numeric(df1['Attr45'])\n",
    "df1['Attr46'] = pd.to_numeric(df1['Attr46'])\n",
    "df1['Attr47'] = pd.to_numeric(df1['Attr47'])\n",
    "df1['Attr48'] = pd.to_numeric(df1['Attr48'])\n",
    "df1['Attr49'] = pd.to_numeric(df1['Attr49'])\n",
    "df1['Attr50'] = pd.to_numeric(df1['Attr50'])\n",
    "df1['Attr51'] = pd.to_numeric(df1['Attr51'])\n",
    "df1['Attr52'] = pd.to_numeric(df1['Attr52'])\n",
    "df1['Attr53'] = pd.to_numeric(df1['Attr53'])\n",
    "df1['Attr54'] = pd.to_numeric(df1['Attr54'])\n",
    "df1['Attr55'] = pd.to_numeric(df1['Attr55'])\n",
    "df1['Attr56'] = pd.to_numeric(df1['Attr56'])\n",
    "df1['Attr57'] = pd.to_numeric(df1['Attr57'])\n",
    "df1['Attr58'] = pd.to_numeric(df1['Attr58'])\n",
    "df1['Attr59'] = pd.to_numeric(df1['Attr59'])\n",
    "df1['Attr60'] = pd.to_numeric(df1['Attr60'])\n",
    "df1['Attr61'] = pd.to_numeric(df1['Attr61'])\n",
    "df1['Attr62'] = pd.to_numeric(df1['Attr62'])\n",
    "df1['Attr63'] = pd.to_numeric(df1['Attr63'])\n",
    "df1['Attr64'] = pd.to_numeric(df1['Attr64'])\n",
    "\n",
    "df1.dtypes\n",
    "\n",
    "df1.mean()\n"
   ]
  },
  {
   "cell_type": "code",
   "execution_count": 11,
   "metadata": {},
   "outputs": [],
   "source": [
    "#check profile report of the dataset\n",
    "\n",
    "profile = df1.profile_report(title='Pandas Profiling Report')\n",
    "profile.to_file(output_file=\"output_file5.html\")"
   ]
  },
  {
   "cell_type": "code",
   "execution_count": 12,
   "metadata": {},
   "outputs": [],
   "source": [
    "# dropping duplicate values \n",
    "\n",
    "df1.drop_duplicates(keep=False,inplace=True) "
   ]
  },
  {
   "cell_type": "code",
   "execution_count": 13,
   "metadata": {},
   "outputs": [],
   "source": [
    "#delete because of large number of missing values\n",
    "\n",
    "del df1['Attr37']"
   ]
  },
  {
   "cell_type": "code",
   "execution_count": 14,
   "metadata": {},
   "outputs": [
    {
     "data": {
      "text/plain": [
       "Attr1     0\n",
       "Attr2     0\n",
       "Attr3     0\n",
       "Attr4     0\n",
       "Attr5     0\n",
       "         ..\n",
       "Attr61    0\n",
       "Attr62    0\n",
       "Attr63    0\n",
       "Attr64    0\n",
       "class     0\n",
       "Length: 64, dtype: int64"
      ]
     },
     "execution_count": 14,
     "metadata": {},
     "output_type": "execute_result"
    }
   ],
   "source": [
    "#imputing missing values by mean\n",
    "\n",
    "df1.fillna(df1.mean(), inplace=True)\n",
    "\n",
    "#number of missing values\n",
    "\n",
    "df1.isna().sum()"
   ]
  },
  {
   "cell_type": "code",
   "execution_count": 15,
   "metadata": {},
   "outputs": [
    {
     "data": {
      "text/plain": [
       "<matplotlib.axes._subplots.AxesSubplot at 0x2738a7b3cf8>"
      ]
     },
     "execution_count": 15,
     "metadata": {},
     "output_type": "execute_result"
    },
    {
     "data": {
      "image/png": "[encoded data removed]",
      "text/plain": [
       "<Figure size 1080x1080 with 2 Axes>"
      ]
     },
     "metadata": {
      "needs_background": "light"
     },
     "output_type": "display_data"
    }
   ],
   "source": [
    "#correlation analysis\n",
    "\n",
    "corrmat = df1.corr() \n",
    "  \n",
    "corrmat.to_csv(\"correlation-analysis-5.csv\")    \n",
    "    \n",
    "#plotting correlation graph   \n",
    "\n",
    "import seaborn as sns \n",
    "\n",
    "f, ax = plt.subplots(figsize =(15, 15)) \n",
    "sns.heatmap(corrmat, ax = ax, cmap =\"YlGnBu\", linewidths = 0.1) "
   ]
  },
  {
   "cell_type": "code",
   "execution_count": 16,
   "metadata": {},
   "outputs": [],
   "source": [
    "#delete because of high correlation\n",
    "\n",
    "df1 = df1.drop(['Attr11','Attr16','Attr18','Attr22','Attr23','Attr26','Attr31','Attr33',\n",
    "        'Attr34','Attr35','Attr38','Attr4','Attr40','Attr44','Attr46','Attr48','Attr49','Attr50','Attr54',\n",
    "        'Attr56','Attr60','Attr62','Attr63','Attr64','Attr7','Attr8'], axis = 1)"
   ]
  },
  {
   "cell_type": "markdown",
   "metadata": {},
   "source": [
    "#    # FEATURE SELECTION USING RANDOM FOREST"
   ]
  },
  {
   "cell_type": "code",
   "execution_count": 37,
   "metadata": {},
   "outputs": [],
   "source": [
    "import numpy as np\n",
    "from sklearn.ensemble import RandomForestClassifier\n",
    "from sklearn import datasets\n",
    "from sklearn.model_selection import train_test_split\n",
    "from sklearn.feature_selection import SelectFromModel\n",
    "from sklearn.metrics import accuracy_score"
   ]
  },
  {
   "cell_type": "code",
   "execution_count": 38,
   "metadata": {},
   "outputs": [],
   "source": [
    "\n",
    "# Create a list of feature names\n",
    "feat_labels = ['Attr1','Attr2','Attr3','Attr5','Attr6','Attr9','Attr10',\n",
    "              'Attr12','Attr13','Attr14','Attr15','Attr17','Attr19','Attr20',\n",
    "              'Attr21','Attr24','Attr25','Attr27','Attr28','Attr29','Attr30',\n",
    "              'Attr32','Attr36','Attr39',\n",
    "              'Attr41','Attr42','Attr43','Attr45','Attr47',\n",
    "              'Attr51','Attr52','Attr53','Attr55','Attr57','Attr58','Attr59',\n",
    "               'Attr61'\n",
    "              ]\n"
   ]
  },
  {
   "cell_type": "code",
   "execution_count": 39,
   "metadata": {},
   "outputs": [
    {
     "name": "stdout",
     "output_type": "stream",
     "text": [
      "('Attr1', 0.027591918833885107)\n",
      "('Attr2', 0.016095535109824543)\n",
      "('Attr3', 0.024633088062148565)\n",
      "('Attr5', 0.017566884919741874)\n",
      "('Attr6', 0.022341684789630053)\n",
      "('Attr9', 0.024445543623779965)\n",
      "('Attr10', 0.018169188943307345)\n",
      "('Attr12', 0.020546371953517942)\n",
      "('Attr13', 0.029548036841272433)\n",
      "('Attr14', 0.027224671754813624)\n",
      "('Attr15', 0.02586829696739935)\n",
      "('Attr17', 0.016494773722498114)\n",
      "('Attr19', 0.02392922848783537)\n",
      "('Attr20', 0.014438103931648572)\n",
      "('Attr21', 0.09961359554542011)\n",
      "('Attr24', 0.038206224024632474)\n",
      "('Attr25', 0.022354495094863536)\n",
      "('Attr27', 0.06966182184329177)\n",
      "('Attr28', 0.022296572829685384)\n",
      "('Attr29', 0.02764127489026749)\n",
      "('Attr30', 0.0163657865079402)\n",
      "('Attr32', 0.016173909103129686)\n",
      "('Attr36', 0.018125411522987286)\n",
      "('Attr39', 0.056015258394595084)\n",
      "('Attr41', 0.045584182145104)\n",
      "('Attr42', 0.04182460764531087)\n",
      "('Attr43', 0.018639018353756486)\n",
      "('Attr45', 0.01903872933861213)\n",
      "('Attr47', 0.013465773485520045)\n",
      "('Attr51', 0.018854939962981758)\n",
      "('Attr52', 0.015557464847323685)\n",
      "('Attr53', 0.020698329804187413)\n",
      "('Attr55', 0.025995782574535997)\n",
      "('Attr57', 0.01804729474234887)\n",
      "('Attr58', 0.03638337827822372)\n",
      "('Attr59', 0.011619657742007114)\n",
      "('Attr61', 0.018943163381971984)\n"
     ]
    }
   ],
   "source": [
    "#Create X from the features\n",
    "X = df1[feat_labels].values\n",
    "#X = df1.iloc[:,:31]\n",
    "\n",
    "# Create y from output\n",
    "y = df1['class'].values.ravel()\n",
    "#y = df1.iloc[:,31]\n",
    "\n",
    "\n",
    "# Create a random forest classifier\n",
    "clf = RandomForestClassifier(n_estimators=10000, random_state=0, n_jobs=-1)\n",
    "\n",
    "# Train the classifier\n",
    "clf.fit(X, y)\n",
    "\n",
    "# Print the name and gini importance of each feature\n",
    "for feature in zip(feat_labels, clf.feature_importances_):\n",
    "    print(feature)\n"
   ]
  },
  {
   "cell_type": "code",
   "execution_count": 42,
   "metadata": {},
   "outputs": [
    {
     "data": {
      "text/plain": [
       "SelectFromModel(estimator=RandomForestClassifier(bootstrap=True,\n",
       "                                                 class_weight=None,\n",
       "                                                 criterion='gini',\n",
       "                                                 max_depth=None,\n",
       "                                                 max_features='auto',\n",
       "                                                 max_leaf_nodes=None,\n",
       "                                                 min_impurity_decrease=0.0,\n",
       "                                                 min_impurity_split=None,\n",
       "                                                 min_samples_leaf=1,\n",
       "                                                 min_samples_split=2,\n",
       "                                                 min_weight_fraction_leaf=0.0,\n",
       "                                                 n_estimators=10000, n_jobs=-1,\n",
       "                                                 oob_score=False,\n",
       "                                                 random_state=0, verbose=0,\n",
       "                                                 warm_start=False),\n",
       "                max_features=None, norm_order=1, prefit=False, threshold=0.03)"
      ]
     },
     "execution_count": 42,
     "metadata": {},
     "output_type": "execute_result"
    }
   ],
   "source": [
    "# Create a selector object that will use the random forest classifier to identify\n",
    "# features that have an importance of more than 0.015\n",
    "sfm = SelectFromModel(clf, threshold=0.03)\n",
    "\n",
    "# Train the selector\n",
    "sfm.fit(X, y)"
   ]
  },
  {
   "cell_type": "code",
   "execution_count": 43,
   "metadata": {},
   "outputs": [
    {
     "name": "stdout",
     "output_type": "stream",
     "text": [
      "Attr21\n",
      "Attr24\n",
      "Attr27\n",
      "Attr39\n",
      "Attr41\n",
      "Attr42\n",
      "Attr58\n"
     ]
    }
   ],
   "source": [
    "# Print the names of the most important features\n",
    "for feature_list_index in sfm.get_support(indices=True):\n",
    "    print(feat_labels[feature_list_index])"
   ]
  },
  {
   "cell_type": "code",
   "execution_count": 44,
   "metadata": {},
   "outputs": [],
   "source": [
    "X_filtered = sfm.transform(X)"
   ]
  },
  {
   "cell_type": "code",
   "execution_count": 52,
   "metadata": {
    "collapsed": true
   },
   "outputs": [
    {
     "data": {
      "text/plain": [
       "(5790, 7)"
      ]
     },
     "execution_count": 52,
     "metadata": {},
     "output_type": "execute_result"
    }
   ],
   "source": [
    "X_filtered.shape"
   ]
  },
  {
   "cell_type": "code",
   "execution_count": 53,
   "metadata": {},
   "outputs": [],
   "source": [
    "#converting X_filtered to Dataframe\n",
    "\n",
    "X_filtered = pd.DataFrame(data=X_filtered,\n",
    "          index=np.arange(1, 5791),\n",
    "          columns=np.arange(1, 8))"
   ]
  },
  {
   "cell_type": "code",
   "execution_count": null,
   "metadata": {},
   "outputs": [],
   "source": []
  },
  {
   "cell_type": "code",
   "execution_count": null,
   "metadata": {},
   "outputs": [],
   "source": []
  },
  {
   "cell_type": "code",
   "execution_count": null,
   "metadata": {},
   "outputs": [],
   "source": []
  },
  {
   "cell_type": "markdown",
   "metadata": {},
   "source": [
    "#    RESAMPLING USING SMOTE"
   ]
  },
  {
   "cell_type": "code",
   "execution_count": 54,
   "metadata": {},
   "outputs": [
    {
     "name": "stdout",
     "output_type": "stream",
     "text": [
      "Number transactions X_train dataset:  (4632, 7)\n",
      "Number transactions y_train dataset:  (4632,)\n",
      "Number transactions X_test dataset:  (1158, 7)\n",
      "Number transactions y_test dataset:  (1158,)\n"
     ]
    }
   ],
   "source": [
    "from imblearn.over_sampling import SMOTE\n",
    "from sklearn.model_selection import train_test_split\n",
    "\n",
    "#defining SMOTE\n",
    "os = SMOTE(random_state=0)\n",
    "\n",
    "#splitting the dataset\n",
    "X_train, X_test, y_train, y_test = train_test_split(X_filtered, y, test_size=0.2, random_state=0)\n",
    "\n",
    "print(\"Number transactions X_train dataset: \", X_train.shape)\n",
    "print(\"Number transactions y_train dataset: \", y_train.shape)\n",
    "print(\"Number transactions X_test dataset: \", X_test.shape)\n",
    "print(\"Number transactions y_test dataset: \", y_test.shape)\n"
   ]
  },
  {
   "cell_type": "code",
   "execution_count": 29,
   "metadata": {},
   "outputs": [
    {
     "data": {
      "text/plain": [
       "<matplotlib.axes._subplots.AxesSubplot at 0x2738a67bc18>"
      ]
     },
     "execution_count": 29,
     "metadata": {},
     "output_type": "execute_result"
    },
    {
     "data": {
      "image/png": "[encoded data removed]",
      "text/plain": [
       "<Figure size 432x288 with 1 Axes>"
      ]
     },
     "metadata": {
      "needs_background": "light"
     },
     "output_type": "display_data"
    }
   ],
   "source": [
    "pd.Series(y_test).value_counts().plot.bar()"
   ]
  },
  {
   "cell_type": "code",
   "execution_count": 55,
   "metadata": {},
   "outputs": [],
   "source": [
    "#Performing SMOTE resampling on our dataset\n",
    "\n",
    "columns = X_train.columns\n",
    "\n",
    "os_data_X, os_data_y = os.fit_sample(X_train, y_train.ravel())\n",
    "#os_data_X = pd.DataFrame(data=os_data_X,columns=columns)\n",
    "#os_data_y= pd.DataFrame(data=os_data_y,columns=['y'])"
   ]
  },
  {
   "cell_type": "code",
   "execution_count": 56,
   "metadata": {},
   "outputs": [
    {
     "data": {
      "text/plain": [
       "<matplotlib.axes._subplots.AxesSubplot at 0x27385f17320>"
      ]
     },
     "execution_count": 56,
     "metadata": {},
     "output_type": "execute_result"
    },
    {
     "data": {
      "image/png": "[encoded data removed]",
      "text/plain": [
       "<Figure size 432x288 with 1 Axes>"
      ]
     },
     "metadata": {
      "needs_background": "light"
     },
     "output_type": "display_data"
    }
   ],
   "source": [
    "# observe that data has been balanced\n",
    "pd.Series(os_data_y).value_counts().plot.bar()"
   ]
  },
  {
   "cell_type": "code",
   "execution_count": null,
   "metadata": {},
   "outputs": [],
   "source": []
  },
  {
   "cell_type": "markdown",
   "metadata": {},
   "source": [
    "# RANDOM FOREST"
   ]
  },
  {
   "cell_type": "code",
   "execution_count": 57,
   "metadata": {},
   "outputs": [
    {
     "data": {
      "text/plain": [
       "RandomForestClassifier(bootstrap=True, class_weight=None, criterion='gini',\n",
       "                       max_depth=None, max_features='auto', max_leaf_nodes=None,\n",
       "                       min_impurity_decrease=0.0, min_impurity_split=None,\n",
       "                       min_samples_leaf=1, min_samples_split=2,\n",
       "                       min_weight_fraction_leaf=0.0, n_estimators=10000,\n",
       "                       n_jobs=-1, oob_score=False, random_state=0, verbose=0,\n",
       "                       warm_start=False)"
      ]
     },
     "execution_count": 57,
     "metadata": {},
     "output_type": "execute_result"
    }
   ],
   "source": [
    "# Create a new random forest classifier for the most important features\n",
    "clf = RandomForestClassifier(n_estimators=10000, random_state=0, n_jobs=-1)\n",
    "\n",
    "# Train the new classifier on the new dataset containing the most important features\n",
    "clf.fit(os_data_X, os_data_y)"
   ]
  },
  {
   "cell_type": "code",
   "execution_count": 58,
   "metadata": {},
   "outputs": [
    {
     "data": {
      "text/plain": [
       "0.9335060449050087"
      ]
     },
     "execution_count": 58,
     "metadata": {},
     "output_type": "execute_result"
    }
   ],
   "source": [
    "from sklearn.metrics import accuracy_score\n",
    "\n",
    "# Apply The Full Featured Classifier To The Limited feature Test Data\n",
    "y_rf_pred = clf.predict(X_test)\n",
    "\n",
    "# View The Accuracy Of Our Limited Feature Model\n",
    "accuracy_score(y_test, y_rf_pred)"
   ]
  },
  {
   "cell_type": "code",
   "execution_count": 59,
   "metadata": {},
   "outputs": [
    {
     "name": "stdout",
     "output_type": "stream",
     "text": [
      "[[1032   52]\n",
      " [  25   49]]\n",
      "              precision    recall  f1-score   support\n",
      "\n",
      "           0       0.98      0.95      0.96      1084\n",
      "           1       0.49      0.66      0.56        74\n",
      "\n",
      "    accuracy                           0.93      1158\n",
      "   macro avg       0.73      0.81      0.76      1158\n",
      "weighted avg       0.94      0.93      0.94      1158\n",
      "\n"
     ]
    }
   ],
   "source": [
    "from sklearn.metrics import confusion_matrix, classification_report\n",
    "\n",
    "results = confusion_matrix(y_test, y_rf_pred)\n",
    "print(results)\n",
    "print(classification_report(y_test, y_rf_pred))"
   ]
  },
  {
   "cell_type": "code",
   "execution_count": 60,
   "metadata": {},
   "outputs": [
    {
     "name": "stdout",
     "output_type": "stream",
     "text": [
      "True Negatives:  1032\n",
      "False Positives:  52\n",
      "False Negatives:  25\n",
      "True Positives:  49\n"
     ]
    }
   ],
   "source": [
    "from sklearn.metrics import confusion_matrix\n",
    "\n",
    "tn, fp, fn, tp = confusion_matrix(y_test, y_rf_pred).ravel()\n",
    "print(\"True Negatives: \",tn)\n",
    "print(\"False Positives: \",fp)\n",
    "print(\"False Negatives: \",fn)\n",
    "print(\"True Positives: \",tp)"
   ]
  },
  {
   "cell_type": "code",
   "execution_count": 61,
   "metadata": {},
   "outputs": [
    {
     "name": "stdout",
     "output_type": "stream",
     "text": [
      "Specificity 0.95\n",
      "Recall / Sensitivity 0.66\n",
      "F1 Score 0.56\n"
     ]
    }
   ],
   "source": [
    "#Specificity\n",
    "Specificity = tn/(tn+fp) \n",
    "print(\"Specificity {:0.2f}\".format(Specificity))\n",
    "\n",
    "#Recall \n",
    "Recall = tp/(tp+fn) \n",
    "print(\"Recall / Sensitivity {:0.2f}\".format(Recall))\n",
    "\n",
    "#Precision\n",
    "Precision = tp / (tp + fp)\n",
    "\n",
    "#F1 Score\n",
    "f1 = (2*(Precision*Recall)/(Precision + Recall))\n",
    "print(\"F1 Score {:0.2f}\".format(f1))"
   ]
  },
  {
   "cell_type": "markdown",
   "metadata": {},
   "source": [
    "#    # BUILDING KNN MODEL"
   ]
  },
  {
   "cell_type": "code",
   "execution_count": 62,
   "metadata": {},
   "outputs": [],
   "source": [
    "import numpy as np\n",
    "from sklearn import neighbors\n",
    "import pandas as pd"
   ]
  },
  {
   "cell_type": "code",
   "execution_count": 63,
   "metadata": {},
   "outputs": [],
   "source": [
    "clf_knn = neighbors.KNeighborsClassifier()"
   ]
  },
  {
   "cell_type": "code",
   "execution_count": 64,
   "metadata": {},
   "outputs": [
    {
     "data": {
      "text/plain": [
       "KNeighborsClassifier(algorithm='auto', leaf_size=30, metric='minkowski',\n",
       "                     metric_params=None, n_jobs=None, n_neighbors=5, p=2,\n",
       "                     weights='uniform')"
      ]
     },
     "execution_count": 64,
     "metadata": {},
     "output_type": "execute_result"
    }
   ],
   "source": [
    "clf_knn.fit(os_data_X, os_data_y)"
   ]
  },
  {
   "cell_type": "code",
   "execution_count": 65,
   "metadata": {},
   "outputs": [
    {
     "data": {
      "text/plain": [
       "0.8376511226252159"
      ]
     },
     "execution_count": 65,
     "metadata": {},
     "output_type": "execute_result"
    }
   ],
   "source": [
    "from sklearn.metrics import accuracy_score\n",
    "\n",
    "# Apply The Full Featured Classifier To The Limited feature Test Data\n",
    "y_knn_pred = clf_knn.predict(X_test)\n",
    "\n",
    "# View The Accuracy Of Our Limited Feature Model\n",
    "accuracy_score(y_test, y_knn_pred)"
   ]
  },
  {
   "cell_type": "code",
   "execution_count": 66,
   "metadata": {},
   "outputs": [
    {
     "name": "stdout",
     "output_type": "stream",
     "text": [
      "0.8376511226252159\n"
     ]
    }
   ],
   "source": [
    "accuracy = clf_knn.score(X_test, y_test)\n",
    "print(accuracy)"
   ]
  },
  {
   "cell_type": "code",
   "execution_count": 67,
   "metadata": {},
   "outputs": [
    {
     "name": "stdout",
     "output_type": "stream",
     "text": [
      "True Negatives:  922\n",
      "False Positives:  162\n",
      "False Negatives:  26\n",
      "True Positives:  48\n"
     ]
    }
   ],
   "source": [
    "from sklearn.metrics import confusion_matrix\n",
    "\n",
    "tn, fp, fn, tp = confusion_matrix(y_test, y_knn_pred).ravel()\n",
    "print(\"True Negatives: \",tn)\n",
    "print(\"False Positives: \",fp)\n",
    "print(\"False Negatives: \",fn)\n",
    "print(\"True Positives: \",tp)"
   ]
  },
  {
   "cell_type": "code",
   "execution_count": 69,
   "metadata": {},
   "outputs": [
    {
     "name": "stdout",
     "output_type": "stream",
     "text": [
      "Specificity 0.85\n",
      "Recall / Sensitivity 0.65\n",
      "F1 Score 0.34\n"
     ]
    }
   ],
   "source": [
    "#Specificity\n",
    "Specificity = tn/(tn+fp) \n",
    "print(\"Specificity {:0.2f}\".format(Specificity))\n",
    "\n",
    "#Recall \n",
    "Recall = tp/(tp+fn) \n",
    "print(\"Recall / Sensitivity {:0.2f}\".format(Recall))\n",
    "\n",
    "#Precision\n",
    "Precision = tp / (tp + fp)\n",
    "\n",
    "#F1 Score\n",
    "f1 = (2*(Precision*Recall)/(Precision + Recall))\n",
    "print(\"F1 Score {:0.2f}\".format(f1))"
   ]
  },
  {
   "cell_type": "markdown",
   "metadata": {},
   "source": [
    "# NEURAL NETWORK"
   ]
  },
  {
   "cell_type": "code",
   "execution_count": 70,
   "metadata": {},
   "outputs": [],
   "source": [
    "from sklearn.preprocessing import StandardScaler "
   ]
  },
  {
   "cell_type": "code",
   "execution_count": 71,
   "metadata": {},
   "outputs": [],
   "source": [
    "# Define the scaler \n",
    "scaler = StandardScaler().fit(os_data_X)\n",
    "\n",
    "# Scale the train set\n",
    "X_nn_res = scaler.transform(os_data_X)\n",
    "\n",
    "# Scale the test set\n",
    "X_nn_test = scaler.transform(X_test)"
   ]
  },
  {
   "cell_type": "code",
   "execution_count": 76,
   "metadata": {},
   "outputs": [],
   "source": [
    "# Import `Sequential` from `keras.models`\n",
    "from keras.models import Sequential\n",
    "\n",
    "# Import `Dense` from `keras.layers`\n",
    "from keras.layers import Dense\n",
    "\n",
    "# Initialize the constructor\n",
    "model = Sequential()\n",
    "\n",
    "# Add an input layer \n",
    "model.add(Dense(12, activation='relu', input_shape=(7,)))\n",
    "\n",
    "# Add one hidden layer \n",
    "model.add(Dense(8, activation='relu'))\n",
    "\n",
    "# Add an output layer \n",
    "model.add(Dense(1, activation='sigmoid'))"
   ]
  },
  {
   "cell_type": "code",
   "execution_count": 77,
   "metadata": {},
   "outputs": [
    {
     "data": {
      "text/plain": [
       "[array([[-6.76049292e-02, -2.05230057e-01, -2.28578418e-01,\n",
       "         -3.49040091e-01, -7.77260363e-02, -4.74902064e-01,\n",
       "          4.67702091e-01, -4.36204016e-01, -1.35892242e-01,\n",
       "         -4.75821674e-01,  5.15149415e-01, -2.69975185e-01],\n",
       "        [ 3.13361287e-01, -3.95232499e-01, -1.13066792e-01,\n",
       "          1.11059248e-01,  3.55366051e-01, -3.70821148e-01,\n",
       "         -1.33222133e-01, -3.45862865e-01,  1.89548552e-01,\n",
       "         -4.94099855e-01, -3.47782671e-01, -3.35236013e-01],\n",
       "        [-3.69468510e-01, -5.14218628e-01, -4.67713237e-01,\n",
       "          4.46553886e-01, -1.02344245e-01,  1.46788418e-01,\n",
       "         -1.37614667e-01, -5.42321980e-01, -3.44861656e-01,\n",
       "         -3.41826349e-01,  2.12046921e-01, -5.19871712e-02],\n",
       "        [ 4.00228739e-01, -3.80957127e-03, -5.49478114e-01,\n",
       "         -5.29428720e-01, -2.09102035e-02, -6.10321760e-02,\n",
       "         -3.01753432e-01, -3.60769451e-01,  4.89012897e-01,\n",
       "         -4.31887090e-01, -1.76941335e-01,  5.11088073e-01],\n",
       "        [-2.50213474e-01, -3.45372558e-02,  3.61008048e-02,\n",
       "          9.69787836e-02,  3.06157231e-01,  2.55654752e-01,\n",
       "         -7.19488263e-02, -1.79636180e-01,  1.64099932e-02,\n",
       "          4.80249226e-01, -1.24890089e-01, -2.66667902e-01],\n",
       "        [ 3.81221354e-01,  3.32391202e-01,  5.49267113e-01,\n",
       "         -2.07126141e-04, -1.95436001e-01, -1.27553612e-01,\n",
       "         -1.59362525e-01,  2.98839390e-01,  4.98742402e-01,\n",
       "          4.24461901e-01, -1.35628551e-01, -5.32125056e-01],\n",
       "        [-4.02621895e-01,  2.60513961e-01, -5.45602441e-02,\n",
       "          2.80402422e-01, -3.43262613e-01, -4.25010920e-03,\n",
       "         -1.34643674e-01, -4.38914835e-01, -8.34793746e-02,\n",
       "         -6.81245029e-02, -1.03550345e-01,  8.66814852e-02]], dtype=float32),\n",
       " array([0., 0., 0., 0., 0., 0., 0., 0., 0., 0., 0., 0.], dtype=float32),\n",
       " array([[-0.2327011 , -0.05033341, -0.04970008,  0.08130652,  0.32077867,\n",
       "         -0.23119739,  0.32792687, -0.5444289 ],\n",
       "        [ 0.4106508 ,  0.48480642,  0.05804253, -0.3740759 ,  0.39254224,\n",
       "          0.27430487, -0.00236517,  0.25846505],\n",
       "        [-0.43711492,  0.43684554, -0.14384577,  0.21954405, -0.11754274,\n",
       "         -0.5136786 , -0.11660525,  0.13974375],\n",
       "        [-0.42010868,  0.21703088,  0.53992975, -0.2042869 ,  0.4499591 ,\n",
       "          0.40242875,  0.46356928,  0.41042787],\n",
       "        [ 0.03374791, -0.45991376,  0.27335477,  0.22905904,  0.49272394,\n",
       "         -0.10400045, -0.04660529,  0.34837842],\n",
       "        [ 0.5224166 ,  0.24355066, -0.48620725,  0.27511507, -0.31738862,\n",
       "          0.16301244,  0.28916258, -0.54750186],\n",
       "        [-0.40729952, -0.12233713, -0.03570306,  0.34372377, -0.2423383 ,\n",
       "          0.42218763, -0.3502227 ,  0.48462796],\n",
       "        [-0.516898  ,  0.42683142, -0.41322568,  0.16446233, -0.35060623,\n",
       "         -0.18952164, -0.45007518,  0.12970304],\n",
       "        [ 0.34720105,  0.35428238, -0.30148742,  0.51187515,  0.22899175,\n",
       "         -0.32036942, -0.1871464 ,  0.22095126],\n",
       "        [-0.09338373,  0.24066252, -0.00956815, -0.05364889,  0.17375404,\n",
       "         -0.3982084 , -0.49205127, -0.38221395],\n",
       "        [-0.26786277, -0.09002879, -0.52434707,  0.5311724 ,  0.23880017,\n",
       "          0.5025464 , -0.5126851 ,  0.12901694],\n",
       "        [ 0.40975797,  0.45259917,  0.2833218 , -0.06447327,  0.48590088,\n",
       "          0.29243052, -0.45525074, -0.49415556]], dtype=float32),\n",
       " array([0., 0., 0., 0., 0., 0., 0., 0.], dtype=float32),\n",
       " array([[ 0.71893346],\n",
       "        [-0.46213278],\n",
       "        [ 0.23422348],\n",
       "        [ 0.51597404],\n",
       "        [-0.06537944],\n",
       "        [ 0.68771577],\n",
       "        [ 0.6845614 ],\n",
       "        [-0.63090366]], dtype=float32),\n",
       " array([0.], dtype=float32)]"
      ]
     },
     "execution_count": 77,
     "metadata": {},
     "output_type": "execute_result"
    }
   ],
   "source": [
    "# Model output shape\n",
    "model.output_shape\n",
    "\n",
    "# Model summary\n",
    "model.summary\n",
    "\n",
    "# Model config\n",
    "model.get_config()\n",
    "\n",
    "# List all weight tensors \n",
    "model.get_weights()"
   ]
  },
  {
   "cell_type": "code",
   "execution_count": 78,
   "metadata": {},
   "outputs": [
    {
     "name": "stdout",
     "output_type": "stream",
     "text": [
      "Epoch 1/20\n",
      "8600/8600 [==============================] - 49s 6ms/step - loss: 0.5908 - accuracy: 0.7314\n",
      "Epoch 2/20\n",
      "8600/8600 [==============================] - 47s 5ms/step - loss: 0.5244 - accuracy: 0.7635\n",
      "Epoch 3/20\n",
      "8600/8600 [==============================] - 47s 6ms/step - loss: 0.4867 - accuracy: 0.7950\n",
      "Epoch 4/20\n",
      "8600/8600 [==============================] - 47s 6ms/step - loss: 0.4576 - accuracy: 0.8133\n",
      "Epoch 5/20\n",
      "8600/8600 [==============================] - 48s 6ms/step - loss: 0.4379 - accuracy: 0.8194\n",
      "Epoch 6/20\n",
      "8600/8600 [==============================] - 48s 6ms/step - loss: 0.4269 - accuracy: 0.8230\n",
      "Epoch 7/20\n",
      "8600/8600 [==============================] - 47s 5ms/step - loss: 0.4239 - accuracy: 0.8281\n",
      "Epoch 8/20\n",
      "8600/8600 [==============================] - 48s 6ms/step - loss: 0.4158 - accuracy: 0.8278\n",
      "Epoch 9/20\n",
      "8600/8600 [==============================] - 49s 6ms/step - loss: 0.4101 - accuracy: 0.8291\n",
      "Epoch 10/20\n",
      "8600/8600 [==============================] - 48s 6ms/step - loss: 0.4087 - accuracy: 0.8293\n",
      "Epoch 11/20\n",
      "8600/8600 [==============================] - 48s 6ms/step - loss: 0.4052 - accuracy: 0.8323\n",
      "Epoch 12/20\n",
      "8600/8600 [==============================] - 49s 6ms/step - loss: 0.4045 - accuracy: 0.8317\n",
      "Epoch 13/20\n",
      "8600/8600 [==============================] - 48s 6ms/step - loss: 0.4017 - accuracy: 0.8331\n",
      "Epoch 14/20\n",
      "8600/8600 [==============================] - 48s 6ms/step - loss: 0.3993 - accuracy: 0.8322\n",
      "Epoch 15/20\n",
      "8600/8600 [==============================] - 48s 6ms/step - loss: 0.4043 - accuracy: 0.8345\n",
      "Epoch 16/20\n",
      "8600/8600 [==============================] - 49s 6ms/step - loss: 0.3967 - accuracy: 0.8365\n",
      "Epoch 17/20\n",
      "8600/8600 [==============================] - 48s 6ms/step - loss: 0.3934 - accuracy: 0.8358\n",
      "Epoch 18/20\n",
      "8600/8600 [==============================] - 48s 6ms/step - loss: 0.3938 - accuracy: 0.8370\n",
      "Epoch 19/20\n",
      "8600/8600 [==============================] - 48s 6ms/step - loss: 0.3892 - accuracy: 0.8386\n",
      "Epoch 20/20\n",
      "8600/8600 [==============================] - 46s 5ms/step - loss: 0.3860 - accuracy: 0.8405\n"
     ]
    },
    {
     "data": {
      "text/plain": [
       "<keras.callbacks.callbacks.History at 0x27387538978>"
      ]
     },
     "execution_count": 78,
     "metadata": {},
     "output_type": "execute_result"
    }
   ],
   "source": [
    "model.compile(loss='binary_crossentropy',\n",
    "              optimizer='adam',\n",
    "              metrics=['accuracy'])\n",
    "                   \n",
    "model.fit(X_nn_res, os_data_y,epochs=20, batch_size=1, verbose=1)"
   ]
  },
  {
   "cell_type": "code",
   "execution_count": 87,
   "metadata": {},
   "outputs": [],
   "source": [
    "y_nn_pred = model.predict(X_test)"
   ]
  },
  {
   "cell_type": "code",
   "execution_count": 81,
   "metadata": {},
   "outputs": [
    {
     "name": "stdout",
     "output_type": "stream",
     "text": [
      "1158/1158 [==============================] - 0s 174us/step\n",
      "[0.7156369352587764, 0.8739205598831177]\n"
     ]
    }
   ],
   "source": [
    "score = model.evaluate(X_nn_test, y_test,verbose=1)\n",
    "\n",
    "print(score)"
   ]
  },
  {
   "cell_type": "code",
   "execution_count": 89,
   "metadata": {},
   "outputs": [
    {
     "ename": "ValueError",
     "evalue": "Classification metrics can't handle a mix of binary and continuous targets",
     "output_type": "error",
     "traceback": [
      "\u001b[1;31m---------------------------------------------------------------------------\u001b[0m",
      "\u001b[1;31mValueError\u001b[0m                                Traceback (most recent call last)",
      "\u001b[1;32m<ipython-input-89-a25ea61ccd61>\u001b[0m in \u001b[0;36m<module>\u001b[1;34m\u001b[0m\n\u001b[0;32m      3\u001b[0m \u001b[1;33m\u001b[0m\u001b[0m\n\u001b[0;32m      4\u001b[0m \u001b[1;31m# Confusion matrix\u001b[0m\u001b[1;33m\u001b[0m\u001b[1;33m\u001b[0m\u001b[1;33m\u001b[0m\u001b[0m\n\u001b[1;32m----> 5\u001b[1;33m \u001b[0mconfusion_matrix\u001b[0m\u001b[1;33m(\u001b[0m\u001b[0my_test\u001b[0m\u001b[1;33m,\u001b[0m \u001b[0my_nn_pred\u001b[0m\u001b[1;33m)\u001b[0m\u001b[1;33m\u001b[0m\u001b[1;33m\u001b[0m\u001b[0m\n\u001b[0m",
      "\u001b[1;32mc:\\users\\shant\\appdata\\local\\programs\\python\\python37\\lib\\site-packages\\sklearn\\metrics\\classification.py\u001b[0m in \u001b[0;36mconfusion_matrix\u001b[1;34m(y_true, y_pred, labels, sample_weight)\u001b[0m\n\u001b[0;32m    251\u001b[0m \u001b[1;33m\u001b[0m\u001b[0m\n\u001b[0;32m    252\u001b[0m     \"\"\"\n\u001b[1;32m--> 253\u001b[1;33m     \u001b[0my_type\u001b[0m\u001b[1;33m,\u001b[0m \u001b[0my_true\u001b[0m\u001b[1;33m,\u001b[0m \u001b[0my_pred\u001b[0m \u001b[1;33m=\u001b[0m \u001b[0m_check_targets\u001b[0m\u001b[1;33m(\u001b[0m\u001b[0my_true\u001b[0m\u001b[1;33m,\u001b[0m \u001b[0my_pred\u001b[0m\u001b[1;33m)\u001b[0m\u001b[1;33m\u001b[0m\u001b[1;33m\u001b[0m\u001b[0m\n\u001b[0m\u001b[0;32m    254\u001b[0m     \u001b[1;32mif\u001b[0m \u001b[0my_type\u001b[0m \u001b[1;32mnot\u001b[0m \u001b[1;32min\u001b[0m \u001b[1;33m(\u001b[0m\u001b[1;34m\"binary\"\u001b[0m\u001b[1;33m,\u001b[0m \u001b[1;34m\"multiclass\"\u001b[0m\u001b[1;33m)\u001b[0m\u001b[1;33m:\u001b[0m\u001b[1;33m\u001b[0m\u001b[1;33m\u001b[0m\u001b[0m\n\u001b[0;32m    255\u001b[0m         \u001b[1;32mraise\u001b[0m \u001b[0mValueError\u001b[0m\u001b[1;33m(\u001b[0m\u001b[1;34m\"%s is not supported\"\u001b[0m \u001b[1;33m%\u001b[0m \u001b[0my_type\u001b[0m\u001b[1;33m)\u001b[0m\u001b[1;33m\u001b[0m\u001b[1;33m\u001b[0m\u001b[0m\n",
      "\u001b[1;32mc:\\users\\shant\\appdata\\local\\programs\\python\\python37\\lib\\site-packages\\sklearn\\metrics\\classification.py\u001b[0m in \u001b[0;36m_check_targets\u001b[1;34m(y_true, y_pred)\u001b[0m\n\u001b[0;32m     79\u001b[0m     \u001b[1;32mif\u001b[0m \u001b[0mlen\u001b[0m\u001b[1;33m(\u001b[0m\u001b[0my_type\u001b[0m\u001b[1;33m)\u001b[0m \u001b[1;33m>\u001b[0m \u001b[1;36m1\u001b[0m\u001b[1;33m:\u001b[0m\u001b[1;33m\u001b[0m\u001b[1;33m\u001b[0m\u001b[0m\n\u001b[0;32m     80\u001b[0m         raise ValueError(\"Classification metrics can't handle a mix of {0} \"\n\u001b[1;32m---> 81\u001b[1;33m                          \"and {1} targets\".format(type_true, type_pred))\n\u001b[0m\u001b[0;32m     82\u001b[0m \u001b[1;33m\u001b[0m\u001b[0m\n\u001b[0;32m     83\u001b[0m     \u001b[1;31m# We can't have more than one value on y_type => The set is no more needed\u001b[0m\u001b[1;33m\u001b[0m\u001b[1;33m\u001b[0m\u001b[1;33m\u001b[0m\u001b[0m\n",
      "\u001b[1;31mValueError\u001b[0m: Classification metrics can't handle a mix of binary and continuous targets"
     ]
    }
   ],
   "source": [
    "# Import the modules from `sklearn.metrics`\n",
    "from sklearn.metrics import confusion_matrix, precision_score, recall_score, f1_score, cohen_kappa_score\n",
    "\n",
    "# Confusion matrix\n",
    "confusion_matrix(y_test, y_nn_pred)"
   ]
  },
  {
   "cell_type": "code",
   "execution_count": null,
   "metadata": {},
   "outputs": [],
   "source": []
  },
  {
   "cell_type": "code",
   "execution_count": null,
   "metadata": {},
   "outputs": [],
   "source": []
  },
  {
   "cell_type": "code",
   "execution_count": null,
   "metadata": {},
   "outputs": [],
   "source": []
  }
 ],
 "metadata": {
  "kernelspec": {
   "display_name": "Python 3",
   "language": "python",
   "name": "python3"
  },
  "language_info": {
   "codemirror_mode": {
    "name": "ipython",
    "version": 3
   },
   "file_extension": ".py",
   "mimetype": "text/x-python",
   "name": "python",
   "nbconvert_exporter": "python",
   "pygments_lexer": "ipython3",
   "version": "3.7.2"
  }
 },
 "nbformat": 4,
 "nbformat_minor": 2
}
